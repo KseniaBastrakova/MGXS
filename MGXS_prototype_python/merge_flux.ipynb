{
 "cells": [
  {
   "cell_type": "code",
   "execution_count": 1,
   "metadata": {},
   "outputs": [],
   "source": [
    "import numpy as np\n",
    "import math"
   ]
  },
  {
   "cell_type": "code",
   "execution_count": 2,
   "metadata": {},
   "outputs": [],
   "source": [
    "def get_k_effective_from_file(file_name):\n",
    "    count = 0\n",
    "    lines = []\n",
    "    with open(file_name) as fp:\n",
    "        for line in fp:\n",
    "            count += 1\n",
    "            lines.append(line)\n",
    "\n",
    "    line_array = []\n",
    "    for line in lines:\n",
    "        line_array.append(line.split())\n",
    "        \n",
    "    k_effective_sample  = []\n",
    "\n",
    "    for line in line_array:\n",
    "        k_effective_sample.append(float(line[3]))\n",
    "    \n",
    "    return k_effective_sample"
   ]
  },
  {
   "cell_type": "code",
   "execution_count": 3,
   "metadata": {},
   "outputs": [],
   "source": [
    "def merge_k_effective_files(files):\n",
    "    \n",
    "    merged_k_effective = []\n",
    "    for file in files:\n",
    "        k_effective_values = get_k_effective_from_file(file)\n",
    "        merged_k_effective.extend(k_effective_values)\n",
    "        \n",
    "    return merged_k_effective"
   ]
  },
  {
   "cell_type": "code",
   "execution_count": 4,
   "metadata": {},
   "outputs": [],
   "source": [
    "def compute_k_effective_mean(k_effective):\n",
    "    \n",
    "    mean_k_effective = []\n",
    "    for i in range(1, len(k_effective)):\n",
    "        mean_k_effective.append(sum(k_effective[:i]) / i)\n",
    "    return mean_k_effective"
   ]
  },
  {
   "cell_type": "code",
   "execution_count": 5,
   "metadata": {},
   "outputs": [],
   "source": [
    "def compute_std(iterations_skip, k_effective):\n",
    "    \n",
    "    sample_std = []\n",
    "    for i in range(iterations_skip, len(k_effective)):\n",
    "        sample_std.append(np.std(k_effective[:i])/ np.sqrt(i - 1))\n",
    "        \n",
    "    return sample_std"
   ]
  },
  {
   "cell_type": "code",
   "execution_count": 6,
   "metadata": {},
   "outputs": [],
   "source": [
    "def another_way_to_compute_std(iterations_skip, k_effective):\n",
    "    \n",
    "    average = sum(k_effective) / len(k_effective)\n",
    "    sum_average = 0.\n",
    "    \n",
    "    for i in range(0, len(k_effective)):\n",
    "        sum_average += (k_effective[i] - average) * (k_effective[i] - average)\n",
    "    \n",
    "    sum_average = np.sqrt(sum_average / (len(k_effective) * (len(k_effective) - 1)))\n",
    "    return sum_average\n",
    "        \n",
    "    "
   ]
  },
  {
   "cell_type": "code",
   "execution_count": 7,
   "metadata": {},
   "outputs": [],
   "source": [
    "def get_mean_std_by_sample(files):\n",
    "    \n",
    "    iterations_skip = 2\n",
    "    k_effective = merge_k_effective_files(files)\n",
    "    \n",
    "    k_effective_mean = compute_k_effective_mean(k_effective)\n",
    "    sample_std = compute_std(iterations_skip, k_effective)\n",
    "    std_another_way = another_way_to_compute_std(iterations_skip, k_effective)\n",
    "    \n",
    "    print(\"number iterations \"+ str(len(k_effective)))\n",
    "    print(\"k effective  \" + str(k_effective_mean[-1]))\n",
    "    print(\" std [pcm]  \"+ str(sample_std[-1] * 100000))\n",
    "    print(\" std 2 [pcm]  \"+ str(std_another_way * 100000))\n",
    "    \n",
    "    return k_effective_mean[-1], sample_std[-1], std_another_way"
   ]
  },
  {
   "cell_type": "code",
   "execution_count": 29,
   "metadata": {},
   "outputs": [],
   "source": [
    "sub_path = \"/home/xeinia/Documents/bastra74/MG_measurings_b1/reactor_flux_3/\"\n",
    "file_name_zero = \"/result_flux0.txt\"\n",
    "file_name_1 = \"/result_flux1.txt\"\n",
    "file_name_2 = \"/result_flux2.txt\"\n",
    "file_name_3 = \"/result_flux3.txt\"\n",
    "file_name_4 = \"/result_flux4.txt\"\n",
    "\n",
    "\n",
    "names_measurings = [file_name_zero, file_name_1, file_name_2, file_name_3, file_name_4]\n"
   ]
  },
  {
   "cell_type": "code",
   "execution_count": 9,
   "metadata": {},
   "outputs": [],
   "source": [
    "def get_file_names(sub_path, output_file_name, idx_start, idx_end):\n",
    "    \n",
    "    result_names = []\n",
    "    \n",
    "    for i in range(idx_start, idx_end):\n",
    "        if i != 4:\n",
    "            current_name = sub_path + str(i) + output_file_name\n",
    "            result_names.append(current_name)\n",
    "        \n",
    "    return result_names"
   ]
  },
  {
   "cell_type": "code",
   "execution_count": 20,
   "metadata": {},
   "outputs": [],
   "source": [
    "names_measurings = get_file_names(sub_path, file_name_zero, 2, 41)"
   ]
  },
  {
   "cell_type": "code",
   "execution_count": 30,
   "metadata": {},
   "outputs": [
    {
     "name": "stdout",
     "output_type": "stream",
     "text": [
      "['/result_flux0.txt', '/result_flux1.txt', '/result_flux2.txt', '/result_flux3.txt', '/result_flux4.txt']\n"
     ]
    }
   ],
   "source": [
    "print(names_measurings)"
   ]
  },
  {
   "cell_type": "code",
   "execution_count": 31,
   "metadata": {},
   "outputs": [],
   "source": [
    "def get_flux_from_file(file_name):\n",
    "    count = 0\n",
    "    lines = []\n",
    "    with open(file_name) as fp:\n",
    "        for line in fp:\n",
    "            count += 1\n",
    "            lines.append(line)\n",
    "\n",
    "    line_array = []\n",
    "    for line in lines:\n",
    "        line_array.append(line.split())\n",
    "        \n",
    "    flux_sample  = []\n",
    "    for line in line_array:\n",
    "        flux_sample.append(float(line[1]))\n",
    "    \n",
    "    return flux_sample"
   ]
  },
  {
   "cell_type": "code",
   "execution_count": 32,
   "metadata": {},
   "outputs": [],
   "source": [
    "def get_flux_value(sub_path, file_name, idx_start, idx_end):\n",
    "    \n",
    "    merged_flux = []\n",
    "    for i in range(idx_start, idx_end):\n",
    "        if i == 11:\n",
    "            continue\n",
    "        \n",
    "        if i == 31:\n",
    "            continue\n",
    "        result_name = sub_path + str(i) + file_name\n",
    "        \n",
    "        current_flux = get_flux_from_file(result_name)\n",
    "        current_flux = current_flux[10: len(current_flux) - 1]\n",
    "        merged_flux.extend(current_flux)\n",
    "        \n",
    "    return merged_flux\n",
    "        "
   ]
  },
  {
   "cell_type": "code",
   "execution_count": 33,
   "metadata": {},
   "outputs": [],
   "source": [
    "zero_point = get_flux_value(sub_path, file_name_zero, 2, 41)\n",
    "zero_point = sum(zero_point) / len(zero_point)"
   ]
  },
  {
   "cell_type": "code",
   "execution_count": 34,
   "metadata": {},
   "outputs": [
    {
     "name": "stdout",
     "output_type": "stream",
     "text": [
      "435.85245174598003\n"
     ]
    }
   ],
   "source": [
    "print(zero_point)"
   ]
  },
  {
   "cell_type": "code",
   "execution_count": 35,
   "metadata": {},
   "outputs": [],
   "source": [
    "def get_std(values):\n",
    "    \n",
    "    current_std = np.std(values)/np.sqrt((len(values) - 1.))\n",
    "  \n",
    "    return current_std   "
   ]
  },
  {
   "cell_type": "code",
   "execution_count": 43,
   "metadata": {},
   "outputs": [],
   "source": [
    "def get_fluxes(sub_path, file_names, idx_start, idx_end, zero_point):\n",
    "\n",
    "    result_fluxes = []\n",
    "    result_std = []\n",
    "    for name in file_names:\n",
    "        result_flux = get_flux_value(sub_path, name, idx_start, idx_end)\n",
    "        normalise_flux = np.array(result_flux)\n",
    "        current_std = get_std(normalise_flux)\n",
    "        result_fluxes.append(sum(normalise_flux)/len(normalise_flux))\n",
    "        \n",
    "    return result_fluxes, result_std   \n",
    "    "
   ]
  },
  {
   "cell_type": "code",
   "execution_count": 44,
   "metadata": {},
   "outputs": [],
   "source": [
    "result_fluxes, result_std = get_fluxes(sub_path, names_measurings, 2, 41, zero_point)"
   ]
  },
  {
   "cell_type": "code",
   "execution_count": 45,
   "metadata": {},
   "outputs": [
    {
     "name": "stdout",
     "output_type": "stream",
     "text": [
      "[435.85245174598003, 528.5239167793286, 128.55914202952954, 227.49682896268308, 1257.142280898431]\n"
     ]
    }
   ],
   "source": [
    "print(result_fluxes)"
   ]
  },
  {
   "cell_type": "code",
   "execution_count": 61,
   "metadata": {},
   "outputs": [],
   "source": [
    "\n",
    "\n",
    "zero_estimator = result_fluxes[0]\n",
    "\n",
    "average_value = result_fluxes[0]\n",
    "zero_point = average_value / (0.317337461 * 0.1)\n"
   ]
  },
  {
   "cell_type": "code",
   "execution_count": 62,
   "metadata": {},
   "outputs": [],
   "source": [
    "average_value = result_fluxes[1]\n",
    "average_value = average_value / ( zero_point * 0.317337461 * 0.1)"
   ]
  },
  {
   "cell_type": "code",
   "execution_count": 63,
   "metadata": {},
   "outputs": [
    {
     "name": "stdout",
     "output_type": "stream",
     "text": [
      "1.2126211855918587\n"
     ]
    }
   ],
   "source": [
    "print(average_value)"
   ]
  },
  {
   "cell_type": "code",
   "execution_count": 64,
   "metadata": {},
   "outputs": [
    {
     "name": "stdout",
     "output_type": "stream",
     "text": [
      " difference from beachmark [pcm]  -1691.6814408141302  with standart deviation [pcm]+- \n"
     ]
    }
   ],
   "source": [
    "difference = (average_value - 1.229538) * 100000\n",
    "print(\" difference from beachmark [pcm]  \" + str(difference) + \"  with standart deviation [pcm]+- \" )\n"
   ]
  },
  {
   "cell_type": "code",
   "execution_count": 65,
   "metadata": {},
   "outputs": [
    {
     "name": "stdout",
     "output_type": "stream",
     "text": [
      " difference from beachmark [pcm]  -2231.881998443641  with standart deviation [pcm]+- \n"
     ]
    }
   ],
   "source": [
    "average_value = result_fluxes[2]\n",
    "average_value = average_value / (zero_point * 2. * 0.317337461 * 0.01)\n",
    "\n",
    "\n",
    "difference = (average_value - 1.49712) * 100000\n",
    "\n",
    "print(\" difference from beachmark [pcm]  \" + str(difference) + \"  with standart deviation [pcm]+- \" )\n"
   ]
  },
  {
   "cell_type": "code",
   "execution_count": 59,
   "metadata": {},
   "outputs": [
    {
     "name": "stdout",
     "output_type": "stream",
     "text": [
      " difference from beachmark [pcm]  -2000.311120005116  with standart deviation [pcm]+- \n"
     ]
    }
   ],
   "source": [
    "U_Fe_estimator = result_fluxes[3]\n",
    "average_value = U_Fe_estimator\n",
    "average_value = average_value / (zero_point * (5.754395005 - 5.437057544)  * 0.04)\n",
    "difference = (average_value - 1.324899) * 100000\n",
    "\n",
    "print(\" difference from beachmark [pcm]  \" + str(difference) + \"  with standart deviation [pcm]+- \")\n",
    "\n"
   ]
  },
  {
   "cell_type": "code",
   "execution_count": 60,
   "metadata": {},
   "outputs": [
    {
     "name": "stdout",
     "output_type": "stream",
     "text": [
      " difference from beachmark [pcm]  176.65407195003314  with standart deviation [pcm]+- \n"
     ]
    }
   ],
   "source": [
    "\n",
    "average_value = result_fluxes[4]\n",
    "average_value = average_value / ( zero_point * (7.757166007 -5.754395005) * 0.05)\n",
    "\n",
    "\n",
    "difference = (average_value - 0.912273) * 100000\n",
    "\n",
    "print(\" difference from beachmark [pcm]  \" + str(difference) + \"  with standart deviation [pcm]+- \")\n"
   ]
  },
  {
   "cell_type": "code",
   "execution_count": null,
   "metadata": {},
   "outputs": [],
   "source": []
  },
  {
   "cell_type": "code",
   "execution_count": null,
   "metadata": {},
   "outputs": [],
   "source": []
  },
  {
   "cell_type": "code",
   "execution_count": null,
   "metadata": {},
   "outputs": [],
   "source": []
  },
  {
   "cell_type": "code",
   "execution_count": 39,
   "metadata": {},
   "outputs": [],
   "source": [
    "test_fluxes = [1.229538, 1.49712, 1.324899, 0.912273]"
   ]
  },
  {
   "cell_type": "code",
   "execution_count": null,
   "metadata": {},
   "outputs": [],
   "source": []
  },
  {
   "cell_type": "code",
   "execution_count": null,
   "metadata": {},
   "outputs": [],
   "source": []
  },
  {
   "cell_type": "code",
   "execution_count": 34,
   "metadata": {},
   "outputs": [],
   "source": [
    "result_fluxes[-1] = result_fluxes[-1] / 0.05"
   ]
  },
  {
   "cell_type": "code",
   "execution_count": 35,
   "metadata": {},
   "outputs": [
    {
     "name": "stdout",
     "output_type": "stream",
     "text": [
      "8.215650382226158e-13 %  7.165661013789383\n",
      "-0.0017813816386396712 %  7.115929063236195\n",
      "0.008439326852241864 %  6.755419137044152\n",
      "0.07938633563562243 %  6.186733449234411\n",
      "-1.8665821129406668 %  0.9982374526811431\n"
     ]
    }
   ],
   "source": [
    "flux_slub = [1., 0.9701734, 0.8810540, 0.7318131, 0.4902592]\n",
    "\n",
    "\n",
    "\n",
    "for i in range(0, len(flux_slub)):\n",
    "    print(str(((flux_slub[i] - result_fluxes[i])/flux_slub[i])* 100) + \" %  \" + str(result_std[i] * 100000))"
   ]
  },
  {
   "cell_type": "code",
   "execution_count": 13,
   "metadata": {},
   "outputs": [],
   "source": [
    "import numpy as np\n",
    "\n",
    "from scipy.interpolate import Rbf, InterpolatedUnivariateSpline\n",
    "\n",
    "import matplotlib.pyplot as plt\n",
    "\n",
    "\n",
    "flux_points = [0., 0.25, 0.5, 0.75, 1.]\n",
    "\n",
    "flux_values = [1., 0.9701734, 0.8810540, 0.7318131, 0.4902592]\n"
   ]
  },
  {
   "cell_type": "code",
   "execution_count": 14,
   "metadata": {},
   "outputs": [],
   "source": [
    "def calculate_int_values(points, flux_values, epsilon, border, radius):\n",
    "    \n",
    "    ius = InterpolatedUnivariateSpline(flux_points, flux_values)\n",
    "    result_ints = []\n",
    "    for i in range(1, len(points) - 1):\n",
    "        first_point = points[i]  - epsilon / radius\n",
    "        secound_point = points[i]  + epsilon / radius\n",
    "        range_sum = ius.integral(first_point, secound_point)\n",
    "        result_ints.append(range_sum)\n",
    "        \n",
    "    border_sum = ius.integral(1. - border / radius, 1.)\n",
    "    result_ints.append(border_sum)\n",
    "    \n",
    "    return result_ints\n",
    "        "
   ]
  },
  {
   "cell_type": "code",
   "execution_count": 15,
   "metadata": {},
   "outputs": [],
   "source": [
    "epsilon = 0.2\n",
    "radius = 2.256751\n",
    "border = 0.02"
   ]
  },
  {
   "cell_type": "code",
   "execution_count": 16,
   "metadata": {},
   "outputs": [],
   "source": [
    "int_sum = calculate_int_values(flux_points, flux_values, epsilon, border, radius)"
   ]
  },
  {
   "cell_type": "code",
   "execution_count": 17,
   "metadata": {},
   "outputs": [
    {
     "name": "stdout",
     "output_type": "stream",
     "text": [
      "[0.17173920674972554, 0.1559614448121684, 0.1293682268858979, 0.004391867996426392]\n"
     ]
    },
    {
     "ename": "NameError",
     "evalue": "name 'result_fluxes' is not defined",
     "output_type": "error",
     "traceback": [
      "\u001b[0;31m---------------------------------------------------------------------------\u001b[0m",
      "\u001b[0;31mNameError\u001b[0m                                 Traceback (most recent call last)",
      "\u001b[0;32m<ipython-input-17-04f79e02eedf>\u001b[0m in \u001b[0;36m<module>\u001b[0;34m\u001b[0m\n\u001b[1;32m      1\u001b[0m \u001b[0mprint\u001b[0m\u001b[0;34m(\u001b[0m\u001b[0mint_sum\u001b[0m\u001b[0;34m)\u001b[0m\u001b[0;34m\u001b[0m\u001b[0;34m\u001b[0m\u001b[0m\n\u001b[1;32m      2\u001b[0m \u001b[0;34m\u001b[0m\u001b[0m\n\u001b[0;32m----> 3\u001b[0;31m \u001b[0mprint\u001b[0m\u001b[0;34m(\u001b[0m\u001b[0mresult_fluxes\u001b[0m\u001b[0;34m)\u001b[0m\u001b[0;34m\u001b[0m\u001b[0;34m\u001b[0m\u001b[0m\n\u001b[0m",
      "\u001b[0;31mNameError\u001b[0m: name 'result_fluxes' is not defined"
     ]
    }
   ],
   "source": [
    "print(int_sum)\n",
    "\n",
    "print(result_fluxes)"
   ]
  },
  {
   "cell_type": "code",
   "execution_count": 223,
   "metadata": {},
   "outputs": [],
   "source": [
    "def multiply_flux_on_range(input_flux, epsilon, border, radius):\n",
    "    \n",
    "    normalised_flux = []\n",
    "    for i in range(0, len(input_flux) - 1):\n",
    "        result_flux = input_flux[i] * ( 2. * epsilon / radius)       \n",
    "        normalised_flux.append(result_flux)\n",
    "    \n",
    "    result_flux = input_flux[len(input_flux)] * ( border /radius) \n",
    "    normalised_flux.append(result_flux)\n",
    "    \n",
    "    return normalised_flux\n",
    "    "
   ]
  },
  {
   "cell_type": "code",
   "execution_count": 36,
   "metadata": {},
   "outputs": [],
   "source": [
    "sub_path = \"/home/xeinia/Documents/bastra74/MG_measurings_b1/slab_measurings_10/\"\n",
    "file_name_zero = \"/result_flux0.txt\"\n",
    "file_name_1 = \"/result_flux1.txt\"\n",
    "file_name_2 = \"/result_flux2.txt\"\n",
    "file_name_3 = \"/result_flux3.txt\"\n",
    "file_name_4 = \"/result_flux4.txt\"\n",
    "\n",
    "names_measurings = [file_name_zero, file_name_1,  file_name_2, file_name_3, file_name_4]"
   ]
  },
  {
   "cell_type": "code",
   "execution_count": 37,
   "metadata": {},
   "outputs": [
    {
     "ename": "IndexError",
     "evalue": "list index out of range",
     "output_type": "error",
     "traceback": [
      "\u001b[0;31m---------------------------------------------------------------------------\u001b[0m",
      "\u001b[0;31mIndexError\u001b[0m                                Traceback (most recent call last)",
      "\u001b[0;32m<ipython-input-37-12e3a52e1323>\u001b[0m in \u001b[0;36m<module>\u001b[0;34m\u001b[0m\n\u001b[0;32m----> 1\u001b[0;31m \u001b[0mnormalized_flux\u001b[0m \u001b[0;34m=\u001b[0m \u001b[0mmultiply_flux_on_range\u001b[0m\u001b[0;34m(\u001b[0m\u001b[0mresult_fluxes\u001b[0m\u001b[0;34m[\u001b[0m\u001b[0;36m1\u001b[0m\u001b[0;34m:\u001b[0m\u001b[0;34m]\u001b[0m\u001b[0;34m,\u001b[0m \u001b[0mepsilon\u001b[0m\u001b[0;34m,\u001b[0m \u001b[0mborder\u001b[0m\u001b[0;34m,\u001b[0m \u001b[0mradius\u001b[0m\u001b[0;34m)\u001b[0m\u001b[0;34m\u001b[0m\u001b[0;34m\u001b[0m\u001b[0m\n\u001b[0m",
      "\u001b[0;32m<ipython-input-35-c3c147dbe297>\u001b[0m in \u001b[0;36mmultiply_flux_on_range\u001b[0;34m(input_flux, epsilon, border, radius)\u001b[0m\n\u001b[1;32m      6\u001b[0m         \u001b[0mnormalised_flux\u001b[0m\u001b[0;34m.\u001b[0m\u001b[0mappend\u001b[0m\u001b[0;34m(\u001b[0m\u001b[0mresult_flux\u001b[0m\u001b[0;34m)\u001b[0m\u001b[0;34m\u001b[0m\u001b[0;34m\u001b[0m\u001b[0m\n\u001b[1;32m      7\u001b[0m \u001b[0;34m\u001b[0m\u001b[0m\n\u001b[0;32m----> 8\u001b[0;31m     \u001b[0mresult_flux\u001b[0m \u001b[0;34m=\u001b[0m \u001b[0minput_flux\u001b[0m\u001b[0;34m[\u001b[0m\u001b[0;36m3\u001b[0m\u001b[0;34m]\u001b[0m \u001b[0;34m*\u001b[0m \u001b[0;34m(\u001b[0m \u001b[0mborder\u001b[0m \u001b[0;34m/\u001b[0m\u001b[0mradius\u001b[0m\u001b[0;34m)\u001b[0m\u001b[0;34m\u001b[0m\u001b[0;34m\u001b[0m\u001b[0m\n\u001b[0m\u001b[1;32m      9\u001b[0m     \u001b[0mnormalised_flux\u001b[0m\u001b[0;34m.\u001b[0m\u001b[0mappend\u001b[0m\u001b[0;34m(\u001b[0m\u001b[0mresult_flux\u001b[0m\u001b[0;34m)\u001b[0m\u001b[0;34m\u001b[0m\u001b[0;34m\u001b[0m\u001b[0m\n\u001b[1;32m     10\u001b[0m \u001b[0;34m\u001b[0m\u001b[0m\n",
      "\u001b[0;31mIndexError\u001b[0m: list index out of range"
     ]
    }
   ],
   "source": [
    "normalized_flux = multiply_flux_on_range(result_fluxes[1:], epsilon, border, radius)"
   ]
  },
  {
   "cell_type": "code",
   "execution_count": 48,
   "metadata": {},
   "outputs": [
    {
     "name": "stdout",
     "output_type": "stream",
     "text": [
      "[0.17196237998623876, 0.15615008389905582, 0.12960794352521987, 0.004425922846909083]\n"
     ]
    }
   ],
   "source": [
    "print(normalized_flux)"
   ]
  },
  {
   "cell_type": "code",
   "execution_count": 49,
   "metadata": {},
   "outputs": [
    {
     "name": "stdout",
     "output_type": "stream",
     "text": [
      "[0.17173920674972554, 0.1559614448121684, 0.1293682268858979, 0.004391867996426392]\n"
     ]
    }
   ],
   "source": [
    "print(int_sum)"
   ]
  },
  {
   "cell_type": "code",
   "execution_count": 50,
   "metadata": {},
   "outputs": [
    {
     "name": "stdout",
     "output_type": "stream",
     "text": [
      "i === 0  -0.12994891541478226\n",
      "i === 1  -0.1209523848119123\n",
      "i === 2  -0.18529792445357252\n",
      "i === 3  -0.7754069682968978\n"
     ]
    }
   ],
   "source": [
    "for i in range(0, len(normalized_flux)):\n",
    "    relative_difference = ((int_sum[i] - normalized_flux[i])/ int_sum[i]) * 100\n",
    "    \n",
    "    print(\"i === \" + str(i) + str(\"  \") + str(relative_difference))"
   ]
  },
  {
   "cell_type": "code",
   "execution_count": null,
   "metadata": {},
   "outputs": [],
   "source": []
  },
  {
   "cell_type": "code",
   "execution_count": null,
   "metadata": {},
   "outputs": [],
   "source": []
  },
  {
   "cell_type": "code",
   "execution_count": null,
   "metadata": {},
   "outputs": [],
   "source": []
  },
  {
   "cell_type": "code",
   "execution_count": 75,
   "metadata": {},
   "outputs": [
    {
     "name": "stdout",
     "output_type": "stream",
     "text": [
      "[0.9701734, 1.0, 0.9701734, 0.881054, 0.7318131, 0.4902592]\n"
     ]
    }
   ],
   "source": [
    "print(flux_slub)"
   ]
  },
  {
   "cell_type": "code",
   "execution_count": 76,
   "metadata": {},
   "outputs": [],
   "source": [
    "flux_slub = [0.9701734, 1.0, 0.9701734, 0.881054, 0.7318131, 0.4902592]"
   ]
  },
  {
   "cell_type": "code",
   "execution_count": 77,
   "metadata": {},
   "outputs": [],
   "source": [
    "flux_points = [0, 0.25, 0.5, 0.75, 1]"
   ]
  },
  {
   "cell_type": "code",
   "execution_count": 78,
   "metadata": {},
   "outputs": [],
   "source": [
    "flux_points_1 = [-0.25, 0, 0.25, 0.5, 0.75, 1]"
   ]
  },
  {
   "cell_type": "code",
   "execution_count": 79,
   "metadata": {},
   "outputs": [],
   "source": [
    "import matplotlib.pyplot as plt"
   ]
  },
  {
   "cell_type": "code",
   "execution_count": 80,
   "metadata": {},
   "outputs": [
    {
     "data": {
      "text/plain": [
       "<matplotlib.legend.Legend at 0x7fe0df50b520>"
      ]
     },
     "execution_count": 80,
     "metadata": {},
     "output_type": "execute_result"
    },
    {
     "data": {
      "image/png": "[encoded data removed]",
      "text/plain": [
       "<Figure size 576x576 with 1 Axes>"
      ]
     },
     "metadata": {
      "needs_background": "light"
     },
     "output_type": "display_data"
    }
   ],
   "source": [
    "import matplotlib.pyplot as plt\n",
    "plt.figure(figsize=(8, 8))\n",
    "plt.title(\"normalized flux\", fontsize = 15)\n",
    "plt.xlabel(\"flux points \", fontsize = 15)\n",
    "plt.ylabel(\"normalized flux\", fontsize = 15)\n",
    "\n",
    "\n",
    "plt.plot(flux_points_1, flux_slub, marker = 's', markersize=10, label=\"expected\")\n",
    "plt.plot(flux_points, result_fluxes, label=\"actual\")\n",
    "plt.legend()"
   ]
  },
  {
   "cell_type": "code",
   "execution_count": 133,
   "metadata": {},
   "outputs": [],
   "source": []
  },
  {
   "cell_type": "code",
   "execution_count": 135,
   "metadata": {},
   "outputs": [],
   "source": []
  },
  {
   "cell_type": "code",
   "execution_count": null,
   "metadata": {},
   "outputs": [],
   "source": []
  },
  {
   "cell_type": "code",
   "execution_count": null,
   "metadata": {},
   "outputs": [],
   "source": []
  },
  {
   "cell_type": "code",
   "execution_count": 19,
   "metadata": {},
   "outputs": [],
   "source": [
    "def divide_estimators_square(average_number_of_collision, radius, epsilon):\n",
    "    average_number_of_collision[0] /= np.pi * epsilon * epsilon\n",
    "    \n",
    "    average_number_of_collision[1] /= np.pi * ((radius * 0.5 + epsilon) * (radius * 0.5 + epsilon) -\n",
    "                                            (radius * 0.5 - epsilon) * (radius * 0.5 - epsilon))\n",
    "    \n",
    "    average_number_of_collision[2] /= np.pi * ((radius) * (radius) -\n",
    "                                            (radius - 0.05) * (radius - 0.05))\n",
    "    \n",
    "    \n",
    "    \n",
    "    result_estimators = [ average_number_of_collision[1]/\n",
    "                         average_number_of_collision[0], average_number_of_collision[2]/ average_number_of_collision[0]]\n",
    "    \n",
    "    return result_estimators, average_number_of_collision[0]"
   ]
  },
  {
   "cell_type": "code",
   "execution_count": 20,
   "metadata": {},
   "outputs": [],
   "source": [
    "def get_fluxes_cylinder(sub_path, file_names, idx_start, idx_end, radius, epsilon, border):\n",
    "    print(\" sub_path \"+ str(sub_path))\n",
    "    \n",
    "    result_fluxes = []\n",
    "    result_std = []\n",
    "    i = 0\n",
    "    zero_value = 0.\n",
    "    for name in file_names:\n",
    "        result_flux = get_flux_value(sub_path, name, idx_start, idx_end)\n",
    "        normalise_flux = np.array(result_flux)\n",
    "        if i == 0:\n",
    "            normalise_flux = normalise_flux / (np.pi * epsilon * epsilon)\n",
    "            zero_value = normalise_flux\n",
    "            \n",
    "        if i == 1:\n",
    "            normalise_flux = normalise_flux / (np.pi * ((radius * 0.5 + epsilon) * (radius * 0.5 + epsilon) -\n",
    "                                            (radius * 0.5 - epsilon) * (radius * 0.5 - epsilon)))\n",
    "            normalise_flux = normalise_flux / zero_value\n",
    "            \n",
    "        if i == 2:\n",
    "            normalise_flux = normalise_flux / (np.pi * ((radius) * (radius) -\n",
    "                                            (radius - border) * (radius - border)))\n",
    "            normalise_flux = normalise_flux / zero_value\n",
    "        i = i + 1\n",
    "                \n",
    "            \n",
    "            \n",
    "        current_std = get_std(normalise_flux)\n",
    "        print(\"current std  \"+ str(current_std * 100000) )\n",
    "        result_std.append(current_std)\n",
    "        result_fluxes.append(sum(normalise_flux)/ len(normalise_flux))\n",
    "        \n",
    "    return result_fluxes, result_std   "
   ]
  },
  {
   "cell_type": "code",
   "execution_count": 224,
   "metadata": {},
   "outputs": [],
   "source": [
    "sub_path = \"/home/xeinia/Documents/measurings_simple_geometry/MG_measurings_b1/cylinder_more_calculation/0.05/\"\n",
    "file_name_zero = \"/result_flux.txt0.txt\"\n",
    "file_name_1 = \"/result_flux.txt1.txt\"\n",
    "file_name_2 = \"/result_flux.txt2.txt\"\n",
    "\n",
    "names_measurings = [file_name_zero, file_name_1, file_name_2]"
   ]
  },
  {
   "cell_type": "code",
   "execution_count": 225,
   "metadata": {},
   "outputs": [],
   "source": [
    "radius = 4.279960\n",
    "epsilon = 0.05\n",
    "border = 0.05"
   ]
  },
  {
   "cell_type": "code",
   "execution_count": 226,
   "metadata": {},
   "outputs": [],
   "source": [
    "zero_point = get_flux_value(sub_path, file_name_zero, 1, 31)\n",
    "zero_point = sum(zero_point) / len(zero_point)"
   ]
  },
  {
   "cell_type": "code",
   "execution_count": 227,
   "metadata": {},
   "outputs": [
    {
     "name": "stdout",
     "output_type": "stream",
     "text": [
      " sub_path /home/xeinia/Documents/measurings_simple_geometry/MG_measurings_b1/cylinder_more_calculation/0.05/\n",
      "current std  11.425934312198553\n",
      "current std  83.15064851839645\n",
      "current std  31.372307892356897\n"
     ]
    }
   ],
   "source": [
    "result_fluxes, result_std = get_fluxes_cylinder(sub_path, names_measurings, 1, 31, radius, epsilon, border)"
   ]
  },
  {
   "cell_type": "code",
   "execution_count": 228,
   "metadata": {},
   "outputs": [],
   "source": [
    "result_fluxes = result_fluxes[1:]"
   ]
  },
  {
   "cell_type": "code",
   "execution_count": 229,
   "metadata": {},
   "outputs": [
    {
     "name": "stdout",
     "output_type": "stream",
     "text": [
      "[0.8211745527074473, 0.3088037159516564]\n"
     ]
    }
   ],
   "source": [
    "print(result_fluxes)"
   ]
  },
  {
   "cell_type": "code",
   "execution_count": 230,
   "metadata": {},
   "outputs": [],
   "source": [
    "test_flux = [0.8093, 0.2926]"
   ]
  },
  {
   "cell_type": "code",
   "execution_count": 231,
   "metadata": {},
   "outputs": [
    {
     "name": "stdout",
     "output_type": "stream",
     "text": [
      "1.4672621657540228\n",
      "5.537838671106074\n"
     ]
    }
   ],
   "source": [
    "\n",
    "\n",
    "\n",
    "\n",
    "# In[312]:\n",
    "\n",
    "\n",
    "for i in range(0, len(test_flux)):\n",
    "    print(str(((result_fluxes[i] - test_flux[i])/test_flux[i]* 100)))"
   ]
  },
  {
   "cell_type": "code",
   "execution_count": 232,
   "metadata": {},
   "outputs": [],
   "source": [
    "flux_points = [0., 0.5, 1.]"
   ]
  },
  {
   "cell_type": "code",
   "execution_count": 238,
   "metadata": {},
   "outputs": [
    {
     "name": "stdout",
     "output_type": "stream",
     "text": [
      "[0.8211745527074473, 0.3088037159516564]\n"
     ]
    }
   ],
   "source": [
    "print(result_fluxes)"
   ]
  },
  {
   "cell_type": "code",
   "execution_count": 233,
   "metadata": {},
   "outputs": [
    {
     "name": "stdout",
     "output_type": "stream",
     "text": [
      "[0.0, 0.5, 1.0]\n",
      "[1, 0.8093, 0.2926]\n"
     ]
    }
   ],
   "source": [
    "test_flux = [1, 0.8093, 0.2926]\n",
    "print(flux_points)\n",
    "print(test_flux)"
   ]
  },
  {
   "cell_type": "code",
   "execution_count": 234,
   "metadata": {},
   "outputs": [],
   "source": [
    "from scipy.interpolate import interp1d\n",
    "\n",
    "import scipy.integrate as integrate"
   ]
  },
  {
   "cell_type": "code",
   "execution_count": 235,
   "metadata": {},
   "outputs": [
    {
     "name": "stdout",
     "output_type": "stream",
     "text": [
      "[0.0, 0.5, 1.0]\n",
      "[1, 0.8093, 0.2926]\n"
     ]
    }
   ],
   "source": [
    "print(flux_points)\n",
    "print(test_flux)\n",
    "ius = interp1d(flux_points, test_flux)\n",
    "result_ints = []\n",
    "for i in range(1, len(flux_points) - 1):\n",
    "    first_point = flux_points[i]  - epsilon / radius\n",
    "    secound_point = flux_points[i]  + epsilon / radius\n",
    "    result = integrate.quad(ius, first_point, secound_point)\n",
    "    result_ints.append(result)\n",
    "\n",
    "border_sum = integrate.quad(ius, 1. - border / radius, 1.)\n",
    "result_ints.append(border_sum)"
   ]
  },
  {
   "cell_type": "code",
   "execution_count": 220,
   "metadata": {},
   "outputs": [
    {
     "name": "stdout",
     "output_type": "stream",
     "text": [
      "[(0.01886456360797864, 2.0944075466988732e-16), (0.003488774093297849, 3.873317326095026e-17)]\n"
     ]
    }
   ],
   "source": [
    "print(result_ints)"
   ]
  },
  {
   "cell_type": "code",
   "execution_count": 236,
   "metadata": {},
   "outputs": [],
   "source": [
    "int_flux = [0.01886456360797864, 0.003488774093297849]"
   ]
  },
  {
   "cell_type": "code",
   "execution_count": 239,
   "metadata": {},
   "outputs": [],
   "source": [
    "first = result_fluxes[0] * ( 2. * epsilon / radius)\n",
    "secound = result_fluxes[1] * ( border /radius)\n"
   ]
  },
  {
   "cell_type": "code",
   "execution_count": 241,
   "metadata": {},
   "outputs": [
    {
     "name": "stdout",
     "output_type": "stream",
     "text": [
      "[0.019186500638030436, 0.0036075537616199267]\n"
     ]
    }
   ],
   "source": [
    "result = [first, secound]\n",
    "print(result)"
   ]
  },
  {
   "cell_type": "code",
   "execution_count": 242,
   "metadata": {},
   "outputs": [
    {
     "data": {
      "text/plain": [
       "-0.017065702485459806"
      ]
     },
     "execution_count": 242,
     "metadata": {},
     "output_type": "execute_result"
    }
   ],
   "source": [
    "(int_flux[0] - first)/int_flux[0]"
   ]
  },
  {
   "cell_type": "code",
   "execution_count": 243,
   "metadata": {},
   "outputs": [
    {
     "data": {
      "text/plain": [
       "-0.03404624809335197"
      ]
     },
     "execution_count": 243,
     "metadata": {},
     "output_type": "execute_result"
    }
   ],
   "source": [
    "(int_flux[1] - secound)/int_flux[1]"
   ]
  },
  {
   "cell_type": "code",
   "execution_count": 46,
   "metadata": {},
   "outputs": [],
   "source": [
    "sub_path = \"/home/xeinia/Documents/measurings_simple_geometry/MG_measurings_b1/new_measurings_sphere_new/\"\n",
    "file_name_zero = \"/result_flux.txt0.txt\"\n",
    "file_name_1 = \"/result_flux.txt1.txt\"\n",
    "file_name_2 = \"/result_flux.txt2.txt\"\n",
    "file_name_3 = \"/result_flux.txt3.txt\"\n",
    "file_name_4 = \"/result_flux.txt4.txt\"\n",
    "\n",
    "names_measurings = [file_name_zero, file_name_1, file_name_2, file_name_3, file_name_4]"
   ]
  },
  {
   "cell_type": "code",
   "execution_count": 47,
   "metadata": {},
   "outputs": [],
   "source": [
    "zero_point = get_flux_value(sub_path, file_name_zero, 10, 41)\n",
    "zero_point = sum(zero_point) / len(zero_point)"
   ]
  },
  {
   "cell_type": "code",
   "execution_count": 48,
   "metadata": {},
   "outputs": [
    {
     "name": "stdout",
     "output_type": "stream",
     "text": [
      "3.940555127709216e-05\n"
     ]
    }
   ],
   "source": [
    "print(zero_point)"
   ]
  },
  {
   "cell_type": "code",
   "execution_count": 49,
   "metadata": {},
   "outputs": [],
   "source": [
    "def get_fluxes_sphere(sub_path, file_names, idx_start, idx_end, radius, zenter, epsilon, border):\n",
    "    \n",
    "    result_fluxes = []\n",
    "    result_std = []\n",
    "    i = 0\n",
    "    zero_value = 0.\n",
    "\n",
    "    result_flux = get_flux_value(sub_path, file_names[0], idx_start, idx_end)\n",
    "    normalise_flux = np.array(result_flux)\n",
    "    normalise_flux = normalise_flux / (np.pi * 4/3 * zenter * zenter * zenter)\n",
    "    zero_value = sum(normalise_flux)/ len(normalise_flux)\n",
    "    \n",
    "    current_std = get_std(normalise_flux)\n",
    "    result_std.append(current_std)\n",
    "    result_fluxes.append(sum(normalise_flux)/ len(normalise_flux))\n",
    "    \n",
    "    \n",
    "    result_flux = get_flux_value(sub_path, file_names[1], idx_start, idx_end)\n",
    "    normalise_flux = np.array(result_flux)\n",
    "    normalise_flux = normalise_flux / (np.pi * 4/3 * ((radius * 0.25 + epsilon) * (radius * 0.25 + epsilon) * (radius * 0.25 + epsilon) -\n",
    "                                (radius * 0.25 - epsilon) * (radius * 0.25 - epsilon)* (radius * 0.25 - epsilon)))\n",
    "    normalise_flux = normalise_flux / zero_value\n",
    "    \n",
    "    current_std = get_std(normalise_flux)\n",
    "    result_std.append(current_std)\n",
    "    result_fluxes.append(sum(normalise_flux)/ len(normalise_flux))\n",
    "    \n",
    "    \n",
    "    result_flux = get_flux_value(sub_path, file_names[2], idx_start, idx_end)\n",
    "    normalise_flux = np.array(result_flux)\n",
    "    normalise_flux = normalise_flux / (np.pi * 4/3 * ((radius * 0.5 + epsilon) * (radius * 0.5 + epsilon) * (radius * 0.5 + epsilon) -\n",
    "                                (radius * 0.5 - epsilon) * (radius * 0.5 - epsilon)* (radius * 0.5 - epsilon)))\n",
    "    normalise_flux = normalise_flux / zero_value\n",
    "    \n",
    "    current_std = get_std(normalise_flux)\n",
    "    result_std.append(current_std)\n",
    "    result_fluxes.append(sum(normalise_flux)/ len(normalise_flux))\n",
    "    \n",
    "    \n",
    "    result_flux = get_flux_value(sub_path, file_names[3], idx_start, idx_end)\n",
    "    normalise_flux = np.array(result_flux)\n",
    "    normalise_flux = normalise_flux / (np.pi * 4/3 * ((radius * 0.75 + epsilon) * (radius * 0.75 + epsilon) * (radius * 0.75 + epsilon) -\n",
    "                                (radius * 0.75 - epsilon) * (radius * 0.75 - epsilon)* (radius * 0.75 - epsilon)))\n",
    "    normalise_flux = normalise_flux / zero_value\n",
    "    \n",
    "    current_std = get_std(normalise_flux)\n",
    "    result_std.append(current_std)\n",
    "    result_fluxes.append(sum(normalise_flux)/ len(normalise_flux))\n",
    "    \n",
    "    result_flux = get_flux_value(sub_path, file_names[4], idx_start, idx_end)\n",
    "    normalise_flux = np.array(result_flux)\n",
    "    normalise_flux = normalise_flux / (np.pi * 4/3 * ((radius) * (radius) * (radius) -\n",
    "                                            (radius - border) * (radius - border) * (radius - border)))\n",
    "    normalise_flux = normalise_flux / zero_value\n",
    "    \n",
    "    current_std = get_std(normalise_flux)\n",
    "    result_std.append(current_std)\n",
    "    result_fluxes.append(sum(normalise_flux)/ len(normalise_flux))\n",
    "    \n",
    "    \n",
    "    \n",
    "    return result_fluxes, result_std   "
   ]
  },
  {
   "cell_type": "code",
   "execution_count": 50,
   "metadata": {},
   "outputs": [],
   "source": [
    "result_fluxes, result_std = get_fluxes_sphere(sub_path, names_measurings, 10, 41, 6.082547, 0.1, 0.05, 0.05)"
   ]
  },
  {
   "cell_type": "code",
   "execution_count": 51,
   "metadata": {},
   "outputs": [
    {
     "name": "stdout",
     "output_type": "stream",
     "text": [
      "[4.6629546245777706e-05, 0.00019127082525815424, 8.687724442303425e-05, 4.554091135084795e-05, 3.0248783240048362e-05]\n"
     ]
    }
   ],
   "source": [
    "print(result_std)"
   ]
  },
  {
   "cell_type": "code",
   "execution_count": 52,
   "metadata": {},
   "outputs": [
    {
     "name": "stdout",
     "output_type": "stream",
     "text": [
      "[0.009407382406515567, 0.9389923093430012, 0.7586947756745532, 0.5007825909215997, 0.20098185151055478]\n"
     ]
    }
   ],
   "source": [
    "print(result_fluxes)"
   ]
  },
  {
   "cell_type": "code",
   "execution_count": 124,
   "metadata": {},
   "outputs": [
    {
     "data": {
      "text/plain": [
       "0.008673970000000003"
      ]
     },
     "execution_count": 124,
     "metadata": {},
     "output_type": "execute_result"
    }
   ],
   "source": [
    "0.2009 - 0.19222603"
   ]
  },
  {
   "cell_type": "code",
   "execution_count": 53,
   "metadata": {},
   "outputs": [
    {
     "name": "stdout",
     "output_type": "stream",
     "text": [
      "-0.3861798532460907 % 19.127082525815425\n",
      "-0.3891818690508088 % 8.687724442303425\n",
      "-0.3886891134063042 % 4.5540911350847955\n",
      "-4.554961422526799 % 3.024878324004836\n"
     ]
    }
   ],
   "source": [
    "test_flux = [0.93538006, 0.75575352, 0.49884364, 0.19222603]\n",
    "\n",
    "for i in range(0, len(test_flux)):\n",
    "    print(str(((test_flux[i] - result_fluxes[i + 1])/test_flux[i] )* 100) + \" % \" + str(result_std[i + 1] * 100000))"
   ]
  },
  {
   "cell_type": "code",
   "execution_count": 54,
   "metadata": {},
   "outputs": [],
   "source": [
    "import numpy as np\n",
    "\n",
    "from scipy.interpolate import Rbf, InterpolatedUnivariateSpline\n",
    "\n",
    "import matplotlib.pyplot as plt"
   ]
  },
  {
   "cell_type": "code",
   "execution_count": 55,
   "metadata": {},
   "outputs": [],
   "source": [
    "def calculate_int_values(input_points, flux_values, epsilon, border, radius):\n",
    "    \n",
    "    print(input_points)\n",
    "    print(flux_values)\n",
    "    ius = InterpolatedUnivariateSpline(input_points, flux_values)\n",
    "    result_ints = []\n",
    "    for i in range(1, len(input_points) - 1):\n",
    "        \n",
    "        first_point = input_points[i]  - epsilon / radius\n",
    "        secound_point = input_points[i]  + epsilon / radius\n",
    "        \n",
    "        print(first_point)\n",
    "        print(secound_point)\n",
    "\n",
    "        range_sum = ius.integral(first_point, secound_point)\n",
    "        result_ints.append(range_sum)\n",
    "        \n",
    "    border_sum = ius.integral(1. - border / radius, 1.)\n",
    "    result_ints.append(border_sum)\n",
    "    \n",
    "    return result_ints"
   ]
  },
  {
   "cell_type": "code",
   "execution_count": 56,
   "metadata": {},
   "outputs": [],
   "source": [
    "flux_points = [0, 0.25, 0.5, 0.75, 1]\n",
    "epsilon = 0.05\n",
    "border = 0.05\n",
    "radius = 6.082547"
   ]
  },
  {
   "cell_type": "code",
   "execution_count": 57,
   "metadata": {},
   "outputs": [
    {
     "name": "stdout",
     "output_type": "stream",
     "text": [
      "[0, 0.25, 0.5, 0.75, 1]\n"
     ]
    }
   ],
   "source": [
    "print(flux_points)"
   ]
  },
  {
   "cell_type": "code",
   "execution_count": 58,
   "metadata": {},
   "outputs": [],
   "source": [
    "result_fluxes = [1., 0.9389923093430012, 0.7586947756745532, 0.5007825909215997, 0.20098185151055478]"
   ]
  },
  {
   "cell_type": "code",
   "execution_count": 59,
   "metadata": {},
   "outputs": [
    {
     "name": "stdout",
     "output_type": "stream",
     "text": [
      "[0, 0.25, 0.5, 0.75, 1]\n",
      "[1.0, 0.9389923093430012, 0.7586947756745532, 0.5007825909215997, 0.20098185151055478]\n",
      "0.2417797593672519\n",
      "0.25822024063274807\n",
      "0.49177975936725193\n",
      "0.5082202406327481\n",
      "0.7417797593672519\n",
      "0.7582202406327481\n"
     ]
    }
   ],
   "source": [
    "int_sum = calculate_int_values(flux_points, result_fluxes, epsilon, border, radius)"
   ]
  },
  {
   "cell_type": "code",
   "execution_count": 60,
   "metadata": {},
   "outputs": [
    {
     "name": "stdout",
     "output_type": "stream",
     "text": [
      "[0.015437132078952177, 0.012473081612833123, 0.008232982711015333, 0.0016939120286756032]\n"
     ]
    }
   ],
   "source": [
    "print(int_sum)"
   ]
  },
  {
   "cell_type": "code",
   "execution_count": 61,
   "metadata": {},
   "outputs": [
    {
     "name": "stdout",
     "output_type": "stream",
     "text": [
      "[1.0, 0.9389923093430012, 0.7586947756745532, 0.5007825909215997, 0.20098185151055478]\n"
     ]
    }
   ],
   "source": [
    "print(result_fluxes)"
   ]
  },
  {
   "cell_type": "code",
   "execution_count": 62,
   "metadata": {},
   "outputs": [],
   "source": [
    "result_fluxes = result_fluxes[1:]"
   ]
  },
  {
   "cell_type": "code",
   "execution_count": 63,
   "metadata": {},
   "outputs": [
    {
     "name": "stdout",
     "output_type": "stream",
     "text": [
      "[0.9389923093430012, 0.7586947756745532, 0.5007825909215997, 0.20098185151055478]\n"
     ]
    }
   ],
   "source": [
    "print(result_fluxes)"
   ]
  },
  {
   "cell_type": "code",
   "execution_count": 64,
   "metadata": {},
   "outputs": [],
   "source": [
    "normalized_flux = multiply_flux_on_range(result_fluxes, epsilon, border, radius)"
   ]
  },
  {
   "cell_type": "code",
   "execution_count": 65,
   "metadata": {},
   "outputs": [
    {
     "name": "stdout",
     "output_type": "stream",
     "text": [
      "[0.015437485470198608, 0.012473307245707322, 0.0082331068041332, 0.0016521191822320058]\n"
     ]
    }
   ],
   "source": [
    "print(normalized_flux)"
   ]
  },
  {
   "cell_type": "code",
   "execution_count": 66,
   "metadata": {},
   "outputs": [
    {
     "name": "stdout",
     "output_type": "stream",
     "text": [
      "0.0022892286250030263 % \n",
      "0.0018089585332834873 % \n",
      "0.0015072680488016745 % \n",
      "-2.4672383061281784 % \n"
     ]
    }
   ],
   "source": [
    "for i in range(0, len(test_flux)):\n",
    "    print(str(((normalized_flux[i] - int_sum[i])/int_sum[i] )* 100) + \" % \" )"
   ]
  },
  {
   "cell_type": "code",
   "execution_count": 72,
   "metadata": {},
   "outputs": [],
   "source": [
    "flux_points_1 = [-0.25, 0, 0.25, 0.5, 0.75, 1]\n",
    "\n",
    "test_flux = [0.93538006, 1., 0.93538006, 0.75575352, 0.49884364, 0.19222603]\n",
    "\n",
    "result_fluxes = [1., 0.9389923093430012, 0.7586947756745532, 0.5007825909215997, 0.20098185151055478]"
   ]
  },
  {
   "cell_type": "code",
   "execution_count": null,
   "metadata": {},
   "outputs": [],
   "source": []
  },
  {
   "cell_type": "code",
   "execution_count": null,
   "metadata": {},
   "outputs": [],
   "source": []
  },
  {
   "cell_type": "code",
   "execution_count": 73,
   "metadata": {},
   "outputs": [
    {
     "data": {
      "text/plain": [
       "<matplotlib.legend.Legend at 0x7f71996c4dc0>"
      ]
     },
     "execution_count": 73,
     "metadata": {},
     "output_type": "execute_result"
    },
    {
     "data": {
      "image/png": "[encoded data removed]",
      "text/plain": [
       "<Figure size 576x576 with 1 Axes>"
      ]
     },
     "metadata": {
      "needs_background": "light"
     },
     "output_type": "display_data"
    }
   ],
   "source": [
    "import matplotlib.pyplot as plt\n",
    "plt.figure(figsize=(8, 8))\n",
    "plt.title(\"normalized flux\", fontsize = 15)\n",
    "plt.xlabel(\"flux points \", fontsize = 15)\n",
    "plt.ylabel(\"normalized flux\", fontsize = 15)\n",
    "\n",
    "\n",
    "plt.plot(flux_points_1, test_flux, marker = 's', markersize=10, label=\"expected\")\n",
    "plt.plot(flux_points, result_fluxes, label=\"actual\")\n",
    "plt.legend()"
   ]
  },
  {
   "cell_type": "code",
   "execution_count": 55,
   "metadata": {},
   "outputs": [],
   "source": [
    "def get_fluxes(sub_path, file_names, idx_start, idx_end, zero_point):\n",
    "    print(\" sub_path \"+ str(sub_path))\n",
    "    print( file_names)\n",
    "    \n",
    "    result_fluxes = []\n",
    "    result_std = []\n",
    "    for name in file_names:\n",
    "        result_flux = get_flux_value(sub_path, name, idx_start, idx_end)\n",
    "        normalise_flux = np.array(result_flux) / zero_point\n",
    "        current_std = get_std(normalise_flux)\n",
    "        print(current_std)\n",
    "        print(\"current std  \"+ str(current_std * 100000) )\n",
    "        result_std.append(current_std)\n",
    "        result_fluxes.append(sum(normalise_flux)/ len(normalise_flux))\n",
    "        \n",
    "    return result_fluxes, result_std   \n",
    "    "
   ]
  },
  {
   "cell_type": "code",
   "execution_count": 66,
   "metadata": {},
   "outputs": [],
   "source": [
    "sub_path = \"/home/xeinia/Documents/bastra74/MG_measurings_b1/slab_measurings_10/\"\n",
    "file_name_zero = \"/result_flux0.txt\"\n",
    "file_name_1 = \"/result_flux1.txt\"\n",
    "file_name_2 = \"/result_flux2.txt\"\n",
    "file_name_3 = \"/result_flux3.txt\"\n",
    "file_name_4 = \"/result_flux4.txt\"\n",
    "\n",
    "names_measurings = [file_name_zero, file_name_1, file_name_2, file_name_3, file_name_4]"
   ]
  },
  {
   "cell_type": "code",
   "execution_count": 71,
   "metadata": {},
   "outputs": [],
   "source": [
    "zero_point = get_flux_value(sub_path, file_name_zero, 2, 30)\n",
    "zero_point = sum(zero_point) / (len(zero_point) * (0.1/0.05))"
   ]
  },
  {
   "cell_type": "code",
   "execution_count": 72,
   "metadata": {},
   "outputs": [
    {
     "name": "stdout",
     "output_type": "stream",
     "text": [
      "0.11385102739668114\n"
     ]
    }
   ],
   "source": [
    "print(zero_point)"
   ]
  },
  {
   "cell_type": "code",
   "execution_count": 73,
   "metadata": {},
   "outputs": [
    {
     "name": "stdout",
     "output_type": "stream",
     "text": [
      " sub_path /home/xeinia/Documents/bastra74/MG_measurings_b1/slab_measurings_10/\n",
      "['/result_flux0.txt', '/result_flux1.txt', '/result_flux2.txt', '/result_flux3.txt', '/result_flux4.txt']\n",
      "0.0001363978198977086\n",
      "current std  13.63978198977086\n",
      "9.103733429321933e-05\n",
      "current std  9.103733429321933\n",
      "8.742574581102969e-05\n",
      "current std  8.742574581102968\n",
      "7.968549163095741e-05\n",
      "current std  7.968549163095742\n",
      "2.832553216607257e-05\n",
      "current std  2.832553216607257\n"
     ]
    }
   ],
   "source": [
    "result_fluxes, result_std = get_fluxes(sub_path, names_measurings, 2, 30, zero_point)"
   ]
  },
  {
   "cell_type": "code",
   "execution_count": 61,
   "metadata": {},
   "outputs": [],
   "source": [
    "flux_values = [0.9701734, 0.8810540, 0.7318131, 0.4902592]"
   ]
  },
  {
   "cell_type": "code",
   "execution_count": 79,
   "metadata": {},
   "outputs": [
    {
     "name": "stdout",
     "output_type": "stream",
     "text": [
      "[0.9703260072533928, 0.8813611232674651, 0.7320519413989385, 0.4988382661977512]\n"
     ]
    }
   ],
   "source": [
    "print(result_fluxes)"
   ]
  },
  {
   "cell_type": "code",
   "execution_count": 77,
   "metadata": {},
   "outputs": [],
   "source": [
    "result_fluxes = [0.9703260072533928, 0.8813611232674651, 0.7320519413989385, 0.09976765323955022]"
   ]
  },
  {
   "cell_type": "code",
   "execution_count": 78,
   "metadata": {},
   "outputs": [],
   "source": [
    "result_fluxes[-1] = result_fluxes[-1] /(0.02/0.05) *2."
   ]
  },
  {
   "cell_type": "code",
   "execution_count": 81,
   "metadata": {},
   "outputs": [
    {
     "name": "stdout",
     "output_type": "stream",
     "text": [
      "-0.01572989461397659 % 13.63978198977086\n",
      "-0.034858620182766364 % 9.103733429321933\n",
      "-0.032636939532577784 % 8.742574581102968\n",
      "-1.7499041726807316 % 7.968549163095742\n"
     ]
    }
   ],
   "source": [
    "for i in range(0, len(flux_values)):\n",
    "    print(str(((flux_values[i] - result_fluxes[i])/flux_values[i] )* 100) + \" % \" + str(result_std[i ] * 100000))"
   ]
  },
  {
   "cell_type": "code",
   "execution_count": 94,
   "metadata": {},
   "outputs": [],
   "source": [
    "import numpy as np\n",
    "\n",
    "from scipy.interpolate import Rbf, InterpolatedUnivariateSpline\n",
    "\n",
    "import matplotlib.pyplot as plt\n",
    "\n",
    "\n",
    "flux_points = [0., 0.25, 0.5, 0.75, 1.]\n",
    "\n",
    "flux_values = [1., 0.9701734, 0.8810540, 0.7318131, 0.4902592]"
   ]
  },
  {
   "cell_type": "code",
   "execution_count": 95,
   "metadata": {},
   "outputs": [],
   "source": [
    "def calculate_int_values(points, flux_values, epsilon, border, radius):\n",
    "    \n",
    "    ius = InterpolatedUnivariateSpline(flux_points, flux_values)\n",
    "    result_ints = []\n",
    "    for i in range(1, len(points) - 1):\n",
    "        first_point = points[i]  - epsilon / radius\n",
    "        secound_point = points[i]  + epsilon / radius\n",
    "        range_sum = ius.integral(first_point, secound_point)\n",
    "        result_ints.append(range_sum)\n",
    "        \n",
    "    border_sum = ius.integral(1. - border / radius, 1.)\n",
    "    result_ints.append(border_sum)\n",
    "    \n",
    "    return result_ints\n",
    "        "
   ]
  },
  {
   "cell_type": "code",
   "execution_count": 108,
   "metadata": {},
   "outputs": [],
   "source": [
    "epsilon = 0.05\n",
    "radius = 2.256751\n",
    "border = 0.02"
   ]
  },
  {
   "cell_type": "code",
   "execution_count": 109,
   "metadata": {},
   "outputs": [],
   "source": [
    "int_sum = calculate_int_values(flux_points, flux_values, epsilon, border, radius)"
   ]
  },
  {
   "cell_type": "code",
   "execution_count": 110,
   "metadata": {},
   "outputs": [
    {
     "name": "stdout",
     "output_type": "stream",
     "text": [
      "[0.04298638996512332, 0.03903775303346637, 0.03242237454553718, 0.004391867996426392]\n"
     ]
    }
   ],
   "source": [
    "print(int_sum)\n"
   ]
  },
  {
   "cell_type": "code",
   "execution_count": 105,
   "metadata": {},
   "outputs": [],
   "source": [
    "def multiply_flux_on_range(input_flux, epsilon, border, radius):\n",
    "    \n",
    "    normalised_flux = []\n",
    "    for i in range(0, len(input_flux) - 1):\n",
    "        result_flux = input_flux[i] * ( 2. * epsilon / radius)       \n",
    "        normalised_flux.append(result_flux)\n",
    "    \n",
    "    result_flux = input_flux[3] * ( border /radius) \n",
    "    normalised_flux.append(result_flux)\n",
    "    \n",
    "    return normalised_flux"
   ]
  },
  {
   "cell_type": "code",
   "execution_count": 106,
   "metadata": {},
   "outputs": [],
   "source": [
    "normalized_flux = multiply_flux_on_range(result_fluxes, epsilon, border, radius)"
   ]
  },
  {
   "cell_type": "code",
   "execution_count": 107,
   "metadata": {},
   "outputs": [
    {
     "name": "stdout",
     "output_type": "stream",
     "text": [
      "[0.04299659143846144, 0.03905442484649238, 0.03243831248546865, 0.004420853396743825]\n"
     ]
    }
   ],
   "source": [
    "print(normalized_flux)"
   ]
  },
  {
   "cell_type": "code",
   "execution_count": 112,
   "metadata": {},
   "outputs": [
    {
     "name": "stdout",
     "output_type": "stream",
     "text": [
      "0.023731868031711748\n",
      "0.0427068971201237\n",
      "0.04915722600478188\n",
      "0.6599788595881838\n"
     ]
    }
   ],
   "source": [
    "for i in range(0, len(normalized_flux)):\n",
    "    print(str(((normalized_flux[i] - int_sum[i])/int_sum[i]* 100)))"
   ]
  },
  {
   "cell_type": "code",
   "execution_count": 129,
   "metadata": {},
   "outputs": [],
   "source": [
    "sub_path = \"/home/xeinia/Documents/bastra74/MG_measurings_b1/two_groups_flux_3/\"\n",
    "file_name_zero = \"/result_flux.txt0.txt\"\n",
    "file_name_1 = \"/result_flux.txt1.txt\"\n",
    "\n",
    "names_measurings = [file_name_zero, file_name_1]"
   ]
  },
  {
   "cell_type": "code",
   "execution_count": 133,
   "metadata": {},
   "outputs": [],
   "source": [
    "def get_collision_sum(sub_path, file_names, idx_start, idx_end, zero_point):\n",
    "\n",
    "    result_fluxes = []\n",
    "    result_std = []\n",
    "    for name in file_names:\n",
    "        result_flux = get_flux_value(sub_path, name, idx_start, idx_end)      \n",
    "        result_fluxes.append(result_flux)\n",
    "        \n",
    "    return result_fluxes"
   ]
  },
  {
   "cell_type": "code",
   "execution_count": 134,
   "metadata": {},
   "outputs": [],
   "source": [
    "collision_sum = get_collision_sum(sub_path, names_measurings, 1, 60, zero_point)"
   ]
  },
  {
   "cell_type": "code",
   "execution_count": 135,
   "metadata": {},
   "outputs": [],
   "source": [
    "first_group_flux = []\n",
    "secound_group_flux = []\n",
    "\n",
    "number_particles = 1000\n",
    "cs_total_pu_239 = [0.3360, 0.2208]\n",
    "\n",
    "for i in range(0, len(collision_sum[0]) - 1):\n",
    "    first_group_flux.append(collision_sum[0][i]/(cs_total_pu_239[0]))\n",
    "\n",
    "for i in range(0, len(collision_sum[1]) - 1):\n",
    "    secound_group_flux.append(collision_sum[1][i]/(cs_total_pu_239[1]))\n",
    "    \n",
    "average_flux_difference = []    \n",
    "for i in range(0, len(first_group_flux)):\n",
    "    average_flux_difference.append(secound_group_flux[i]/ first_group_flux[i])\n",
    "\n",
    "std_flux = get_std(average_flux_difference)\n",
    "flux_difference = sum(average_flux_difference)/len(average_flux_difference)"
   ]
  },
  {
   "cell_type": "code",
   "execution_count": 136,
   "metadata": {},
   "outputs": [
    {
     "name": "stdout",
     "output_type": "stream",
     "text": [
      "difference flux == 2.796479467603863with std   1.9912638081524479\n"
     ]
    }
   ],
   "source": [
    "difference = (flux_difference  - 0.675229) * 100000\n",
    "\n",
    "print('difference flux == '+ str(difference)+ 'with std   '+ str(std_flux * 100000))"
   ]
  },
  {
   "cell_type": "code",
   "execution_count": 145,
   "metadata": {},
   "outputs": [],
   "source": [
    "sub_path = \"/home/xeinia/Documents/bastra74/MG_measurings_b1/three_groups_flux_1/\"\n",
    "file_name_zero = \"/result_flux.txt0.txt\"\n",
    "file_name_1 = \"/result_flux.txt1.txt\"\n",
    "file_name_2 = \"/result_flux.txt2.txt\"\n",
    "\n",
    "names_measurings = [file_name_zero, file_name_1, file_name_2]"
   ]
  },
  {
   "cell_type": "code",
   "execution_count": 146,
   "metadata": {},
   "outputs": [],
   "source": [
    "collision_sum = get_collision_sum(sub_path, names_measurings, 1, 60, zero_point)"
   ]
  },
  {
   "cell_type": "code",
   "execution_count": 148,
   "metadata": {},
   "outputs": [],
   "source": [
    "first_group_flux = []\n",
    "secound_group_flux = []\n",
    "third_group_flux = []\n",
    "\n",
    "number_particles = 1000\n",
    "cs_total_pu_239 = [3.10, 0.975, 0.24]\n",
    "\n",
    "for i in range(0, len(collision_sum[0]) - 1):\n",
    "    first_group_flux.append(collision_sum[0][i]/(cs_total_pu_239[0]))\n",
    "\n",
    "for i in range(0, len(collision_sum[1]) - 1):\n",
    "    secound_group_flux.append(collision_sum[1][i]/(cs_total_pu_239[1]))\n",
    "\n",
    "for i in range(0, len(collision_sum[2]) - 1):\n",
    "    third_group_flux.append(collision_sum[2][i]/(cs_total_pu_239[2]))\n",
    "    \n",
    "\n",
    "average_flux_difference_1 = []    \n",
    "for i in range(0, len(first_group_flux)):\n",
    "    average_flux_difference_1.append(first_group_flux[i] / secound_group_flux[i])\n",
    "    \n",
    "average_flux_difference_2 = []    \n",
    "for i in range(1, len(first_group_flux)):\n",
    "    average_flux_difference_2.append(first_group_flux[i] / third_group_flux[i])\n",
    "    \n",
    "average_flux_difference_3 = []    \n",
    "for i in range(1, len(first_group_flux)):\n",
    "    average_flux_difference_3.append(secound_group_flux[i] / third_group_flux[i])\n",
    "\n",
    "std_flux_1 = get_std(average_flux_difference_1)\n",
    "flux_difference_1 = sum(average_flux_difference_1)/len(average_flux_difference_1)\n",
    "\n",
    "std_flux_2 = get_std(average_flux_difference_2)\n",
    "flux_difference_2 = sum(average_flux_difference_2)/len(average_flux_difference_2)\n",
    "\n",
    "std_flux_3 = get_std(average_flux_difference_3)\n",
    "flux_difference_3 = sum(average_flux_difference_3)/len(average_flux_difference_3)"
   ]
  },
  {
   "cell_type": "code",
   "execution_count": 149,
   "metadata": {},
   "outputs": [
    {
     "name": "stdout",
     "output_type": "stream",
     "text": [
      "group 1 to group 2 flux difference flux == -0.10632320747161472with std   0.8990331501019803\n",
      "group 1 to group 2 flux difference flux == 0.09311702541814348with std   0.3375585917978973\n",
      "group 1 to group 2 flux difference flux == 0.9779748113891706with std   1.0068877615992704\n"
     ]
    }
   ],
   "source": [
    "difference = (flux_difference_1 - 0.3125) * 100000\n",
    "\n",
    "print('group 1 to group 2 flux difference flux == '+ str(difference)+ 'with std   '+ str(std_flux_1 * 100000))\n",
    "\n",
    "\n",
    "# In[81]:\n",
    "\n",
    "\n",
    "difference = (flux_difference_2 - 0.150) * 100000\n",
    "\n",
    "print('group 1 to group 2 flux difference flux == '+ str(difference)+ 'with std   '+ str(std_flux_2 * 100000))\n",
    "\n",
    "\n",
    "# In[82]:\n",
    "\n",
    "\n",
    "difference = (flux_difference_3 - 0.480) * 100000\n",
    "\n",
    "print('group 1 to group 2 flux difference flux == '+ str(difference)+ 'with std   '+ str(std_flux_3 * 100000))\n"
   ]
  },
  {
   "cell_type": "code",
   "execution_count": 150,
   "metadata": {},
   "outputs": [],
   "source": [
    "sub_path = \"/home/xeinia/Documents/bastra74/MG_measurings_b1/six_groups_flux_1/\"\n",
    "file_name_zero = \"/result_flux.txt0.txt\"\n",
    "file_name_1 = \"/result_flux.txt1.txt\"\n",
    "file_name_2 = \"/result_flux.txt2.txt\"\n",
    "file_name_3 = \"/result_flux.txt3.txt\"\n",
    "file_name_4 = \"/result_flux.txt4.txt\"\n",
    "file_name_5 = \"/result_flux.txt5.txt\"\n",
    "\n",
    "names_measurings = [file_name_zero, file_name_1, file_name_2, file_name_3, file_name_4, file_name_5]"
   ]
  },
  {
   "cell_type": "code",
   "execution_count": 151,
   "metadata": {},
   "outputs": [],
   "source": [
    "collision_sum = get_collision_sum(sub_path, names_measurings, 1, 60, zero_point)"
   ]
  },
  {
   "cell_type": "code",
   "execution_count": 152,
   "metadata": {},
   "outputs": [],
   "source": [
    "first_group_flux = []\n",
    "secound_group_flux = []\n",
    "third_group_flux = []\n",
    "\n",
    "group4_flux = []\n",
    "group5_flux = []\n",
    "group6_flux = []\n",
    "\n",
    "cs_total_pu_239 = [0.240, 0.975, 3.10, 3.10, 0.975, 0.240]\n",
    "\n",
    "for i in range(20, len(collision_sum[0]) - 1):\n",
    "    first_group_flux.append(collision_sum[0][i]/(cs_total_pu_239[0]))\n",
    "\n",
    "for i in range(20, len(collision_sum[1]) - 1):\n",
    "    secound_group_flux.append(collision_sum[1][i]/(cs_total_pu_239[1]))\n",
    "\n",
    "for i in range(20, len(collision_sum[2]) - 1):\n",
    "    third_group_flux.append(collision_sum[2][i]/(cs_total_pu_239[2]))\n",
    "    \n",
    "    \n",
    "for i in range(20, len(collision_sum[3]) - 1):\n",
    "    group4_flux.append(collision_sum[3][i]/(cs_total_pu_239[3]))\n",
    "\n",
    "for i in range(20, len(collision_sum[4]) - 1):\n",
    "    group5_flux.append(collision_sum[4][i]/(cs_total_pu_239[4]))\n",
    "\n",
    "for i in range(20, len(collision_sum[5]) - 1):\n",
    "    group6_flux.append(collision_sum[5][i]/(cs_total_pu_239[5]))\n",
    "    \n",
    "\n",
    "average_flux_difference_1 = []    \n",
    "for i in range(0, len(first_group_flux)):\n",
    "    average_flux_difference_1.append(secound_group_flux[i] / first_group_flux[i])\n",
    "    \n",
    "average_flux_difference_2 = []    \n",
    "for i in range(0, len(first_group_flux)):\n",
    "    average_flux_difference_2.append(third_group_flux[i] / secound_group_flux[i])\n",
    "    \n",
    "average_flux_difference_3 = []    \n",
    "for i in range(0, len(first_group_flux)):\n",
    "    average_flux_difference_3.append(third_group_flux[i] / first_group_flux[i])\n",
    "    \n",
    "average_flux_difference_4 = []    \n",
    "for i in range(0, len(first_group_flux)):\n",
    "    average_flux_difference_4.append(group5_flux[i] /group6_flux[i])\n",
    "    \n",
    "average_flux_difference_5 = []    \n",
    "for i in range(0, len(first_group_flux)):\n",
    "    average_flux_difference_5.append(group4_flux[i] / group6_flux[i])\n",
    "    \n",
    "average_flux_difference_6 = []    \n",
    "for i in range(0, len(first_group_flux)):\n",
    "    average_flux_difference_6.append(group4_flux[i] / group5_flux[i])\n",
    "\n",
    "    \n",
    "std_flux_1 = get_std(average_flux_difference_1)\n",
    "flux_difference_1 = sum(average_flux_difference_1)/len(average_flux_difference_1)\n",
    "\n",
    "std_flux_2 = get_std(average_flux_difference_2)\n",
    "flux_difference_2 = sum(average_flux_difference_2)/len(average_flux_difference_2)\n",
    "\n",
    "std_flux_3 = get_std(average_flux_difference_3)\n",
    "flux_difference_3 = sum(average_flux_difference_3)/len(average_flux_difference_3)\n",
    "\n",
    "\n",
    "std_flux_4 = get_std(average_flux_difference_4)\n",
    "flux_difference_4 = sum(average_flux_difference_4)/len(average_flux_difference_4)\n",
    "\n",
    "std_flux_5 = get_std(average_flux_difference_5)\n",
    "flux_difference_5 = sum(average_flux_difference_5)/len(average_flux_difference_5)\n",
    "\n",
    "std_flux_6 = get_std(average_flux_difference_6)\n",
    "flux_difference_6 = sum(average_flux_difference_6)/len(average_flux_difference_6)\n"
   ]
  },
  {
   "cell_type": "code",
   "execution_count": 153,
   "metadata": {},
   "outputs": [
    {
     "name": "stdout",
     "output_type": "stream",
     "text": [
      "group 1 to group 2 flux difference flux == 1.2759724942135175with std   1.5582900390948562\n",
      "group 1 to group 2 flux difference flux == -1.01546923375051with std   0.9640494096300319\n",
      "group 1 to group 2 flux difference flux == -0.31313018713230445with std   0.45824621816559996\n",
      "0.48000130370749955\n",
      "group 1 to group 2 flux difference flux == 0.13037074995669862with std   1.5517716414341831\n",
      "group 1 to group 2 flux difference flux == -0.2699339730599659with std   0.4567716887054572\n",
      "group 1 to group 2 flux difference flux == -0.1767034072397422with std   0.9688831469095497\n"
     ]
    }
   ],
   "source": [
    "\n",
    "difference = (flux_difference_1 - 0.480) * 100000\n",
    "\n",
    "print('group 1 to group 2 flux difference flux == '+ str(difference)+ 'with std   '+ str(std_flux_1 * 100000))\n",
    "\n",
    "\n",
    "# In[108]:\n",
    "\n",
    "\n",
    "difference = (flux_difference_2 - 0.3125) * 100000\n",
    "\n",
    "print('group 1 to group 2 flux difference flux == '+ str(difference)+ 'with std   '+ str(std_flux_2 * 100000))\n",
    "\n",
    "\n",
    "# In[109]:\n",
    "\n",
    "\n",
    "difference = (flux_difference_3 - 0.150) * 100000\n",
    "\n",
    "print('group 1 to group 2 flux difference flux == '+ str(difference)+ 'with std   '+ str(std_flux_3 * 100000))\n",
    "\n",
    "\n",
    "# In[111]:\n",
    "\n",
    "\n",
    "print(flux_difference_4)\n",
    "\n",
    "\n",
    "# In[112]:\n",
    "\n",
    "\n",
    "difference = (flux_difference_4 - 0.480) * 100000\n",
    "\n",
    "print('group 1 to group 2 flux difference flux == '+ str(difference)+ 'with std   '+ str(std_flux_4 * 100000))\n",
    "\n",
    "\n",
    "# In[113]:\n",
    "\n",
    "\n",
    "difference = (flux_difference_5 - 0.150) * 100000\n",
    "\n",
    "print('group 1 to group 2 flux difference flux == '+ str(difference)+ 'with std   '+ str(std_flux_5 * 100000))\n",
    "\n",
    "\n",
    "# In[114]:\n",
    "\n",
    "\n",
    "difference = (flux_difference_6 - 0.3125) * 100000\n",
    "\n",
    "print('group 1 to group 2 flux difference flux == '+ str(difference)+ 'with std   '+ str(std_flux_6 * 100000))\n",
    "\n",
    "\n",
    "# In[115]:"
   ]
  },
  {
   "cell_type": "code",
   "execution_count": 158,
   "metadata": {},
   "outputs": [],
   "source": [
    "sub_path = \"/home/xeinia/Documents/bastra74/MG_measurings_b1/reactor_flux/\"\n",
    "file_name_zero = \"/result_flux0.txt\"\n",
    "file_name_1 = \"/result_flux1.txt\"\n",
    "file_name_2 = \"/result_flux2.txt\"\n",
    "file_name_3 = \"/result_flux3.txt\"\n",
    "file_name_4 = \"/result_flux4.txt\"\n",
    "\n",
    "names_measurings = [file_name_zero, file_name_1, file_name_2, file_name_3, file_name_4]"
   ]
  },
  {
   "cell_type": "code",
   "execution_count": 159,
   "metadata": {},
   "outputs": [],
   "source": [
    "collision_sum = get_collision_sum(sub_path, names_measurings, 1, 60, zero_point)"
   ]
  },
  {
   "cell_type": "code",
   "execution_count": 162,
   "metadata": {},
   "outputs": [
    {
     "name": "stdout",
     "output_type": "stream",
     "text": [
      "216.2321180582989\n",
      " difference from beachmark [pcm]  64.71988329752598  with standart deviation [pcm]+- 46.55610600125237\n",
      " difference from beachmark [pcm]  -173.11862189489213  with standart deviation [pcm]+- 51.18386525739337\n",
      "1.3131873767328104\n",
      " difference from beachmark [pcm]  -117.11623267189664  with standart deviation [pcm]+- 51.18386525739337\n",
      " difference from beachmark [pcm]  -40.2849999721866  with standart deviation [pcm]+- 40.19834088040879\n"
     ]
    }
   ],
   "source": [
    "\n",
    "\n",
    "\n",
    "average_value = sum(collision_sum[0])/len(collision_sum[0])\n",
    "zero_point = average_value \n",
    "print(average_value)\n",
    "\n",
    "\n",
    "\n",
    "\n",
    "\n",
    "average_value = sum(collision_sum[1])/len(collision_sum[2])\n",
    "average_value = average_value / ( zero_point)\n",
    "\n",
    "average_array = np.array(collision_sum[1])\n",
    "average_array = average_array / zero_point\n",
    "current_std = get_std(average_array)\n",
    "\n",
    "\n",
    "# In[94]:\n",
    "\n",
    "\n",
    "difference = (average_value - 1.229538) * 100000\n",
    "\n",
    "print(\" difference from beachmark [pcm]  \" + str(difference) + \"  with standart deviation [pcm]+- \" + str(current_std * 100000))\n",
    "\n",
    "\n",
    "\n",
    "average_value = sum(collision_sum[2])/len(collision_sum[2])\n",
    "average_value = average_value / (zero_point)\n",
    "\n",
    "\n",
    "average_array = np.array(collision_sum[2])\n",
    "average_array = average_array / zero_point\n",
    "current_std = get_std(average_array)\n",
    "\n",
    "\n",
    "# In[96]:\n",
    "\n",
    "\n",
    "difference = (average_value - 1.49712) * 10000\n",
    "\n",
    "print(\" difference from beachmark [pcm]  \" + str(difference) + \"  with standart deviation [pcm]+- \" + str(current_std * 100000))\n",
    "\n",
    "\n",
    "# In[97]:\n",
    "\n",
    "\n",
    "\n",
    "average_value = sum(collision_sum[3])/len(collision_sum[3])\n",
    "average_value = average_value / (zero_point)\n",
    "print(average_value)\n",
    "\n",
    "\n",
    "# In[98]:\n",
    "\n",
    "\n",
    "difference = (average_value - 1.324899) * 10000\n",
    "\n",
    "print(\" difference from beachmark [pcm]  \" + str(difference) + \"  with standart deviation [pcm]+- \" + str(current_std * 100000))\n",
    "\n",
    "\n",
    "\n",
    "average_value = sum(collision_sum[4])/len(collision_sum[4])\n",
    "average_value = average_value / ( zero_point)\n",
    "\n",
    "average_array = np.array(collision_sum[4])\n",
    "average_array = average_array / zero_point\n",
    "current_std = get_std(average_array)\n",
    "\n",
    "\n",
    "# In[100]:\n",
    "\n",
    "\n",
    "difference = (average_value - 0.912273) * 10000\n",
    "\n",
    "print(\" difference from beachmark [pcm]  \" + str(difference) + \"  with standart deviation [pcm]+- \" + str(current_std * 100000))\n",
    "\n",
    "\n",
    "# In[101]:\n"
   ]
  },
  {
   "cell_type": "code",
   "execution_count": 187,
   "metadata": {},
   "outputs": [],
   "source": [
    "sub_path = \"/home/xeinia/Documents/bastra74/MG_measurings_b1/two_groups_two_materials/\"\n",
    "file_name_zero = \"/output.txt\"\n"
   ]
  },
  {
   "cell_type": "code",
   "execution_count": 194,
   "metadata": {},
   "outputs": [],
   "source": [
    "merged_names = [] \n",
    "for i in range(1, 110):\n",
    "    if i !=4:\n",
    "        result_name = sub_path + str(i) + file_name_zero\n",
    "        merged_names.append(result_name)\n",
    "        "
   ]
  },
  {
   "cell_type": "code",
   "execution_count": 195,
   "metadata": {},
   "outputs": [
    {
     "name": "stdout",
     "output_type": "stream",
     "text": [
      "/home/xeinia/Documents/bastra74/MG_measurings_b1/two_groups_two_materials/2/output.txt\n"
     ]
    }
   ],
   "source": [
    "print(merged_names[1])"
   ]
  },
  {
   "cell_type": "code",
   "execution_count": 196,
   "metadata": {},
   "outputs": [
    {
     "name": "stdout",
     "output_type": "stream",
     "text": [
      "/home/xeinia/Documents/bastra74/MG_measurings_b1/two_groups_two_materials/1/output.txt\n",
      "/home/xeinia/Documents/bastra74/MG_measurings_b1/two_groups_two_materials/2/output.txt\n",
      "/home/xeinia/Documents/bastra74/MG_measurings_b1/two_groups_two_materials/3/output.txt\n",
      "/home/xeinia/Documents/bastra74/MG_measurings_b1/two_groups_two_materials/5/output.txt\n",
      "/home/xeinia/Documents/bastra74/MG_measurings_b1/two_groups_two_materials/6/output.txt\n",
      "/home/xeinia/Documents/bastra74/MG_measurings_b1/two_groups_two_materials/7/output.txt\n",
      "/home/xeinia/Documents/bastra74/MG_measurings_b1/two_groups_two_materials/8/output.txt\n",
      "/home/xeinia/Documents/bastra74/MG_measurings_b1/two_groups_two_materials/9/output.txt\n",
      "/home/xeinia/Documents/bastra74/MG_measurings_b1/two_groups_two_materials/10/output.txt\n",
      "/home/xeinia/Documents/bastra74/MG_measurings_b1/two_groups_two_materials/11/output.txt\n",
      "/home/xeinia/Documents/bastra74/MG_measurings_b1/two_groups_two_materials/12/output.txt\n",
      "/home/xeinia/Documents/bastra74/MG_measurings_b1/two_groups_two_materials/13/output.txt\n",
      "/home/xeinia/Documents/bastra74/MG_measurings_b1/two_groups_two_materials/14/output.txt\n",
      "/home/xeinia/Documents/bastra74/MG_measurings_b1/two_groups_two_materials/15/output.txt\n",
      "/home/xeinia/Documents/bastra74/MG_measurings_b1/two_groups_two_materials/16/output.txt\n",
      "/home/xeinia/Documents/bastra74/MG_measurings_b1/two_groups_two_materials/17/output.txt\n",
      "/home/xeinia/Documents/bastra74/MG_measurings_b1/two_groups_two_materials/18/output.txt\n",
      "/home/xeinia/Documents/bastra74/MG_measurings_b1/two_groups_two_materials/19/output.txt\n",
      "/home/xeinia/Documents/bastra74/MG_measurings_b1/two_groups_two_materials/20/output.txt\n",
      "/home/xeinia/Documents/bastra74/MG_measurings_b1/two_groups_two_materials/21/output.txt\n",
      "/home/xeinia/Documents/bastra74/MG_measurings_b1/two_groups_two_materials/22/output.txt\n",
      "/home/xeinia/Documents/bastra74/MG_measurings_b1/two_groups_two_materials/23/output.txt\n",
      "/home/xeinia/Documents/bastra74/MG_measurings_b1/two_groups_two_materials/24/output.txt\n",
      "/home/xeinia/Documents/bastra74/MG_measurings_b1/two_groups_two_materials/25/output.txt\n",
      "/home/xeinia/Documents/bastra74/MG_measurings_b1/two_groups_two_materials/26/output.txt\n",
      "/home/xeinia/Documents/bastra74/MG_measurings_b1/two_groups_two_materials/27/output.txt\n",
      "/home/xeinia/Documents/bastra74/MG_measurings_b1/two_groups_two_materials/28/output.txt\n",
      "/home/xeinia/Documents/bastra74/MG_measurings_b1/two_groups_two_materials/29/output.txt\n",
      "/home/xeinia/Documents/bastra74/MG_measurings_b1/two_groups_two_materials/30/output.txt\n",
      "/home/xeinia/Documents/bastra74/MG_measurings_b1/two_groups_two_materials/31/output.txt\n",
      "/home/xeinia/Documents/bastra74/MG_measurings_b1/two_groups_two_materials/32/output.txt\n",
      "/home/xeinia/Documents/bastra74/MG_measurings_b1/two_groups_two_materials/33/output.txt\n",
      "/home/xeinia/Documents/bastra74/MG_measurings_b1/two_groups_two_materials/34/output.txt\n",
      "/home/xeinia/Documents/bastra74/MG_measurings_b1/two_groups_two_materials/35/output.txt\n",
      "/home/xeinia/Documents/bastra74/MG_measurings_b1/two_groups_two_materials/36/output.txt\n",
      "/home/xeinia/Documents/bastra74/MG_measurings_b1/two_groups_two_materials/37/output.txt\n",
      "/home/xeinia/Documents/bastra74/MG_measurings_b1/two_groups_two_materials/38/output.txt\n",
      "/home/xeinia/Documents/bastra74/MG_measurings_b1/two_groups_two_materials/39/output.txt\n",
      "/home/xeinia/Documents/bastra74/MG_measurings_b1/two_groups_two_materials/40/output.txt\n",
      "/home/xeinia/Documents/bastra74/MG_measurings_b1/two_groups_two_materials/41/output.txt\n",
      "/home/xeinia/Documents/bastra74/MG_measurings_b1/two_groups_two_materials/42/output.txt\n",
      "/home/xeinia/Documents/bastra74/MG_measurings_b1/two_groups_two_materials/43/output.txt\n",
      "/home/xeinia/Documents/bastra74/MG_measurings_b1/two_groups_two_materials/44/output.txt\n",
      "/home/xeinia/Documents/bastra74/MG_measurings_b1/two_groups_two_materials/45/output.txt\n",
      "/home/xeinia/Documents/bastra74/MG_measurings_b1/two_groups_two_materials/46/output.txt\n",
      "/home/xeinia/Documents/bastra74/MG_measurings_b1/two_groups_two_materials/47/output.txt\n",
      "/home/xeinia/Documents/bastra74/MG_measurings_b1/two_groups_two_materials/48/output.txt\n",
      "/home/xeinia/Documents/bastra74/MG_measurings_b1/two_groups_two_materials/49/output.txt\n",
      "/home/xeinia/Documents/bastra74/MG_measurings_b1/two_groups_two_materials/50/output.txt\n",
      "/home/xeinia/Documents/bastra74/MG_measurings_b1/two_groups_two_materials/51/output.txt\n",
      "/home/xeinia/Documents/bastra74/MG_measurings_b1/two_groups_two_materials/52/output.txt\n",
      "/home/xeinia/Documents/bastra74/MG_measurings_b1/two_groups_two_materials/53/output.txt\n",
      "/home/xeinia/Documents/bastra74/MG_measurings_b1/two_groups_two_materials/54/output.txt\n",
      "/home/xeinia/Documents/bastra74/MG_measurings_b1/two_groups_two_materials/55/output.txt\n",
      "/home/xeinia/Documents/bastra74/MG_measurings_b1/two_groups_two_materials/56/output.txt\n",
      "/home/xeinia/Documents/bastra74/MG_measurings_b1/two_groups_two_materials/57/output.txt\n",
      "/home/xeinia/Documents/bastra74/MG_measurings_b1/two_groups_two_materials/58/output.txt\n",
      "/home/xeinia/Documents/bastra74/MG_measurings_b1/two_groups_two_materials/59/output.txt\n",
      "/home/xeinia/Documents/bastra74/MG_measurings_b1/two_groups_two_materials/60/output.txt\n",
      "/home/xeinia/Documents/bastra74/MG_measurings_b1/two_groups_two_materials/61/output.txt\n",
      "/home/xeinia/Documents/bastra74/MG_measurings_b1/two_groups_two_materials/62/output.txt\n",
      "/home/xeinia/Documents/bastra74/MG_measurings_b1/two_groups_two_materials/63/output.txt\n",
      "/home/xeinia/Documents/bastra74/MG_measurings_b1/two_groups_two_materials/64/output.txt\n",
      "/home/xeinia/Documents/bastra74/MG_measurings_b1/two_groups_two_materials/65/output.txt\n",
      "/home/xeinia/Documents/bastra74/MG_measurings_b1/two_groups_two_materials/66/output.txt\n",
      "/home/xeinia/Documents/bastra74/MG_measurings_b1/two_groups_two_materials/67/output.txt\n",
      "/home/xeinia/Documents/bastra74/MG_measurings_b1/two_groups_two_materials/68/output.txt\n",
      "/home/xeinia/Documents/bastra74/MG_measurings_b1/two_groups_two_materials/69/output.txt\n",
      "/home/xeinia/Documents/bastra74/MG_measurings_b1/two_groups_two_materials/70/output.txt\n",
      "/home/xeinia/Documents/bastra74/MG_measurings_b1/two_groups_two_materials/71/output.txt\n",
      "/home/xeinia/Documents/bastra74/MG_measurings_b1/two_groups_two_materials/72/output.txt\n",
      "/home/xeinia/Documents/bastra74/MG_measurings_b1/two_groups_two_materials/73/output.txt\n",
      "/home/xeinia/Documents/bastra74/MG_measurings_b1/two_groups_two_materials/74/output.txt\n",
      "/home/xeinia/Documents/bastra74/MG_measurings_b1/two_groups_two_materials/75/output.txt\n",
      "/home/xeinia/Documents/bastra74/MG_measurings_b1/two_groups_two_materials/76/output.txt\n",
      "/home/xeinia/Documents/bastra74/MG_measurings_b1/two_groups_two_materials/77/output.txt\n",
      "/home/xeinia/Documents/bastra74/MG_measurings_b1/two_groups_two_materials/78/output.txt\n",
      "/home/xeinia/Documents/bastra74/MG_measurings_b1/two_groups_two_materials/79/output.txt\n",
      "/home/xeinia/Documents/bastra74/MG_measurings_b1/two_groups_two_materials/80/output.txt\n",
      "/home/xeinia/Documents/bastra74/MG_measurings_b1/two_groups_two_materials/81/output.txt\n",
      "/home/xeinia/Documents/bastra74/MG_measurings_b1/two_groups_two_materials/82/output.txt\n",
      "/home/xeinia/Documents/bastra74/MG_measurings_b1/two_groups_two_materials/83/output.txt\n",
      "/home/xeinia/Documents/bastra74/MG_measurings_b1/two_groups_two_materials/84/output.txt\n",
      "/home/xeinia/Documents/bastra74/MG_measurings_b1/two_groups_two_materials/85/output.txt\n",
      "/home/xeinia/Documents/bastra74/MG_measurings_b1/two_groups_two_materials/86/output.txt\n",
      "/home/xeinia/Documents/bastra74/MG_measurings_b1/two_groups_two_materials/87/output.txt\n",
      "/home/xeinia/Documents/bastra74/MG_measurings_b1/two_groups_two_materials/88/output.txt\n",
      "/home/xeinia/Documents/bastra74/MG_measurings_b1/two_groups_two_materials/89/output.txt\n",
      "/home/xeinia/Documents/bastra74/MG_measurings_b1/two_groups_two_materials/90/output.txt\n",
      "/home/xeinia/Documents/bastra74/MG_measurings_b1/two_groups_two_materials/91/output.txt\n",
      "/home/xeinia/Documents/bastra74/MG_measurings_b1/two_groups_two_materials/92/output.txt\n",
      "/home/xeinia/Documents/bastra74/MG_measurings_b1/two_groups_two_materials/93/output.txt\n",
      "/home/xeinia/Documents/bastra74/MG_measurings_b1/two_groups_two_materials/94/output.txt\n",
      "/home/xeinia/Documents/bastra74/MG_measurings_b1/two_groups_two_materials/95/output.txt\n",
      "/home/xeinia/Documents/bastra74/MG_measurings_b1/two_groups_two_materials/96/output.txt\n"
     ]
    },
    {
     "name": "stdout",
     "output_type": "stream",
     "text": [
      "/home/xeinia/Documents/bastra74/MG_measurings_b1/two_groups_two_materials/97/output.txt\n",
      "/home/xeinia/Documents/bastra74/MG_measurings_b1/two_groups_two_materials/98/output.txt\n",
      "/home/xeinia/Documents/bastra74/MG_measurings_b1/two_groups_two_materials/99/output.txt\n",
      "/home/xeinia/Documents/bastra74/MG_measurings_b1/two_groups_two_materials/100/output.txt\n",
      "/home/xeinia/Documents/bastra74/MG_measurings_b1/two_groups_two_materials/101/output.txt\n",
      "/home/xeinia/Documents/bastra74/MG_measurings_b1/two_groups_two_materials/102/output.txt\n",
      "/home/xeinia/Documents/bastra74/MG_measurings_b1/two_groups_two_materials/103/output.txt\n",
      "/home/xeinia/Documents/bastra74/MG_measurings_b1/two_groups_two_materials/104/output.txt\n",
      "/home/xeinia/Documents/bastra74/MG_measurings_b1/two_groups_two_materials/105/output.txt\n",
      "/home/xeinia/Documents/bastra74/MG_measurings_b1/two_groups_two_materials/106/output.txt\n",
      "/home/xeinia/Documents/bastra74/MG_measurings_b1/two_groups_two_materials/107/output.txt\n",
      "/home/xeinia/Documents/bastra74/MG_measurings_b1/two_groups_two_materials/108/output.txt\n",
      "/home/xeinia/Documents/bastra74/MG_measurings_b1/two_groups_two_materials/109/output.txt\n",
      "number iterations 43092\n",
      "k effective  1.000380210778369\n",
      " std [pcm]  6.791720381507003\n",
      " std 2 [pcm]  6.791633840454305\n"
     ]
    }
   ],
   "source": [
    "final_k_effective, final_std, std_another_way = get_mean_std_by_sample(merged_names)"
   ]
  },
  {
   "cell_type": "code",
   "execution_count": 182,
   "metadata": {},
   "outputs": [],
   "source": [
    "def get_k_effective_from_file(file_name):\n",
    "    count = 0\n",
    "    lines = []\n",
    "    print(file_name)\n",
    "    with open(file_name) as fp:\n",
    "        for line in fp:\n",
    "            count += 1\n",
    "            lines.append(line)\n",
    "\n",
    "    line_array = []\n",
    "    for line in lines:\n",
    "        line_array.append(line.split())\n",
    "        \n",
    "    k_effective_sample  = []\n",
    "\n",
    "    for line in line_array:\n",
    "        k_effective_sample.append(float(line[3]))\n",
    "    \n",
    "    return k_effective_sample\n"
   ]
  },
  {
   "cell_type": "code",
   "execution_count": 197,
   "metadata": {},
   "outputs": [
    {
     "data": {
      "text/plain": [
       "38.02107783690278"
      ]
     },
     "execution_count": 197,
     "metadata": {},
     "output_type": "execute_result"
    }
   ],
   "source": [
    "(1.000380210778369 - 1.) * 100000"
   ]
  },
  {
   "cell_type": "code",
   "execution_count": null,
   "metadata": {},
   "outputs": [],
   "source": []
  }
 ],
 "metadata": {
  "kernelspec": {
   "display_name": "Python 3",
   "language": "python",
   "name": "python3"
  },
  "language_info": {
   "codemirror_mode": {
    "name": "ipython",
    "version": 3
   },
   "file_extension": ".py",
   "mimetype": "text/x-python",
   "name": "python",
   "nbconvert_exporter": "python",
   "pygments_lexer": "ipython3",
   "version": "3.8.5"
  }
 },
 "nbformat": 4,
 "nbformat_minor": 4
}
