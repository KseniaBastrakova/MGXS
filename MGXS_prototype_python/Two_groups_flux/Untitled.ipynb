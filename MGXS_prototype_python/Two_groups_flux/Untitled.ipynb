{
 "cells": [
  {
   "cell_type": "code",
   "execution_count": 1,
   "metadata": {},
   "outputs": [],
   "source": [
    "import numpy as np\n",
    "import math"
   ]
  },
  {
   "cell_type": "code",
   "execution_count": 48,
   "metadata": {},
   "outputs": [],
   "source": [
    "sub_path = \"/home/xeinia/Documents/bastra74/Inf_media_measurings_beanchmark/Pu_239/\"\n",
    "file_name_zero = \"/result_flux0.txt\"\n",
    "file_name_1 = \"/result_flux1.txt\"\n",
    "\n",
    "names_measurings = [file_name_zero, file_name_1]"
   ]
  },
  {
   "cell_type": "code",
   "execution_count": null,
   "metadata": {},
   "outputs": [],
   "source": []
  },
  {
   "cell_type": "code",
   "execution_count": 14,
   "metadata": {},
   "outputs": [],
   "source": [
    "def get_flux_from_file(file_name):\n",
    "    \n",
    "    count = 0\n",
    "    lines = []\n",
    "    \n",
    "    with open(file_name) as fp:\n",
    "        for line in fp:\n",
    "            count += 1\n",
    "            lines.append(line)\n",
    "\n",
    "    line_array = []\n",
    "    for line in lines:\n",
    "        line_array.append(line.split())\n",
    "        \n",
    "    flux_sample  = []\n",
    "\n",
    "    for line in line_array:\n",
    "        flux_sample.append(float(line[1]))\n",
    "    \n",
    "    return flux_sample"
   ]
  },
  {
   "cell_type": "code",
   "execution_count": 15,
   "metadata": {},
   "outputs": [],
   "source": [
    "def merge_flux_files(files):\n",
    "    \n",
    "    merged_flux = []\n",
    "    for file in files:\n",
    "        k_effective_values = get_flux_from_file(file)\n",
    "        merged_flux.extend(k_effective_values)\n",
    "        \n",
    "    return merged_flux"
   ]
  },
  {
   "cell_type": "code",
   "execution_count": 16,
   "metadata": {},
   "outputs": [],
   "source": [
    "def get_flux_value(sub_path, file_name, idx_start, idx_end):\n",
    "    \n",
    "    merged_flux = []\n",
    "    for i in range(idx_start, idx_end):\n",
    "        if i == 11:\n",
    "            continue\n",
    "        \n",
    "        if i == 31:\n",
    "            continue\n",
    "        result_name = sub_path + str(i) + file_name\n",
    "        \n",
    "        current_flux = get_flux_from_file(result_name)\n",
    "        current_flux = current_flux[10: len(current_flux) - 1]\n",
    "        merged_flux.extend(current_flux)\n",
    "        \n",
    "    return merged_flux"
   ]
  },
  {
   "cell_type": "code",
   "execution_count": 17,
   "metadata": {},
   "outputs": [],
   "source": [
    "def get_std(values):\n",
    "    \n",
    "    current_std = np.std(values)/np.sqrt((len(values) - 1.))\n",
    "  \n",
    "    return current_std   "
   ]
  },
  {
   "cell_type": "code",
   "execution_count": 18,
   "metadata": {},
   "outputs": [],
   "source": [
    "def get_collision_sum(sub_path, file_names, idx_start, idx_end):\n",
    "\n",
    "    result_fluxes = []\n",
    "    result_std = []\n",
    "    for name in file_names:\n",
    "        result_flux = get_flux_value(sub_path, name, idx_start, idx_end)      \n",
    "        result_fluxes.append(result_flux)\n",
    "        \n",
    "    return result_fluxes"
   ]
  },
  {
   "cell_type": "code",
   "execution_count": 19,
   "metadata": {},
   "outputs": [],
   "source": [
    "collision_sum = get_collision_sum(sub_path, names_measurings, 1, 51)"
   ]
  },
  {
   "cell_type": "code",
   "execution_count": null,
   "metadata": {},
   "outputs": [],
   "source": []
  },
  {
   "cell_type": "code",
   "execution_count": 20,
   "metadata": {},
   "outputs": [],
   "source": [
    "first_group_flux = []\n",
    "secound_group_flux = []\n",
    "\n",
    "number_particles = 1000\n",
    "cs_total_pu_239 = [0.3360, 0.2208]\n",
    "\n",
    "for i in range(0, len(collision_sum[0]) - 1):\n",
    "    first_group_flux.append(collision_sum[0][i]/(cs_total_pu_239[0]))\n",
    "\n",
    "for i in range(0, len(collision_sum[1]) - 1):\n",
    "    secound_group_flux.append(collision_sum[1][i]/(cs_total_pu_239[1]))\n",
    "    \n",
    "average_flux_difference = []    \n",
    "for i in range(0, len(first_group_flux)):\n",
    "    average_flux_difference.append(secound_group_flux[i]/ first_group_flux[i])\n",
    "\n",
    "std_flux = get_std(average_flux_difference)\n",
    "flux_difference = sum(average_flux_difference)/len(average_flux_difference)"
   ]
  },
  {
   "cell_type": "code",
   "execution_count": 21,
   "metadata": {},
   "outputs": [
    {
     "data": {
      "text/plain": [
       "1.3104878736736048e-05"
      ]
     },
     "execution_count": 21,
     "metadata": {},
     "output_type": "execute_result"
    }
   ],
   "source": [
    "flux_difference - 0.675229"
   ]
  },
  {
   "cell_type": "code",
   "execution_count": 62,
   "metadata": {
    "scrolled": true
   },
   "outputs": [
    {
     "name": "stdout",
     "output_type": "stream",
     "text": [
      " difference  1.3104878736736048\n",
      "difference flux == 1.3104878736736048with std   1.5610920167336884\n"
     ]
    }
   ],
   "source": [
    "difference = (flux_difference  - 0.675229) * 100000\n",
    "print(\" difference  \"+ str(difference))\n",
    "print('difference flux == '+ str(difference)+ 'with std   '+ str(std_flux * 100000))"
   ]
  },
  {
   "cell_type": "code",
   "execution_count": 28,
   "metadata": {},
   "outputs": [],
   "source": [
    "sub_path = \"/home/xeinia/Documents/bastra74/Inf_media_measurings_beanchmark/3_groups/\"\n",
    "file_name_zero = \"/result_flux.txt0.txt\"\n",
    "file_name_1 = \"/result_flux.txt1.txt\"\n",
    "file_name_2 = \"/result_flux.txt2.txt\"\n",
    "\n",
    "names_measurings = [file_name_zero, file_name_1, file_name_2]"
   ]
  },
  {
   "cell_type": "code",
   "execution_count": 29,
   "metadata": {},
   "outputs": [],
   "source": [
    "collision_sum = get_collision_sum(sub_path, names_measurings, 1, 51)"
   ]
  },
  {
   "cell_type": "code",
   "execution_count": 30,
   "metadata": {},
   "outputs": [],
   "source": [
    "first_group_flux = []\n",
    "secound_group_flux = []\n",
    "third_group_flux = []\n",
    "\n",
    "number_particles = 1000\n",
    "cs_total_pu_239 = [3.10, 0.975, 0.24]\n",
    "\n",
    "for i in range(0, len(collision_sum[0]) - 1):\n",
    "    first_group_flux.append(collision_sum[0][i]/(cs_total_pu_239[0]))\n",
    "\n",
    "for i in range(0, len(collision_sum[1]) - 1):\n",
    "    secound_group_flux.append(collision_sum[1][i]/(cs_total_pu_239[1]))\n",
    "\n",
    "for i in range(0, len(collision_sum[2]) - 1):\n",
    "    third_group_flux.append(collision_sum[2][i]/(cs_total_pu_239[2]))\n",
    "    \n",
    "\n",
    "average_flux_difference_1 = []    \n",
    "for i in range(0, len(first_group_flux)):\n",
    "    average_flux_difference_1.append(first_group_flux[i] / secound_group_flux[i])\n",
    "    \n",
    "average_flux_difference_2 = []    \n",
    "for i in range(1, len(first_group_flux)):\n",
    "    average_flux_difference_2.append(first_group_flux[i] / third_group_flux[i])\n",
    "    \n",
    "average_flux_difference_3 = []    \n",
    "for i in range(1, len(first_group_flux)):\n",
    "    average_flux_difference_3.append(secound_group_flux[i] / third_group_flux[i])\n",
    "\n",
    "std_flux_1 = get_std(average_flux_difference_1)\n",
    "flux_difference_1 = sum(average_flux_difference_1)/len(average_flux_difference_1)\n",
    "\n",
    "std_flux_2 = get_std(average_flux_difference_2)\n",
    "flux_difference_2 = sum(average_flux_difference_2)/len(average_flux_difference_2)\n",
    "\n",
    "std_flux_3 = get_std(average_flux_difference_3)\n",
    "flux_difference_3 = sum(average_flux_difference_3)/len(average_flux_difference_3)"
   ]
  },
  {
   "cell_type": "code",
   "execution_count": 33,
   "metadata": {},
   "outputs": [
    {
     "name": "stdout",
     "output_type": "stream",
     "text": [
      "group 1 to group 2 flux difference flux == 1.0729730356595635with std   0.9787736075561567\n",
      "0.3125107297303566\n",
      "0.15000083197178216\n",
      "group 1 to group 2 flux difference flux == 0.08319717821614336with std   0.36824053881848007\n",
      "0.4799913325138177\n",
      "group 1 to group 2 flux difference flux == -0.8667486182278861with std   1.1010146709037372\n"
     ]
    }
   ],
   "source": [
    "difference = (flux_difference_1 - 0.3125) * 100000\n",
    "\n",
    "print('group 1 to group 2 flux difference flux == '+ str(difference)+ 'with std   '+ str(std_flux_1 * 100000))\n",
    "\n",
    "print(flux_difference_1)\n",
    "# In[81]:\n",
    "\n",
    "\n",
    "difference = (flux_difference_2 - 0.150) * 100000\n",
    "print(flux_difference_2)\n",
    "print('group 1 to group 2 flux difference flux == '+ str(difference)+ 'with std   '+ str(std_flux_2 * 100000))\n",
    "\n",
    "\n",
    "# In[82]:\n",
    "\n",
    "\n",
    "difference = (flux_difference_3 - 0.480) * 100000\n",
    "print(flux_difference_3)\n",
    "print('group 1 to group 2 flux difference flux == '+ str(difference)+ 'with std   '+ str(std_flux_3 * 100000))\n"
   ]
  },
  {
   "cell_type": "code",
   "execution_count": null,
   "metadata": {},
   "outputs": [],
   "source": []
  },
  {
   "cell_type": "code",
   "execution_count": 43,
   "metadata": {},
   "outputs": [],
   "source": [
    "sub_path = \"/home/xeinia/Documents/bastra74/Inf_media_measurings_beanchmark/6_groups/\"\n",
    "file_name_zero = \"/result_flux.txt0.txt\"\n",
    "file_name_1 = \"/result_flux.txt1.txt\"\n",
    "file_name_2 = \"/result_flux.txt2.txt\"\n",
    "file_name_3 = \"/result_flux.txt3.txt\"\n",
    "file_name_4 = \"/result_flux.txt4.txt\"\n",
    "file_name_5 = \"/result_flux.txt5.txt\"\n",
    "\n",
    "names_measurings = [file_name_zero, file_name_1, file_name_2, file_name_3, file_name_4, file_name_5]"
   ]
  },
  {
   "cell_type": "code",
   "execution_count": 44,
   "metadata": {},
   "outputs": [],
   "source": [
    "collision_sum = get_collision_sum(sub_path, names_measurings, 1, 51)"
   ]
  },
  {
   "cell_type": "code",
   "execution_count": null,
   "metadata": {},
   "outputs": [],
   "source": []
  },
  {
   "cell_type": "code",
   "execution_count": 45,
   "metadata": {},
   "outputs": [],
   "source": [
    "first_group_flux = []\n",
    "secound_group_flux = []\n",
    "third_group_flux = []\n",
    "\n",
    "group4_flux = []\n",
    "group5_flux = []\n",
    "group6_flux = []\n",
    "\n",
    "cs_total_pu_239 = [0.240, 0.975, 3.10, 3.10, 0.975, 0.240]\n",
    "\n",
    "for i in range(20, len(collision_sum[0]) - 1):\n",
    "    first_group_flux.append(collision_sum[0][i]/(cs_total_pu_239[0]))\n",
    "\n",
    "for i in range(20, len(collision_sum[1]) - 1):\n",
    "    secound_group_flux.append(collision_sum[1][i]/(cs_total_pu_239[1]))\n",
    "\n",
    "for i in range(20, len(collision_sum[2]) - 1):\n",
    "    third_group_flux.append(collision_sum[2][i]/(cs_total_pu_239[2]))\n",
    "    \n",
    "    \n",
    "for i in range(20, len(collision_sum[3]) - 1):\n",
    "    group4_flux.append(collision_sum[3][i]/(cs_total_pu_239[3]))\n",
    "\n",
    "for i in range(20, len(collision_sum[4]) - 1):\n",
    "    group5_flux.append(collision_sum[4][i]/(cs_total_pu_239[4]))\n",
    "\n",
    "for i in range(20, len(collision_sum[5]) - 1):\n",
    "    group6_flux.append(collision_sum[5][i]/(cs_total_pu_239[5]))\n",
    "    \n",
    "\n",
    "average_flux_difference_1 = []    \n",
    "for i in range(0, len(first_group_flux)):\n",
    "    average_flux_difference_1.append(secound_group_flux[i] / first_group_flux[i])\n",
    "    \n",
    "average_flux_difference_2 = []    \n",
    "for i in range(0, len(first_group_flux)):\n",
    "    average_flux_difference_2.append(third_group_flux[i] / secound_group_flux[i])\n",
    "    \n",
    "average_flux_difference_3 = []    \n",
    "for i in range(0, len(first_group_flux)):\n",
    "    average_flux_difference_3.append(third_group_flux[i] / first_group_flux[i])\n",
    "    \n",
    "average_flux_difference_4 = []    \n",
    "for i in range(0, len(first_group_flux)):\n",
    "    average_flux_difference_4.append(group5_flux[i] /group6_flux[i])\n",
    "    \n",
    "average_flux_difference_5 = []    \n",
    "for i in range(0, len(first_group_flux)):\n",
    "    average_flux_difference_5.append(group4_flux[i] / group6_flux[i])\n",
    "    \n",
    "average_flux_difference_6 = []    \n",
    "for i in range(0, len(first_group_flux)):\n",
    "    average_flux_difference_6.append(group4_flux[i] / group5_flux[i])\n",
    "\n",
    "    \n",
    "std_flux_1 = get_std(average_flux_difference_1)\n",
    "flux_difference_1 = sum(average_flux_difference_1)/len(average_flux_difference_1)\n",
    "\n",
    "std_flux_2 = get_std(average_flux_difference_2)\n",
    "flux_difference_2 = sum(average_flux_difference_2)/len(average_flux_difference_2)\n",
    "\n",
    "std_flux_3 = get_std(average_flux_difference_3)\n",
    "flux_difference_3 = sum(average_flux_difference_3)/len(average_flux_difference_3)\n",
    "\n",
    "\n",
    "std_flux_4 = get_std(average_flux_difference_4)\n",
    "flux_difference_4 = sum(average_flux_difference_4)/len(average_flux_difference_4)\n",
    "\n",
    "std_flux_5 = get_std(average_flux_difference_5)\n",
    "flux_difference_5 = sum(average_flux_difference_5)/len(average_flux_difference_5)\n",
    "\n",
    "std_flux_6 = get_std(average_flux_difference_6)\n",
    "flux_difference_6 = sum(average_flux_difference_6)/len(average_flux_difference_6)\n"
   ]
  },
  {
   "cell_type": "code",
   "execution_count": 47,
   "metadata": {},
   "outputs": [
    {
     "name": "stdout",
     "output_type": "stream",
     "text": [
      "0.480027319767876\n"
     ]
    }
   ],
   "source": [
    "print(flux_difference_1)"
   ]
  },
  {
   "cell_type": "code",
   "execution_count": 48,
   "metadata": {},
   "outputs": [
    {
     "name": "stdout",
     "output_type": "stream",
     "text": [
      "0.31251081427024646\n"
     ]
    }
   ],
   "source": [
    "print(flux_difference_2)"
   ]
  },
  {
   "cell_type": "code",
   "execution_count": 53,
   "metadata": {},
   "outputs": [
    {
     "name": "stdout",
     "output_type": "stream",
     "text": [
      "0.1500114946815415\n"
     ]
    }
   ],
   "source": [
    "print(flux_difference_3)"
   ]
  },
  {
   "cell_type": "code",
   "execution_count": 54,
   "metadata": {},
   "outputs": [
    {
     "name": "stdout",
     "output_type": "stream",
     "text": [
      "group 1 to group 2 flux difference flux == 2.7319767876010648with std   1.6827215147665366\n",
      "group 1 to group 2 flux difference flux == 1.0814270246461977with std   1.0461387933903028\n",
      "group 1 to group 2 flux difference flux == 1.1494681541518448with std   0.49340721160950407\n",
      "group 1 to group 2 flux difference flux == -0.15012827100369108with std   1.6945820326405312\n",
      "group 1 to group 2 flux difference flux == 0.06532360308231233with std   0.49878116034846737\n",
      "group 1 to group 2 flux difference flux == 0.6974836096740322with std   1.0468569880859602\n"
     ]
    }
   ],
   "source": [
    "\n",
    "difference = (flux_difference_1 - 0.480) * 100000\n",
    "\n",
    "print('group 1 to group 2 flux difference flux == '+ str(difference)+ 'with std   '+ str(std_flux_1 * 100000))\n",
    "\n",
    "#print(flux_difference_1)\n",
    "# In[108]:\n",
    "\n",
    "\n",
    "difference = (flux_difference_2 - 0.3125) * 100000\n",
    "\n",
    "print('group 1 to group 2 flux difference flux == '+ str(difference)+ 'with std   '+ str(std_flux_2 * 100000))\n",
    "#print(flux_difference_2)\n",
    "\n",
    "# In[109]:\n",
    "\n",
    "\n",
    "difference = (flux_difference_3 - 0.150) * 100000\n",
    "\n",
    "print('group 1 to group 2 flux difference flux == '+ str(difference)+ 'with std   '+ str(std_flux_3 * 100000))\n",
    "#print(flux_difference_3)\n",
    "\n",
    "# In[111]:\n",
    "\n",
    "\n",
    "\n",
    "difference = (flux_difference_4 - 0.480) * 100000\n",
    "\n",
    "print('group 1 to group 2 flux difference flux == '+ str(difference)+ 'with std   '+ str(std_flux_4 * 100000))\n",
    "#print(flux_difference_4)\n",
    "\n",
    "# In[113]:\n",
    "\n",
    "\n",
    "difference = (flux_difference_5 - 0.150) * 100000\n",
    "\n",
    "print('group 1 to group 2 flux difference flux == '+ str(difference)+ 'with std   '+ str(std_flux_5 * 100000))\n",
    "#print(flux_difference_5)\n",
    "\n",
    "# In[114]:\n",
    "\n",
    "\n",
    "difference = (flux_difference_6 - 0.3125) * 100000\n",
    "\n",
    "print('group 1 to group 2 flux difference flux == '+ str(difference)+ 'with std   '+ str(std_flux_6 * 100000))\n",
    "#print(flux_difference_6)\n"
   ]
  },
  {
   "cell_type": "code",
   "execution_count": null,
   "metadata": {},
   "outputs": [],
   "source": []
  }
 ],
 "metadata": {
  "kernelspec": {
   "display_name": "Python 3",
   "language": "python",
   "name": "python3"
  },
  "language_info": {
   "codemirror_mode": {
    "name": "ipython",
    "version": 3
   },
   "file_extension": ".py",
   "mimetype": "text/x-python",
   "name": "python",
   "nbconvert_exporter": "python",
   "pygments_lexer": "ipython3",
   "version": "3.8.5"
  }
 },
 "nbformat": 4,
 "nbformat_minor": 4
}
