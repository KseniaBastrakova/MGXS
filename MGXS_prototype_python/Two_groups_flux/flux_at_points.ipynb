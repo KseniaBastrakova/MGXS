{
 "cells": [
  {
   "cell_type": "code",
   "execution_count": 48,
   "metadata": {},
   "outputs": [],
   "source": [
    "import numpy as np\n",
    "import math"
   ]
  },
  {
   "cell_type": "code",
   "execution_count": 5,
   "metadata": {},
   "outputs": [],
   "source": [
    "sub_path = \"/home/xeinia/Documents/bastra74/One_medium_simple_geometries/1_group/SLub/\"\n",
    "file_name_zero = \"/result_flux0.txt\"\n",
    "file_name_1 = \"/result_flux1.txt\"\n",
    "file_name_2 = \"/result_flux2.txt\"\n",
    "file_name_3 = \"/result_flux3.txt\"\n",
    "file_name_4 = \"/result_flux4.txt\"\n",
    "\n",
    "names_measurings = [file_name_zero, file_name_1, file_name_2, file_name_3, file_name_4]"
   ]
  },
  {
   "cell_type": "code",
   "execution_count": null,
   "metadata": {},
   "outputs": [],
   "source": []
  },
  {
   "cell_type": "code",
   "execution_count": 49,
   "metadata": {},
   "outputs": [],
   "source": [
    "def get_flux_from_file(file_name):\n",
    "    \n",
    "    count = 0\n",
    "    lines = []\n",
    "    \n",
    "    with open(file_name) as fp:\n",
    "        for line in fp:\n",
    "            count += 1\n",
    "            lines.append(line)\n",
    "\n",
    "    line_array = []\n",
    "    for line in lines:\n",
    "        line_array.append(line.split())\n",
    "        \n",
    "    flux_sample  = []\n",
    "\n",
    "    for line in line_array:\n",
    "        flux_sample.append(float(line[1]))\n",
    "    \n",
    "    return flux_sample"
   ]
  },
  {
   "cell_type": "code",
   "execution_count": 50,
   "metadata": {},
   "outputs": [],
   "source": [
    "def merge_flux_files(files):\n",
    "    \n",
    "    merged_flux = []\n",
    "    for file in files:\n",
    "        k_effective_values = get_flux_from_file(file)\n",
    "        merged_flux.extend(k_effective_values)\n",
    "        \n",
    "    return merged_flux"
   ]
  },
  {
   "cell_type": "code",
   "execution_count": 51,
   "metadata": {},
   "outputs": [],
   "source": [
    "def get_flux_value(sub_path, file_name, idx_start, idx_end):\n",
    "    \n",
    "    merged_flux = []\n",
    "    for i in range(idx_start, idx_end):\n",
    "        if i == 11:\n",
    "            continue\n",
    "        \n",
    "        if i == 31:\n",
    "            continue\n",
    "        result_name = sub_path + str(i) + file_name\n",
    "        \n",
    "        current_flux = get_flux_from_file(result_name)\n",
    "        current_flux = current_flux[10: len(current_flux) - 1]\n",
    "        merged_flux.extend(current_flux)\n",
    "        \n",
    "    return merged_flux"
   ]
  },
  {
   "cell_type": "code",
   "execution_count": 52,
   "metadata": {},
   "outputs": [],
   "source": [
    "def get_std(values):\n",
    "    \n",
    "    current_std = np.std(values)/np.sqrt((len(values) - 1.))\n",
    "  \n",
    "    return current_std   "
   ]
  },
  {
   "cell_type": "code",
   "execution_count": 53,
   "metadata": {},
   "outputs": [],
   "source": [
    "def get_collision_sum(sub_path, file_names, idx_start, idx_end):\n",
    "\n",
    "    result_fluxes = []\n",
    "    result_std = []\n",
    "    for name in file_names:\n",
    "        result_flux = get_flux_value(sub_path, name, idx_start, idx_end)      \n",
    "        result_fluxes.append(result_flux)\n",
    "        \n",
    "    return result_fluxes"
   ]
  },
  {
   "cell_type": "code",
   "execution_count": 11,
   "metadata": {},
   "outputs": [],
   "source": [
    "collision_sum = get_collision_sum(sub_path, names_measurings, 1, 51)"
   ]
  },
  {
   "cell_type": "code",
   "execution_count": 54,
   "metadata": {},
   "outputs": [],
   "source": [
    "def get_normalise_flux(collisions_sum):\n",
    "    \n",
    "    average_number_of_collision = []\n",
    "    for i in range(0, len(collisions_sum)):\n",
    "        average_number_of_collision.append((sum(collisions_sum[i])) / len(collisions_sum[i]))        \n",
    "    \n",
    "    zero_point = average_number_of_collision[0]\n",
    "    \n",
    "    result_flux = []\n",
    "    for i in range(1, len(average_number_of_collision)):\n",
    "        result_flux.append(average_number_of_collision[i] / zero_point)\n",
    "        \n",
    "    result_flux[-1] = result_flux[-1] /0.05\n",
    "    \n",
    "    result_std = []\n",
    "    for i in range(0, len(collisions_sum)):\n",
    "        current_std = get_std(collisions_sum[i])\n",
    "        result_std.append(current_std)  \n",
    "        \n",
    "    return result_flux, result_std, zero_point\n",
    "    "
   ]
  },
  {
   "cell_type": "code",
   "execution_count": 13,
   "metadata": {},
   "outputs": [],
   "source": [
    "result_flux, result_std, zero_point = get_normalise_flux(collision_sum)"
   ]
  },
  {
   "cell_type": "code",
   "execution_count": 14,
   "metadata": {},
   "outputs": [
    {
     "name": "stdout",
     "output_type": "stream",
     "text": [
      "[0.9701304390913263, 0.8809608470456908, 0.7311267711400314, 0.4990775885893241]\n",
      "[2.4815311167522185e-05, 2.478937022408898e-05, 2.3745948009004587e-05, 2.16581903512914e-05, 3.466112279880356e-06]\n"
     ]
    }
   ],
   "source": [
    "print(result_flux)\n",
    "\n",
    "\n",
    "print(result_std)\n"
   ]
  },
  {
   "cell_type": "code",
   "execution_count": 15,
   "metadata": {},
   "outputs": [
    {
     "name": "stdout",
     "output_type": "stream",
     "text": [
      "0.004428168064968296 %  2.4815311167522185\n",
      "0.010572899539554668 %  2.478937022408898\n",
      "0.09378471907219954 %  2.374594800900459\n",
      "-1.7987196546896214 %  2.16581903512914\n"
     ]
    }
   ],
   "source": [
    "flux_slub = [0.9701734, 0.8810540, 0.7318131, 0.4902592]\n",
    "\n",
    "\n",
    "# In[47]:\n",
    "\n",
    "\n",
    "for i in range(0, len(flux_slub)):\n",
    "    print(str(((flux_slub[i] - result_flux[i])/flux_slub[i])* 100) + \" %  \" + str(result_std[i] * 100000))"
   ]
  },
  {
   "cell_type": "code",
   "execution_count": 22,
   "metadata": {},
   "outputs": [],
   "source": [
    "def multiply_flux_on_range(input_flux, epsilon, border, radius):\n",
    "    \n",
    "    normalised_flux = []\n",
    "    for i in range(0, len(input_flux) - 1):\n",
    "        result_flux = input_flux[i] * ( 2. * epsilon / radius)       \n",
    "        normalised_flux.append(result_flux)\n",
    "    \n",
    "    result_flux = input_flux[-1] * ( border /radius) \n",
    "    normalised_flux.append(result_flux)\n",
    "    \n",
    "    return normalised_flux"
   ]
  },
  {
   "cell_type": "code",
   "execution_count": 23,
   "metadata": {},
   "outputs": [
    {
     "name": "stdout",
     "output_type": "stream",
     "text": [
      "[0.9701304390913263, 0.8809608470456908, 0.7311267711400314, 0.4990775885893241]\n"
     ]
    }
   ],
   "source": [
    "print(result_flux)"
   ]
  },
  {
   "cell_type": "code",
   "execution_count": 34,
   "metadata": {},
   "outputs": [],
   "source": [
    "result_flux = [1., 0.9701304390913263, 0.8809608470456908, 0.7311267711400314, 0.4990775885893241]"
   ]
  },
  {
   "cell_type": "code",
   "execution_count": 35,
   "metadata": {},
   "outputs": [],
   "source": [
    "epsilon = 0.2\n",
    "radius = 2.256751\n",
    "border = 0.02"
   ]
  },
  {
   "cell_type": "code",
   "execution_count": 36,
   "metadata": {},
   "outputs": [],
   "source": [
    "normalized_flux = multiply_flux_on_range(result_flux, epsilon, border, radius)"
   ]
  },
  {
   "cell_type": "code",
   "execution_count": 37,
   "metadata": {},
   "outputs": [
    {
     "name": "stdout",
     "output_type": "stream",
     "text": [
      "[0.17724596111843977, 0.17195170208699612, 0.15614675204232828, 0.12958926725013642, 0.0044229743431094]\n"
     ]
    }
   ],
   "source": [
    "print(normalized_flux)"
   ]
  },
  {
   "cell_type": "code",
   "execution_count": 38,
   "metadata": {},
   "outputs": [],
   "source": [
    "import numpy as np\n",
    "\n",
    "from scipy.interpolate import Rbf, InterpolatedUnivariateSpline\n",
    "\n",
    "import matplotlib.pyplot as plt\n",
    "\n",
    "\n",
    "flux_points = [0., 0.25, 0.5, 0.75, 1.]\n",
    "\n",
    "flux_values = [1., 0.9701734, 0.8810540, 0.7318131, 0.4902592]"
   ]
  },
  {
   "cell_type": "code",
   "execution_count": 39,
   "metadata": {},
   "outputs": [],
   "source": [
    "def calculate_int_values(points, flux_values, epsilon, border, radius):\n",
    "    \n",
    "    ius = InterpolatedUnivariateSpline(flux_points, flux_values)\n",
    "    result_ints = []\n",
    "    for i in range(1, len(points) - 1):\n",
    "        first_point = points[i]  - epsilon / radius\n",
    "        secound_point = points[i]  + epsilon / radius\n",
    "        range_sum = ius.integral(first_point, secound_point)\n",
    "        result_ints.append(range_sum)\n",
    "        \n",
    "    border_sum = ius.integral(1. - border / radius, 1.)\n",
    "    result_ints.append(border_sum)\n",
    "    \n",
    "    return result_ints"
   ]
  },
  {
   "cell_type": "code",
   "execution_count": 40,
   "metadata": {},
   "outputs": [],
   "source": [
    "int_sum = calculate_int_values(flux_points, flux_values, epsilon, border, radius)"
   ]
  },
  {
   "cell_type": "code",
   "execution_count": 47,
   "metadata": {},
   "outputs": [
    {
     "name": "stdout",
     "output_type": "stream",
     "text": [
      "[0.17173920674972554, 0.1559614448121684, 0.1293682268858979, 0.004391867996426392]\n"
     ]
    }
   ],
   "source": [
    "print(int_sum)"
   ]
  },
  {
   "cell_type": "code",
   "execution_count": 51,
   "metadata": {},
   "outputs": [
    {
     "data": {
      "text/plain": [
       "6.405068155754372e-05"
      ]
     },
     "execution_count": 51,
     "metadata": {},
     "output_type": "execute_result"
    }
   ],
   "source": [
    "(0.17175 - 0.171739)/0.171739"
   ]
  },
  {
   "cell_type": "code",
   "execution_count": 48,
   "metadata": {},
   "outputs": [
    {
     "name": "stdout",
     "output_type": "stream",
     "text": [
      "[0.17724596111843977, 0.17195170208699612, 0.15614675204232828, 0.12958926725013642, 0.0044229743431094]\n"
     ]
    }
   ],
   "source": [
    "print(normalized_flux)"
   ]
  },
  {
   "cell_type": "code",
   "execution_count": 49,
   "metadata": {},
   "outputs": [
    {
     "name": "stdout",
     "output_type": "stream",
     "text": [
      "i === 0  -0.1237314072262181\n",
      "i === 1  -0.11881605122539159\n",
      "i === 2  -0.17086140048395543\n",
      "i === 3  -0.7082714395860493\n"
     ]
    },
    {
     "ename": "IndexError",
     "evalue": "list index out of range",
     "output_type": "error",
     "traceback": [
      "\u001b[0;31m---------------------------------------------------------------------------\u001b[0m",
      "\u001b[0;31mIndexError\u001b[0m                                Traceback (most recent call last)",
      "\u001b[0;32m<ipython-input-49-66d741f81346>\u001b[0m in \u001b[0;36m<module>\u001b[0;34m\u001b[0m\n\u001b[1;32m      1\u001b[0m \u001b[0;32mfor\u001b[0m \u001b[0mi\u001b[0m \u001b[0;32min\u001b[0m \u001b[0mrange\u001b[0m\u001b[0;34m(\u001b[0m\u001b[0;36m0\u001b[0m\u001b[0;34m,\u001b[0m \u001b[0mlen\u001b[0m\u001b[0;34m(\u001b[0m\u001b[0mnormalized_flux\u001b[0m\u001b[0;34m)\u001b[0m\u001b[0;34m)\u001b[0m\u001b[0;34m:\u001b[0m\u001b[0;34m\u001b[0m\u001b[0;34m\u001b[0m\u001b[0m\n\u001b[0;32m----> 2\u001b[0;31m     \u001b[0mrelative_difference\u001b[0m \u001b[0;34m=\u001b[0m \u001b[0;34m(\u001b[0m\u001b[0;34m(\u001b[0m\u001b[0mint_sum\u001b[0m\u001b[0;34m[\u001b[0m\u001b[0mi\u001b[0m\u001b[0;34m]\u001b[0m \u001b[0;34m-\u001b[0m \u001b[0mnormalized_flux\u001b[0m\u001b[0;34m[\u001b[0m\u001b[0mi\u001b[0m \u001b[0;34m+\u001b[0m \u001b[0;36m1\u001b[0m\u001b[0;34m]\u001b[0m\u001b[0;34m)\u001b[0m\u001b[0;34m/\u001b[0m \u001b[0mint_sum\u001b[0m\u001b[0;34m[\u001b[0m\u001b[0mi\u001b[0m\u001b[0;34m]\u001b[0m\u001b[0;34m)\u001b[0m \u001b[0;34m*\u001b[0m \u001b[0;36m100\u001b[0m\u001b[0;34m\u001b[0m\u001b[0;34m\u001b[0m\u001b[0m\n\u001b[0m\u001b[1;32m      3\u001b[0m \u001b[0;34m\u001b[0m\u001b[0m\n\u001b[1;32m      4\u001b[0m     \u001b[0mprint\u001b[0m\u001b[0;34m(\u001b[0m\u001b[0;34m\"i === \"\u001b[0m \u001b[0;34m+\u001b[0m \u001b[0mstr\u001b[0m\u001b[0;34m(\u001b[0m\u001b[0mi\u001b[0m\u001b[0;34m)\u001b[0m \u001b[0;34m+\u001b[0m \u001b[0mstr\u001b[0m\u001b[0;34m(\u001b[0m\u001b[0;34m\"  \"\u001b[0m\u001b[0;34m)\u001b[0m \u001b[0;34m+\u001b[0m \u001b[0mstr\u001b[0m\u001b[0;34m(\u001b[0m\u001b[0mrelative_difference\u001b[0m\u001b[0;34m)\u001b[0m\u001b[0;34m)\u001b[0m\u001b[0;34m\u001b[0m\u001b[0;34m\u001b[0m\u001b[0m\n",
      "\u001b[0;31mIndexError\u001b[0m: list index out of range"
     ]
    }
   ],
   "source": [
    "for i in range(0, len(normalized_flux)):\n",
    "    relative_difference = ((int_sum[i] - normalized_flux[i + 1])/ int_sum[i]) * 100\n",
    "    \n",
    "    print(\"i === \" + str(i) + str(\"  \") + str(relative_difference))"
   ]
  },
  {
   "cell_type": "code",
   "execution_count": 42,
   "metadata": {},
   "outputs": [],
   "source": [
    "flux_slub = [0.9701734, 1.0, 0.9701734, 0.881054, 0.7318131, 0.4902592]\n",
    "flux_points = [0, 0.25, 0.5, 0.75, 1]\n",
    "flux_points_1 = [-0.25, 0, 0.25, 0.5, 0.75, 1]\n",
    "import matplotlib.pyplot as plt"
   ]
  },
  {
   "cell_type": "code",
   "execution_count": 43,
   "metadata": {},
   "outputs": [
    {
     "data": {
      "text/plain": [
       "<matplotlib.legend.Legend at 0x7f5f313d2c10>"
      ]
     },
     "execution_count": 43,
     "metadata": {},
     "output_type": "execute_result"
    },
    {
     "data": {
      "image/png": "[encoded data removed]",
      "text/plain": [
       "<Figure size 576x576 with 1 Axes>"
      ]
     },
     "metadata": {
      "needs_background": "light"
     },
     "output_type": "display_data"
    }
   ],
   "source": [
    "import matplotlib.pyplot as plt\n",
    "plt.figure(figsize=(8, 8))\n",
    "plt.title(\"normalized flux\", fontsize = 15)\n",
    "plt.xlabel(\"flux points \", fontsize = 15)\n",
    "plt.ylabel(\"normalized flux\", fontsize = 15)\n",
    "\n",
    "\n",
    "plt.plot(flux_points_1, flux_slub, marker = 's', markersize=10, label=\"expected\")\n",
    "plt.plot(flux_points, result_flux, label=\"actual\")\n",
    "plt.legend()"
   ]
  },
  {
   "cell_type": "code",
   "execution_count": null,
   "metadata": {},
   "outputs": [],
   "source": []
  },
  {
   "cell_type": "code",
   "execution_count": 56,
   "metadata": {},
   "outputs": [],
   "source": [
    "sub_path = \"/home/xeinia/Documents/bastra74/One_medium_simple_geometries/1_group/Cylinder/\"\n",
    "file_name_zero = \"/result_flux.txt0.txt\"\n",
    "file_name_1 = \"/result_flux.txt1.txt\"\n",
    "file_name_2 = \"/result_flux.txt2.txt\"\n",
    "\n",
    "names_measurings = [file_name_zero, file_name_1, file_name_2]"
   ]
  },
  {
   "cell_type": "code",
   "execution_count": 57,
   "metadata": {},
   "outputs": [],
   "source": [
    "collision_sum = get_collision_sum(sub_path, names_measurings, 1, 25)"
   ]
  },
  {
   "cell_type": "code",
   "execution_count": null,
   "metadata": {},
   "outputs": [],
   "source": []
  },
  {
   "cell_type": "code",
   "execution_count": 14,
   "metadata": {},
   "outputs": [],
   "source": [
    "def get_average_number_of_collision(collisions):\n",
    "    \n",
    "    average_number_of_collision = []\n",
    "    for i in range(0, len(collisions)):\n",
    "\n",
    "        average_number_of_collision.append((sum(collisions[i])) / len(collisions[i]))        \n",
    "            \n",
    "    return average_number_of_collision"
   ]
  },
  {
   "cell_type": "code",
   "execution_count": null,
   "metadata": {},
   "outputs": [],
   "source": [
    "average_sum_of_collision = get_average_number_of_collision(collision_sum)"
   ]
  },
  {
   "cell_type": "code",
   "execution_count": 60,
   "metadata": {},
   "outputs": [],
   "source": [
    "def divide_estimators_square(average_number_of_collision, radius, epsilon):\n",
    "    average_number_of_collision[0] /= np.pi * epsilon * epsilon\n",
    "    \n",
    "    average_number_of_collision[1] /= np.pi * ((radius * 0.5 + epsilon) * (radius * 0.5 + epsilon) -\n",
    "                                            (radius * 0.5 - epsilon) * (radius * 0.5 - epsilon))\n",
    "    \n",
    "    average_number_of_collision[2] /= np.pi * ((radius) * (radius) -\n",
    "                                            (radius - 0.1) * (radius - 0.1))\n",
    "    \n",
    "    \n",
    "    \n",
    "    result_estimators = [ average_number_of_collision[1]/\n",
    "                         average_number_of_collision[0], average_number_of_collision[2]/ average_number_of_collision[0]]\n",
    "    \n",
    "    return result_estimators, average_number_of_collision[0]"
   ]
  },
  {
   "cell_type": "code",
   "execution_count": 61,
   "metadata": {},
   "outputs": [],
   "source": [
    "normalise_flux, zero_point = divide_estimators_square(average_sum_of_collision, 4.279960, 0.2)"
   ]
  },
  {
   "cell_type": "code",
   "execution_count": 63,
   "metadata": {},
   "outputs": [],
   "source": [
    "   \n",
    "result_std = []\n",
    "for i in range(0, len(collision_sum)):\n",
    "    current_std = get_std(collision_sum[i])\n",
    "    result_std.append(current_std)  \n"
   ]
  },
  {
   "cell_type": "code",
   "execution_count": 67,
   "metadata": {},
   "outputs": [
    {
     "data": {
      "text/plain": [
       "[0.8085557712596925, 0.3141866499389094]"
      ]
     },
     "execution_count": 67,
     "metadata": {},
     "output_type": "execute_result"
    }
   ],
   "source": [
    "normalise_flux"
   ]
  },
  {
   "cell_type": "code",
   "execution_count": 66,
   "metadata": {},
   "outputs": [
    {
     "name": "stdout",
     "output_type": "stream",
     "text": [
      "-0.09195956262295205 % 3.801530838942063\n",
      "7.377529029018917 % 1.5173662507588488\n"
     ]
    }
   ],
   "source": [
    "test_flux = [0.8093, 0.2926]\n",
    "\n",
    "\n",
    "# In[65]:\n",
    "\n",
    "\n",
    "for i in range(0, len(test_flux)):\n",
    "    print(str(((normalise_flux[i] - test_flux[i])/test_flux[i] )* 100) + \" % \" + str(result_std[i + 1] * 100000))\n"
   ]
  },
  {
   "cell_type": "code",
   "execution_count": 73,
   "metadata": {},
   "outputs": [],
   "source": [
    "def get_fluxes_cylinder(sub_path, file_names, idx_start, idx_end, radius, epsilon, border):\n",
    "    print(\" sub_path \"+ str(sub_path))\n",
    "    \n",
    "    result_fluxes = []\n",
    "    result_std = []\n",
    "    i = 0\n",
    "    zero_value = 0.\n",
    "    for name in file_names:\n",
    "        result_flux = get_flux_value(sub_path, name, idx_start, idx_end)\n",
    "        normalise_flux = np.array(result_flux)\n",
    "        if i == 0:\n",
    "            normalise_flux = normalise_flux / (np.pi * epsilon * epsilon)\n",
    "            zero_value = normalise_flux\n",
    "            \n",
    "        if i == 1:\n",
    "            normalise_flux = normalise_flux / (np.pi * ((radius * 0.5 + epsilon) * (radius * 0.5 + epsilon) -\n",
    "                                            (radius * 0.5 - epsilon) * (radius * 0.5 - epsilon)))\n",
    "            normalise_flux = normalise_flux / zero_value\n",
    "            \n",
    "        if i == 2:\n",
    "            normalise_flux = normalise_flux / (np.pi * ((radius) * (radius) -\n",
    "                                            (radius - border) * (radius - border)))\n",
    "            normalise_flux = normalise_flux / zero_value\n",
    "        i = i + 1\n",
    "                \n",
    "            \n",
    "            \n",
    "        current_std = get_std(normalise_flux)\n",
    "        print(\"current std  \"+ str(current_std * 100000) )\n",
    "        result_std.append(current_std)\n",
    "        result_fluxes.append(sum(normalise_flux)/ len(normalise_flux))\n",
    "        \n",
    "    return result_fluxes, result_std   "
   ]
  },
  {
   "cell_type": "code",
   "execution_count": 74,
   "metadata": {},
   "outputs": [],
   "source": [
    "radius = 4.279960\n",
    "epsilon = 0.05\n",
    "border = 0.1"
   ]
  },
  {
   "cell_type": "code",
   "execution_count": 76,
   "metadata": {},
   "outputs": [],
   "source": [
    "zero_point = get_flux_value(sub_path, file_name_zero, 1, 25)\n",
    "zero_point = sum(zero_point) / len(zero_point)"
   ]
  },
  {
   "cell_type": "code",
   "execution_count": 77,
   "metadata": {},
   "outputs": [
    {
     "name": "stdout",
     "output_type": "stream",
     "text": [
      " sub_path /home/xeinia/Documents/bastra74/One_medium_simple_geometries/1_group/Cylinder/\n",
      "current std  76.34719419259567\n",
      "current std  8.401361231118065\n",
      "current std  1.7273347528743053\n"
     ]
    }
   ],
   "source": [
    "result_fluxes, result_std = get_fluxes_cylinder(sub_path, names_measurings, 1, 25, radius, epsilon, border)"
   ]
  },
  {
   "cell_type": "code",
   "execution_count": 78,
   "metadata": {},
   "outputs": [],
   "source": [
    "flux_points = [0., 0.5, 1.]"
   ]
  },
  {
   "cell_type": "code",
   "execution_count": 79,
   "metadata": {},
   "outputs": [],
   "source": [
    "from scipy.interpolate import interp1d\n",
    "\n",
    "import scipy.integrate as integrate"
   ]
  },
  {
   "cell_type": "code",
   "execution_count": 80,
   "metadata": {},
   "outputs": [],
   "source": [
    "test_flux = [1, 0.8093, 0.2926]"
   ]
  },
  {
   "cell_type": "code",
   "execution_count": 81,
   "metadata": {},
   "outputs": [
    {
     "name": "stdout",
     "output_type": "stream",
     "text": [
      "[0.0, 0.5, 1.0]\n",
      "[1, 0.8093, 0.2926]\n"
     ]
    }
   ],
   "source": [
    "print(flux_points)\n",
    "print(test_flux)"
   ]
  },
  {
   "cell_type": "code",
   "execution_count": 82,
   "metadata": {},
   "outputs": [],
   "source": [
    "ius = interp1d(flux_points, test_flux)\n",
    "result_ints = []\n",
    "for i in range(1, len(flux_points) - 1):\n",
    "    first_point = flux_points[i]  - epsilon / radius\n",
    "    secound_point = flux_points[i]  + epsilon / radius\n",
    "    result = integrate.quad(ius, first_point, secound_point)\n",
    "    result_ints.append(result)\n",
    "\n",
    "border_sum = integrate.quad(ius, 1. - border / radius, 1.)\n",
    "result_ints.append(border_sum)"
   ]
  },
  {
   "cell_type": "code",
   "execution_count": 83,
   "metadata": {},
   "outputs": [
    {
     "name": "stdout",
     "output_type": "stream",
     "text": [
      "[(0.01886456360797864, 2.0944075466988732e-16), (0.003488774093297849, 3.873317326095026e-17)]\n"
     ]
    }
   ],
   "source": [
    "print(result_ints)"
   ]
  },
  {
   "cell_type": "code",
   "execution_count": 84,
   "metadata": {},
   "outputs": [],
   "source": [
    "int_flux = [0.01886456360797864, 0.003488774093297849]"
   ]
  },
  {
   "cell_type": "code",
   "execution_count": 85,
   "metadata": {},
   "outputs": [],
   "source": [
    "first = result_fluxes[0] * ( 2. * epsilon / radius)\n",
    "secound = result_fluxes[1] * ( border /radius)"
   ]
  },
  {
   "cell_type": "code",
   "execution_count": null,
   "metadata": {},
   "outputs": [],
   "source": []
  },
  {
   "cell_type": "code",
   "execution_count": 9,
   "metadata": {},
   "outputs": [],
   "source": [
    "sub_path = \"/home/xeinia/Documents/bastra74/One_medium_simple_geometries/1_group/Sphere/\"\n",
    "file_name_zero = \"/result_flux.txt0.txt\"\n",
    "file_name_1 = \"/result_flux.txt1.txt\"\n",
    "file_name_2 = \"/result_flux.txt2.txt\"\n",
    "file_name_3 = \"/result_flux.txt3.txt\"\n",
    "file_name_4 = \"/result_flux.txt4.txt\"\n",
    "\n",
    "names_measurings = [file_name_zero, file_name_1, file_name_2, file_name_3, file_name_4]"
   ]
  },
  {
   "cell_type": "code",
   "execution_count": 10,
   "metadata": {},
   "outputs": [],
   "source": [
    "collision_sum = get_collision_sum(sub_path, names_measurings, 1, 50)"
   ]
  },
  {
   "cell_type": "code",
   "execution_count": 15,
   "metadata": {},
   "outputs": [],
   "source": [
    "def divide_estimators_square(average_number_of_collision, radius, epsilon):\n",
    "    \n",
    "    average_number_of_collision[0] /= np.pi * 4/3 * 0.1 * 0.1 * 0.1\n",
    "    \n",
    "    average_number_of_collision[1] /= np.pi * 4/3 * ((radius * 0.25 + epsilon) * (radius * 0.25 + epsilon) * (radius * 0.25 + epsilon) -\n",
    "                                (radius * 0.25 - epsilon) * (radius * 0.25 - epsilon)* (radius * 0.25 - epsilon))\n",
    "    \n",
    "    average_number_of_collision[2] /= np.pi * 4/3 * ((radius * 0.5 + epsilon) * (radius * 0.5 + epsilon) * (radius * 0.5 + epsilon) -\n",
    "                                (radius * 0.5 - epsilon) * (radius * 0.5 - epsilon)* (radius * 0.5 - epsilon))\n",
    "    \n",
    "    average_number_of_collision[3] /= np.pi * 4/3 * ((radius * 0.75 + epsilon) * (radius * 0.75 + epsilon) * (radius * 0.75 + epsilon) -\n",
    "                                (radius * 0.75 - epsilon) * (radius * 0.75 - epsilon)* (radius * 0.75 - epsilon))\n",
    "    \n",
    "    average_number_of_collision[4] /= np.pi * 4/3 * ((radius) * (radius) * (radius) -\n",
    "                                            (radius - 0.05) * (radius - 0.05) * (radius - 0.05))\n",
    "    \n",
    "    \n",
    "    \n",
    "    result_estimators = [ average_number_of_collision[1]/average_number_of_collision[0], \n",
    "                         average_number_of_collision[2]/ average_number_of_collision[0],\n",
    "                        average_number_of_collision[3]/ average_number_of_collision[0],\n",
    "                        average_number_of_collision[4]/ average_number_of_collision[0]]\n",
    "    \n",
    "    return result_estimators   \n"
   ]
  },
  {
   "cell_type": "code",
   "execution_count": 16,
   "metadata": {},
   "outputs": [],
   "source": [
    "average_sum_of_collision = get_average_number_of_collision(collision_sum)"
   ]
  },
  {
   "cell_type": "code",
   "execution_count": null,
   "metadata": {},
   "outputs": [],
   "source": []
  },
  {
   "cell_type": "code",
   "execution_count": 17,
   "metadata": {},
   "outputs": [],
   "source": [
    "flux_sphere = divide_estimators_square(average_sum_of_collision, 6.082547, 0.05)\n"
   ]
  },
  {
   "cell_type": "code",
   "execution_count": 23,
   "metadata": {},
   "outputs": [
    {
     "name": "stdout",
     "output_type": "stream",
     "text": [
      "0.6591005711721616 % \n",
      "0.6578057455777834 % \n",
      "0.6583029107311942 % \n",
      "4.86502211931066 % \n"
     ]
    }
   ],
   "source": [
    "test_flux = [0.93538006, 0.75575352, 0.49884364, 0.19222603]\n",
    "\n",
    "for i in range(0, len(test_flux)):\n",
    "    print(str(((flux_sphere[i] - test_flux[i])/test_flux[i] )* 100) + \" % \")\n",
    "\n"
   ]
  },
  {
   "cell_type": "code",
   "execution_count": 24,
   "metadata": {},
   "outputs": [],
   "source": [
    "def get_flux_value(sub_path, file_name, idx_start, idx_end):\n",
    "    \n",
    "    merged_flux = []\n",
    "    for i in range(idx_start, idx_end):\n",
    "        if i == 11:\n",
    "            continue\n",
    "        \n",
    "        if i == 31:\n",
    "            continue\n",
    "        result_name = sub_path + str(i) + file_name\n",
    "        \n",
    "        current_flux = get_flux_from_file(result_name)\n",
    "        current_flux = current_flux[10: len(current_flux) - 1]\n",
    "        merged_flux.extend(current_flux)\n",
    "        \n",
    "    return merged_flux"
   ]
  },
  {
   "cell_type": "code",
   "execution_count": 25,
   "metadata": {},
   "outputs": [],
   "source": [
    "sub_path = \"/home/xeinia/Documents/bastra74/One_medium_simple_geometries/1_group/Sphere/\"\n",
    "file_name_zero = \"/result_flux.txt0.txt\"\n",
    "file_name_1 = \"/result_flux.txt1.txt\"\n",
    "file_name_2 = \"/result_flux.txt2.txt\"\n",
    "file_name_3 = \"/result_flux.txt3.txt\"\n",
    "file_name_4 = \"/result_flux.txt4.txt\"\n",
    "\n",
    "names_measurings = [file_name_zero, file_name_1, file_name_2, file_name_3, file_name_4]"
   ]
  },
  {
   "cell_type": "code",
   "execution_count": 26,
   "metadata": {},
   "outputs": [],
   "source": [
    "zero_point = get_flux_value(sub_path, file_name_zero, 1, 51)\n",
    "zero_point = sum(zero_point) / len(zero_point)"
   ]
  },
  {
   "cell_type": "code",
   "execution_count": 27,
   "metadata": {},
   "outputs": [],
   "source": [
    "def get_fluxes_sphere(sub_path, file_names, idx_start, idx_end, radius, zenter, epsilon, border):\n",
    "    \n",
    "    result_fluxes = []\n",
    "    result_std = []\n",
    "    i = 0\n",
    "    zero_value = 0.\n",
    "\n",
    "    result_flux = get_flux_value(sub_path, file_names[0], idx_start, idx_end)\n",
    "    normalise_flux = np.array(result_flux)\n",
    "    normalise_flux = normalise_flux / (np.pi * 4/3 * zenter * zenter * zenter)\n",
    "    zero_value = sum(normalise_flux)/ len(normalise_flux)\n",
    "    \n",
    "    current_std = get_std(normalise_flux)\n",
    "    result_std.append(current_std)\n",
    "    result_fluxes.append(sum(normalise_flux)/ len(normalise_flux))\n",
    "    \n",
    "    \n",
    "    result_flux = get_flux_value(sub_path, file_names[1], idx_start, idx_end)\n",
    "    normalise_flux = np.array(result_flux)\n",
    "    normalise_flux = normalise_flux / (np.pi * 4/3 * ((radius * 0.25 + epsilon) * (radius * 0.25 + epsilon) * (radius * 0.25 + epsilon) -\n",
    "                                (radius * 0.25 - epsilon) * (radius * 0.25 - epsilon)* (radius * 0.25 - epsilon)))\n",
    "    normalise_flux = normalise_flux / zero_value\n",
    "    \n",
    "    current_std = get_std(normalise_flux)\n",
    "    result_std.append(current_std)\n",
    "    result_fluxes.append(sum(normalise_flux)/ len(normalise_flux))\n",
    "    \n",
    "    \n",
    "    result_flux = get_flux_value(sub_path, file_names[2], idx_start, idx_end)\n",
    "    normalise_flux = np.array(result_flux)\n",
    "    normalise_flux = normalise_flux / (np.pi * 4/3 * ((radius * 0.5 + epsilon) * (radius * 0.5 + epsilon) * (radius * 0.5 + epsilon) -\n",
    "                                (radius * 0.5 - epsilon) * (radius * 0.5 - epsilon)* (radius * 0.5 - epsilon)))\n",
    "    normalise_flux = normalise_flux / zero_value\n",
    "    \n",
    "    current_std = get_std(normalise_flux)\n",
    "    result_std.append(current_std)\n",
    "    result_fluxes.append(sum(normalise_flux)/ len(normalise_flux))\n",
    "    \n",
    "    \n",
    "    result_flux = get_flux_value(sub_path, file_names[3], idx_start, idx_end)\n",
    "    normalise_flux = np.array(result_flux)\n",
    "    normalise_flux = normalise_flux / (np.pi * 4/3 * ((radius * 0.75 + epsilon) * (radius * 0.75 + epsilon) * (radius * 0.75 + epsilon) -\n",
    "                                (radius * 0.75 - epsilon) * (radius * 0.75 - epsilon)* (radius * 0.75 - epsilon)))\n",
    "    normalise_flux = normalise_flux / zero_value\n",
    "    \n",
    "    current_std = get_std(normalise_flux)\n",
    "    result_std.append(current_std)\n",
    "    result_fluxes.append(sum(normalise_flux)/ len(normalise_flux))\n",
    "    \n",
    "    result_flux = get_flux_value(sub_path, file_names[4], idx_start, idx_end)\n",
    "    normalise_flux = np.array(result_flux)\n",
    "    normalise_flux = normalise_flux / (np.pi * 4/3 * ((radius) * (radius) * (radius) -\n",
    "                                            (radius - border) * (radius - border) * (radius - border)))\n",
    "    normalise_flux = normalise_flux / zero_value\n",
    "    \n",
    "    current_std = get_std(normalise_flux)\n",
    "    result_std.append(current_std)\n",
    "    result_fluxes.append(sum(normalise_flux)/ len(normalise_flux))\n",
    "    \n",
    "    \n",
    "    \n",
    "    return result_fluxes, result_std   "
   ]
  },
  {
   "cell_type": "code",
   "execution_count": 28,
   "metadata": {},
   "outputs": [],
   "source": [
    "result_fluxes, result_std = get_fluxes_sphere(sub_path, names_measurings, 1, 51, 6.082547, 0.1, 0.05, 0.05)"
   ]
  },
  {
   "cell_type": "code",
   "execution_count": 29,
   "metadata": {},
   "outputs": [],
   "source": [
    "import numpy as np\n",
    "\n",
    "from scipy.interpolate import Rbf, InterpolatedUnivariateSpline\n",
    "\n",
    "import matplotlib.pyplot as plt"
   ]
  },
  {
   "cell_type": "code",
   "execution_count": 30,
   "metadata": {},
   "outputs": [],
   "source": [
    "def calculate_int_values(input_points, flux_values, epsilon, border, radius):\n",
    "    \n",
    "    print(input_points)\n",
    "    print(flux_values)\n",
    "    ius = InterpolatedUnivariateSpline(input_points, flux_values)\n",
    "    result_ints = []\n",
    "    for i in range(1, len(input_points) - 1):\n",
    "        \n",
    "        first_point = input_points[i]  - epsilon / radius\n",
    "        secound_point = input_points[i]  + epsilon / radius\n",
    "        \n",
    "        print(first_point)\n",
    "        print(secound_point)\n",
    "\n",
    "        range_sum = ius.integral(first_point, secound_point)\n",
    "        result_ints.append(range_sum)\n",
    "        \n",
    "    border_sum = ius.integral(1. - border / radius, 1.)\n",
    "    result_ints.append(border_sum)\n",
    "    \n",
    "    return result_ints"
   ]
  },
  {
   "cell_type": "code",
   "execution_count": 31,
   "metadata": {},
   "outputs": [],
   "source": [
    "flux_points = [0, 0.25, 0.5, 0.75, 1]\n",
    "epsilon = 0.05\n",
    "border = 0.05\n",
    "radius = 6.082547"
   ]
  },
  {
   "cell_type": "code",
   "execution_count": 32,
   "metadata": {},
   "outputs": [],
   "source": [
    "result_fluxes = [1., 0.9389923093430012, 0.7586947756745532, 0.5007825909215997, 0.20098185151055478]"
   ]
  },
  {
   "cell_type": "code",
   "execution_count": 33,
   "metadata": {},
   "outputs": [
    {
     "name": "stdout",
     "output_type": "stream",
     "text": [
      "[0, 0.25, 0.5, 0.75, 1]\n",
      "[1.0, 0.9389923093430012, 0.7586947756745532, 0.5007825909215997, 0.20098185151055478]\n",
      "0.2417797593672519\n",
      "0.25822024063274807\n",
      "0.49177975936725193\n",
      "0.5082202406327481\n",
      "0.7417797593672519\n",
      "0.7582202406327481\n"
     ]
    }
   ],
   "source": [
    "int_sum = calculate_int_values(flux_points, result_fluxes, epsilon, border, radius)"
   ]
  },
  {
   "cell_type": "code",
   "execution_count": 34,
   "metadata": {},
   "outputs": [
    {
     "name": "stdout",
     "output_type": "stream",
     "text": [
      "[0.015437132078952177, 0.012473081612833123, 0.008232982711015333, 0.0016939120286756032]\n"
     ]
    }
   ],
   "source": [
    "print(int_sum)"
   ]
  },
  {
   "cell_type": "code",
   "execution_count": 35,
   "metadata": {},
   "outputs": [
    {
     "name": "stdout",
     "output_type": "stream",
     "text": [
      "[1.0, 0.9389923093430012, 0.7586947756745532, 0.5007825909215997, 0.20098185151055478]\n"
     ]
    }
   ],
   "source": [
    "print(result_fluxes)"
   ]
  },
  {
   "cell_type": "code",
   "execution_count": 36,
   "metadata": {},
   "outputs": [],
   "source": [
    "result_fluxes = result_fluxes[1:]"
   ]
  },
  {
   "cell_type": "code",
   "execution_count": 40,
   "metadata": {},
   "outputs": [],
   "source": [
    "def multiply_flux_on_range(input_flux, epsilon, border, radius):\n",
    "    \n",
    "    normalised_flux = []\n",
    "    for i in range(0, len(input_flux) - 1):\n",
    "        result_flux = input_flux[i] * ( 2. * epsilon / radius)       \n",
    "        normalised_flux.append(result_flux)\n",
    "    \n",
    "    result_flux = input_flux[-1] * ( border /radius) \n",
    "    normalised_flux.append(result_flux)\n",
    "    \n",
    "    return normalised_flux"
   ]
  },
  {
   "cell_type": "code",
   "execution_count": 41,
   "metadata": {},
   "outputs": [],
   "source": [
    "normalized_flux = multiply_flux_on_range(result_fluxes, epsilon, border, radius)"
   ]
  },
  {
   "cell_type": "code",
   "execution_count": 42,
   "metadata": {},
   "outputs": [
    {
     "name": "stdout",
     "output_type": "stream",
     "text": [
      "[0.015437485470198608, 0.012473307245707322, 0.0082331068041332, 0.0016521191822320058]\n"
     ]
    }
   ],
   "source": [
    "print(normalized_flux)"
   ]
  },
  {
   "cell_type": "code",
   "execution_count": 45,
   "metadata": {},
   "outputs": [
    {
     "name": "stdout",
     "output_type": "stream",
     "text": [
      "[0.015437132078952177, 0.012473081612833123, 0.008232982711015333, 0.0016939120286756032]\n"
     ]
    }
   ],
   "source": [
    "print(int_sum)"
   ]
  },
  {
   "cell_type": "code",
   "execution_count": 43,
   "metadata": {},
   "outputs": [
    {
     "name": "stdout",
     "output_type": "stream",
     "text": [
      "0.0022892286250030263 % \n",
      "0.0018089585332834873 % \n",
      "0.0015072680488016745 % \n",
      "-2.4672383061281784 % \n"
     ]
    }
   ],
   "source": [
    "for i in range(0, len(test_flux)):\n",
    "    print(str(((normalized_flux[i] - int_sum[i])/int_sum[i] )* 100) + \" % \" )"
   ]
  },
  {
   "cell_type": "code",
   "execution_count": 44,
   "metadata": {},
   "outputs": [],
   "source": [
    "flux_points_1 = [-0.25, 0, 0.25, 0.5, 0.75, 1]\n",
    "\n",
    "test_flux = [0.93538006, 1., 0.93538006, 0.75575352, 0.49884364, 0.19222603]\n",
    "\n",
    "result_fluxes = [1., 0.9389923093430012, 0.7586947756745532, 0.5007825909215997, 0.20098185151055478]"
   ]
  },
  {
   "cell_type": "code",
   "execution_count": null,
   "metadata": {},
   "outputs": [],
   "source": []
  },
  {
   "cell_type": "code",
   "execution_count": 55,
   "metadata": {},
   "outputs": [],
   "source": [
    "sub_path = \"/home/xeinia/Documents/bastra74/MG_measurings_b1/reactor_flux_3/\"\n",
    "file_name_zero = \"/result_flux0.txt\"\n",
    "file_name_1 = \"/result_flux1.txt\"\n",
    "file_name_2 = \"/result_flux2.txt\"\n",
    "file_name_3 = \"/result_flux3.txt\"\n",
    "file_name_4 = \"/result_flux4.txt\"\n",
    "\n",
    "names_measurings = [file_name_zero, file_name_1, file_name_2, file_name_3, file_name_4]"
   ]
  },
  {
   "cell_type": "code",
   "execution_count": 57,
   "metadata": {},
   "outputs": [],
   "source": [
    "collision_sum = get_collision_sum(sub_path, names_measurings, 2, 40)"
   ]
  },
  {
   "cell_type": "code",
   "execution_count": 59,
   "metadata": {},
   "outputs": [
    {
     "name": "stdout",
     "output_type": "stream",
     "text": [
      "13735.006863587703\n"
     ]
    }
   ],
   "source": [
    "zero_estimator = collision_sum[0]\n",
    "\n",
    "average_value = sum(zero_estimator)/len(zero_estimator)\n",
    "zero_point = average_value / (0.317337461 * 0.05 *2)\n",
    "print(zero_point)"
   ]
  },
  {
   "cell_type": "code",
   "execution_count": 61,
   "metadata": {},
   "outputs": [],
   "source": [
    "Fe_U_estimator = collision_sum[1]\n",
    "\n",
    "average_value = sum(Fe_U_estimator)/len(Fe_U_estimator)\n",
    "average_value = average_value / ( zero_point * 0.317337461 * 0.05 * 2.)\n",
    "\n",
    "average_array = np.array(Fe_U_estimator)\n",
    "average_array = average_array / (zero_point * 0.317337461 * 0.05 * 2.)\n",
    "current_std = get_std(average_array)\n"
   ]
  },
  {
   "cell_type": "code",
   "execution_count": 62,
   "metadata": {},
   "outputs": [
    {
     "name": "stdout",
     "output_type": "stream",
     "text": [
      "1.2126250843571038\n"
     ]
    }
   ],
   "source": [
    "print(average_value)"
   ]
  },
  {
   "cell_type": "code",
   "execution_count": 63,
   "metadata": {},
   "outputs": [
    {
     "name": "stdout",
     "output_type": "stream",
     "text": [
      " difference from beachmark [pcm]  -1691.291564289621  with standart deviation [pcm]+- 29.7754503567894\n"
     ]
    }
   ],
   "source": [
    "\n",
    "difference = (average_value - 1.229538) * 100000\n",
    "\n",
    "print(\" difference from beachmark [pcm]  \" + str(difference) + \"  with standart deviation [pcm]+- \" + str(current_std * 100000))\n",
    "\n",
    "\n",
    "# In[87]:"
   ]
  },
  {
   "cell_type": "code",
   "execution_count": 65,
   "metadata": {},
   "outputs": [
    {
     "data": {
      "text/plain": [
       "-1.3755504622790193"
      ]
     },
     "execution_count": 65,
     "metadata": {},
     "output_type": "execute_result"
    }
   ],
   "source": [
    "(average_value - 1.229538)/1.229538 * 100"
   ]
  },
  {
   "cell_type": "code",
   "execution_count": 69,
   "metadata": {},
   "outputs": [],
   "source": [
    "U_Fe_estimator = collision_sum[2]\n",
    "\n",
    "start = 10\n",
    "end = len(U_Fe_estimator) - 1\n",
    "\n",
    "average_value = sum(U_Fe_estimator[start: end])/len(U_Fe_estimator[start: end])\n",
    "average_value = average_value / (zero_point * 2. * 0.317337461 * 0.01)\n",
    "\n",
    "\n",
    "average_array = np.array(U_Fe_estimator[start: end])\n",
    "average_array = average_array / (zero_point * 2. * 0.317337461 * 0.01)\n",
    "current_std = get_std(average_array)"
   ]
  },
  {
   "cell_type": "code",
   "execution_count": 74,
   "metadata": {},
   "outputs": [],
   "source": [
    "U_Fe_estimator = collision_sum[3]\n",
    "start = 10\n",
    "end = len(U_Fe_estimator) - 1\n",
    "average_value = sum(U_Fe_estimator[start: end])/len(U_Fe_estimator[start: end])\n",
    "average_value = average_value / (zero_point * (5.754395005 - 5.437057544)  * 0.04)\n",
    "\n",
    "\n",
    "average_array = np.array(U_Fe_estimator[start: end])\n",
    "average_array = average_array / (zero_point * (5.754395005 - 5.437057544)  * 0.04)\n",
    "current_std = get_std(average_array)"
   ]
  },
  {
   "cell_type": "code",
   "execution_count": 77,
   "metadata": {},
   "outputs": [],
   "source": [
    "Na_estimator = collision_sum[4]\n",
    "\n",
    "average_value = sum(Na_estimator)/len(Na_estimator)\n",
    "average_value = average_value / ( zero_point * (7.757166007 -5.754395005) * 0.05)\n",
    "\n",
    "average_array = np.array(Na_estimator)\n",
    "average_array = average_array / (zero_point * (7.757166007 -5.754395005) * 0.05)\n",
    "current_std = get_std(average_array)\n"
   ]
  },
  {
   "cell_type": "code",
   "execution_count": 78,
   "metadata": {},
   "outputs": [
    {
     "name": "stdout",
     "output_type": "stream",
     "text": [
      "0.9140396721327341\n"
     ]
    }
   ],
   "source": [
    "print(average_value)"
   ]
  },
  {
   "cell_type": "code",
   "execution_count": 80,
   "metadata": {},
   "outputs": [
    {
     "name": "stdout",
     "output_type": "stream",
     "text": [
      "0.1936560802231427\n"
     ]
    }
   ],
   "source": [
    "print((average_value - 0.912273)/0.912273 * 100)"
   ]
  },
  {
   "cell_type": "code",
   "execution_count": null,
   "metadata": {},
   "outputs": [],
   "source": [
    "\n",
    "zero_estimator = estimators_result[0]\n",
    "\n",
    "average_value = sum(zero_estimator.collision_sum)/len(zero_estimator.collision_sum)\n",
    "zero_point = average_value / (0.317337461 * 0.05 *2)\n",
    "print(zero_point)\n",
    "\n",
    "\n",
    "# In[92]:\n",
    "\n",
    "\n",
    "print(average_value)\n",
    "\n",
    "\n",
    "# In[73]:\n",
    "\n",
    "\n",
    "Fe_U_estimator = estimators_result[1]\n",
    "\n",
    "average_value = sum(Fe_U_estimator.collision_sum)/len(Fe_U_estimator.collision_sum)\n",
    "average_value = average_value / ( zero_point * 0.317337461 * 0.05 * 2.)\n",
    "\n",
    "average_array = np.array(Fe_U_estimator.collision_sum)\n",
    "average_array = average_array / (zero_point * 0.317337461 * 0.05 * 2.)\n",
    "current_std = get_std(average_array)\n",
    "\n",
    "\n",
    "# In[91]:\n",
    "\n",
    "\n",
    "U_Fe_estimator = estimators_result[2]\n",
    "\n",
    "start = 10\n",
    "end = len(U_Fe_estimator.collision_sum) - 1\n",
    "\n",
    "average_value = sum(U_Fe_estimator.collision_sum[start: end])/len(U_Fe_estimator.collision_sum[start: end])\n",
    "average_value = average_value / (zero_point * 2. * 0.317337461 * 0.01)\n",
    "\n",
    "\n",
    "average_array = np.array(U_Fe_estimator.collision_sum[start: end])\n",
    "average_array = average_array / (zero_point * 2. * 0.317337461 * 0.01)\n",
    "current_std = get_std(average_array)\n",
    "\n",
    "\n",
    "# In[93]:\n",
    "\n",
    "\n",
    "difference = (average_value - 1.49712) * 100000\n",
    "\n",
    "print(\" difference from beachmark [pcm]  \" + str(difference) + \"  with standart deviation [pcm]+- \" + str(current_std * 100000))\n",
    "\n",
    "\n",
    "# In[87]:\n",
    "\n",
    "\n",
    "U_Fe_estimator = estimators_result[3]\n",
    "start = 10\n",
    "end = len(U_Fe_estimator.collision_sum) - 1\n",
    "average_value = sum(U_Fe_estimator.collision_sum[start: end])/len(U_Fe_estimator.collision_sum[start: end])\n",
    "average_value = average_value / (zero_point * (5.754395005 - 5.437057544)  * 0.04)\n",
    "\n",
    "\n",
    "average_array = np.array(U_Fe_estimator.collision_sum[start: end])\n",
    "average_array = average_array / (zero_point * (5.754395005 - 5.437057544)  * 0.04)\n",
    "current_std = get_std(average_array)\n",
    "\n",
    "\n",
    "\n",
    "difference = (average_value - 1.324899) * 100000\n",
    "\n",
    "print(\" difference from beachmark [pcm]  \" + str(difference) + \"  with standart deviation [pcm]+- \" + str(current_std * 100000))\n",
    "\n",
    "\n",
    "# In[82]:\n",
    "\n",
    "\n",
    "Na_estimator = estimators_result[4]\n",
    "\n",
    "average_value = sum(Na_estimator.collision_sum)/len(Na_estimator.collision_sum)\n",
    "average_value = average_value / ( zero_point * (7.757166007 -5.754395005) * 0.05)\n",
    "\n",
    "average_array = np.array(Na_estimator.collision_sum)\n",
    "average_array = average_array / (zero_point * (7.757166007 -5.754395005) * 0.05)\n",
    "current_std = get_std(average_array)\n",
    "\n",
    "\n",
    "# In[83]:\n",
    "\n",
    "\n",
    "difference = (average_value - 0.912273) * 100000\n",
    "\n",
    "print(\" difference from beachmark [pcm]  \" + str(difference) + \"  with standart deviation [pcm]+- \" + str(current_std * 100000))\n"
   ]
  }
 ],
 "metadata": {
  "kernelspec": {
   "display_name": "Python 3",
   "language": "python",
   "name": "python3"
  },
  "language_info": {
   "codemirror_mode": {
    "name": "ipython",
    "version": 3
   },
   "file_extension": ".py",
   "mimetype": "text/x-python",
   "name": "python",
   "nbconvert_exporter": "python",
   "pygments_lexer": "ipython3",
   "version": "3.8.5"
  }
 },
 "nbformat": 4,
 "nbformat_minor": 4
}
