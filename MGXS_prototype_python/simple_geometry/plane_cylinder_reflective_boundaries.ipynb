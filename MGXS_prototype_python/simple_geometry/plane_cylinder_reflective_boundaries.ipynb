{
 "cells": [
  {
   "cell_type": "code",
   "execution_count": 1,
   "metadata": {},
   "outputs": [],
   "source": [
    "import numpy as np\n",
    "import matplotlib.pyplot as plt\n",
    "plt.style.use('seaborn-dark')\n",
    "\n",
    "import math\n",
    "import openmc\n",
    "import openmc.mgxs as mgxs\n",
    "import openmc.data\n",
    "import random\n",
    "import h5py"
   ]
  },
  {
   "cell_type": "code",
   "execution_count": 2,
   "metadata": {},
   "outputs": [],
   "source": [
    "class Sig:\n",
    "    def __init__(self):\n",
    "        self.number_groups = 0\n",
    "        self.sig_f = []\n",
    "        self.capture = []\n",
    "        self.scattering = []\n",
    "        self.total = []\n",
    "        self.number_of_production_neutrons = []\n",
    "        self.c_value = []\n",
    "        \n",
    "    def __init__(self, number_groups, sig_f, sig_c, sig_s, number_of_production_neutrons, sig_t):\n",
    "        self.number_groups = number_groups\n",
    "        self.sig_f = sig_f\n",
    "        self.sig_c = sig_c\n",
    "        self.sig_s = sig_s      \n",
    "        self.number_of_production_neutrons = number_of_production_neutrons\n",
    "        self.sig_t = sig_t\n",
    "        self.get_virtual_cs()\n",
    "               \n",
    "    def get_virtual_cs(self):\n",
    "        max_total_cs = max(self.sig_t)\n",
    "        self.virtual = [cross_section - max_total_cs for cross_section in self.sig_t]\n",
    "        \n",
    "    def get_fission_probability(self, energy_group_idx):\n",
    "        return self.sig_f[energy_group_idx] / self.sig_t[energy_group_idx]\n",
    "    \n",
    "    def get_capture_probability(self, energy_group_idx):\n",
    "        return self.sig_c[energy_group_idx] / self.sig_t[energy_group_idx]\n",
    "        \n",
    "    def get_scatter_probability(self, energy_group_idx):\n",
    "        return self.sig_s[energy_group_idx] / self.sig_t[energy_group_idx]\n",
    "        \n",
    "        \n",
    "    \n",
    "        "
   ]
  },
  {
   "cell_type": "code",
   "execution_count": 3,
   "metadata": {},
   "outputs": [],
   "source": [
    "cs_fission_pu_239 = [0.081600]\n",
    "\n",
    "cs_fission_h2o = [0.0]\n",
    "\n",
    "cs_capture_pu_239 = [0.019584]\n",
    "\n",
    "cs_capture_h2o = [0.032640]\n",
    "\n",
    "cs_scattering_pu_239 = [0.225216]\n",
    "\n",
    "cs_scattering_h2o = [0.293760]\n",
    "\n",
    "cs_total_pu_23 = [0.32640]\n",
    "\n",
    "cs_total_h2o = [0.32640]\n",
    "\n",
    "cs_production_neutrons_pu_239 = [3.24]\n",
    "cs_production_neutrons_h2o = [0.0]\n",
    "\n",
    "cs_c_value_pu_239 = [1.50]\n",
    "cs_c_value_h2o = [0.90]\n",
    "\n",
    "pu_23_cs = Sig(1, cs_fission_pu_239, cs_capture_pu_239, cs_scattering_pu_239, \n",
    "                       cs_production_neutrons_pu_239,  cs_total_pu_23)\n",
    "\n",
    "\n",
    "h2o_cs = Sig(1, cs_fission_h2o, cs_capture_h2o, cs_scattering_h2o, \n",
    "                     cs_c_value_pu_239,  cs_total_h2o)\n",
    "\n",
    "pu_h2o_CS_table_2 = {  \n",
    "    \"pu_23\" : pu_23_cs,\n",
    "    \"h2o\" : h2o_cs    \n",
    "}\n",
    "\n",
    "energy_groups_2 = [0, 2 * 1E10]"
   ]
  },
  {
   "cell_type": "code",
   "execution_count": 4,
   "metadata": {},
   "outputs": [],
   "source": [
    "class Positon:\n",
    "    def __init__(self, x, y, z):\n",
    "        self.x = x\n",
    "        self.y = y\n",
    "        self.z = z\n"
   ]
  },
  {
   "cell_type": "code",
   "execution_count": 5,
   "metadata": {},
   "outputs": [],
   "source": [
    "class Direction:\n",
    "    def __init__(self, ets, phi):\n",
    "        self.tetta_x = math.sin(ets) * math.cos(phi)\n",
    "        self.tetta_y = math.sin(ets) * math.sin(phi)\n",
    "        self.tetta_z = math.cos(ets)\n",
    "        "
   ]
  },
  {
   "cell_type": "code",
   "execution_count": null,
   "metadata": {},
   "outputs": [],
   "source": []
  },
  {
   "cell_type": "code",
   "execution_count": 6,
   "metadata": {},
   "outputs": [],
   "source": [
    "class Particle:\n",
    "    def __init__(self):\n",
    "        self.coordinates = Positon(0, 0, 0)\n",
    "        self.direction = Direction(0, 0)\n",
    "        self.energy = 0\n",
    "        self.weight = 1\n",
    "        self.energy_groups = []\n",
    "        self.terminated = False\n",
    "        self.path = 0. \n",
    "        \n",
    "    def set_coordinates(self, x, y, z):\n",
    "        self.coordinates = Positon(x, y, z)\n",
    "        \n",
    "    def set_direction(self, ets, phi):\n",
    "        self.direction = Direction(ets, phi)\n",
    "    \n",
    "    def set_direction_angle(self, angle):\n",
    "        self.direction = angle\n",
    "        \n",
    "    def set_energy_groups(self, energy_groups):\n",
    "        self.energy_groups = energy_groups\n",
    "        \n",
    "    def get_energy_group(self):  \n",
    "        res = next(x for x, val in enumerate(self.energy_groups)\n",
    "                                  if val > self.energy)        \n",
    "        return res - 1\n",
    "    \n",
    "    def set_terminated(self):\n",
    "        self.terminated = True\n",
    "        \n",
    "    def is_terminated(self):\n",
    "        return self.terminated\n",
    "        \n",
    "    def get_weight(self):\n",
    "        return self.weight\n",
    "    \n",
    "    def set_weight(self, weight):\n",
    "        self.weight = weight\n",
    "    \n",
    "    def set_particle_deleted(self):\n",
    "        self.weight = self.weight * 0\n",
    "        \n",
    "    def set_particle_fission(self, additional_weight):\n",
    "        self.weight = self.weight * additional_weight\n",
    "        \n",
    "    def set_multiplicity(self, additional_weight):\n",
    "        self.weight = self.weight * additional_weight\n",
    "              \n",
    "    def is_particle_deleted(self):\n",
    "        return self.weight < 0.0001\n",
    "    \n",
    "    def add_path(self, path):\n",
    "        self.path += path\n",
    "    \n",
    "    def get_path(self):\n",
    "        return self.path\n",
    "    \n",
    "    def set_path(self, path):\n",
    "        self.path = path\n",
    "        \n",
    "    def print_direction(self):\n",
    "        print(str(self.direction.tetta_x) + \" \" + str(self.direction.tetta_y) + \" \" + str(self.direction.tetta_z))\n",
    "        \n",
    "    def print_coordinates(self):\n",
    "        print(str(self.coordinates.x) + \"  \" + str(self.coordinates.y) + \" \" + str(self.coordinates.z))  \n",
    "        \n",
    "        \n",
    "        "
   ]
  },
  {
   "cell_type": "code",
   "execution_count": 7,
   "metadata": {},
   "outputs": [],
   "source": [
    "## Infinite cylinder parallel to z-axis\n",
    "\n",
    "class ZCylinder:\n",
    "    def __init__(self, x_0, y_0, r):\n",
    "        self.x_0 = x_0\n",
    "        self.y_0 = y_0\n",
    "        self.r = r\n",
    "        \n",
    "    def distance(self, particle):\n",
    "    \n",
    "        a_ = particle.direction.tetta_x * particle.direction.tetta_x + (particle.direction.tetta_y * particle.direction.tetta_y )\n",
    "        \n",
    "        ## If a=0a 0a=0, this means the particle is parallel to the cylinder and will thus never intersect it\n",
    "        if (abs(a_) < 1e-9):\n",
    "            return -1\n",
    "        \n",
    "        c_ = ((particle.coordinates.x - self.x_0) * (particle.coordinates.x - self.x_0) + \n",
    "              (particle.coordinates.y - self.y_0) * (particle.coordinates.y - self.y_0) - self.r * self.r)\n",
    "\n",
    "        k_ = (particle.coordinates.x -self.x_0) * particle.direction.tetta_x + (particle.coordinates.y -self.y_0) * particle.direction.tetta_y\n",
    "        \n",
    "        dec = k_ * k_ - a_ * c_\n",
    "        \n",
    "        if dec < 0:\n",
    "            return -1\n",
    "        \n",
    "        dist_1 = (-k_ + math.sqrt(k_ * k_ - a_ * c_))/a_\n",
    "        dist_2 = (-k_ - math.sqrt(k_ * k_ - a_ * c_))/a_\n",
    "         \n",
    "        distance = min(dist_1, dist_2)\n",
    "        \n",
    "        return distance \n",
    "    \n",
    "    def get_normal(self):\n",
    "        sq = math.sqrt(self.A * self.A + self.B * self.B + self.C * self.C)\n",
    "        a_n = self.A / sq\n",
    "        b_n = self.B / sq\n",
    "        c_n = self.C / sq\n",
    "        return [a_n, b_n, c_n]\n",
    "    \n",
    "    def get_reflected_direction(self, angle):\n",
    "        \n",
    "        eps = random.uniform(0, math.pi * 2)\n",
    "        tetta = random.uniform(0, math.pi)\n",
    "        r_reflected = Direction(eps, tetta)\n",
    "        \n",
    "        return r_reflected  \n",
    "    \n",
    "    def get_sign(self, particle):\n",
    "            \n",
    "        sign = ((self.x_0 - particle.coordinates.x) * (self.x_0 - particle.coordinates.x) + \n",
    "        (self.y_0 - particle.coordinates.y) * (self.y_0 - particle.coordinates.y) - self.r * self.r)\n",
    "        \n",
    "        if sign == 0:\n",
    "            return 0\n",
    "            \n",
    "        if sign < 0:\n",
    "            return -1\n",
    "        else:\n",
    "            return 1  \n",
    "    "
   ]
  },
  {
   "cell_type": "code",
   "execution_count": 8,
   "metadata": {},
   "outputs": [],
   "source": [
    "class Plane:\n",
    "    def __init__(self, A, B, C, D):\n",
    "        self.A = A\n",
    "        self.B = B\n",
    "        self.C = C\n",
    "        self.D = D\n",
    "        \n",
    "    def distance(self, particle):\n",
    "        vp = (self.A * particle.direction.tetta_x + self.B * particle.direction.tetta_y + \n",
    "              self.C * particle.direction.tetta_z)\n",
    "        \n",
    "        \n",
    "        if (abs(vp) < 1e-9):\n",
    "            return -1\n",
    "        \n",
    "        distance = (self.D - self.A * particle.coordinates.x - self.B * particle.coordinates.y \n",
    "                    - self.C * particle.coordinates.z) / vp\n",
    "        \n",
    "        return distance \n",
    "    \n",
    "    def get_normal(self):\n",
    "        sq = math.sqrt(self.A * self.A + self.B * self.B + self.C * self.C)\n",
    "        a_n = self.A / sq\n",
    "        b_n = self.B / sq\n",
    "        c_n = self.C / sq\n",
    "        return [a_n, b_n, c_n]\n",
    "    \n",
    "    def get_reflected_direction(self, angle):\n",
    "        normal_sq = self.A * self.A + self.B * self.B + self.C * self.C\n",
    "        \n",
    "        x_numerator = 2 * self.A * (self.A * angle.tetta_x + self.B * angle.tetta_y +\n",
    "                                 self.C * angle.tetta_z)\n",
    "        \n",
    "        y_numerator = 2 * self.B * (self.A * angle.tetta_x + self.B * angle.tetta_y +\n",
    "                                 self.C * angle.tetta_z)\n",
    "        \n",
    "        z_numerator = 2 * self.C * (self.C * angle.tetta_x + self.B * angle.tetta_y +\n",
    "                                 self.C * angle.tetta_z)\n",
    "        \n",
    "        \n",
    "        r_reflected = Direction(0, 0)      \n",
    "      #  print(str(angle.tetta_x) + \" \" + str(angle.tetta_y) + \" \" + str(angle.tetta_z))\n",
    "       # print(str(x_numerator / normal_sq) + \" \" + str(y_numerator / normal_sq) + \" \" + str(z_numerator / normal_sq))\n",
    "        r_reflected.tetta_x = angle.tetta_x - x_numerator / normal_sq\n",
    "        r_reflected.tetta_y = angle.tetta_y - y_numerator / normal_sq\n",
    "        r_reflected.tetta_z = angle.tetta_z - z_numerator / normal_sq\n",
    "        \n",
    "       # print(str(r_reflected.tetta_x) + \" \" + str(r_reflected.tetta_y) + \" \" + str(r_reflected.tetta_z))\n",
    "        \n",
    "        return r_reflected\n",
    "    \n",
    "    def get_sign(self, particle):\n",
    "      \n",
    "        sign = (self.A * particle.coordinates.x + self.B * particle.coordinates.y +\n",
    "        self.C * particle.coordinates.z - self.D)\n",
    "        \n",
    "        if sign == 0:\n",
    "            return sign    \n",
    "            \n",
    "        if sign < 0:\n",
    "            return -1\n",
    "        else:\n",
    "            return 1    \n",
    "        "
   ]
  },
  {
   "cell_type": "code",
   "execution_count": null,
   "metadata": {},
   "outputs": [],
   "source": []
  },
  {
   "cell_type": "code",
   "execution_count": 9,
   "metadata": {},
   "outputs": [],
   "source": [
    "class Cell:\n",
    "    def __init__(self):\n",
    "        self.surfaces = []\n",
    "        self.signs = []\n",
    "        self.size = \n",
    "        \n",
    "    def __init__(self, surfaces, signs):\n",
    "        self.surfaces = surfaces\n",
    "        self.signs = signs\n",
    "        self.size = len(self.signs)\n",
    "        \n",
    "    def is_inside(self, particle):\n",
    "        \n",
    "        is_inside = True\n",
    "        for i in range(0, self.size):\n",
    "            sign = self.surfaces[i].get_sign(particle)\n",
    "            if self.signs[i] != sign:\n",
    "                is_inside = False\n",
    "                \n",
    "        return is_inside  \n",
    "    \n",
    "    def get_minimum_distance(self, particle):\n",
    "        \n",
    "        minimum_distance = math.inf\n",
    "        surface_idx = 0\n",
    "        for i in range(0, len(self.surfaces)):\n",
    "            current_distance = self.surfaces[i].distance(particle)\n",
    "            if current_distance > 0:\n",
    "                minimum_distance = min(minimum_distance, current_distance)\n",
    "                surface_idx = i\n",
    "        return minimum_distance, surface_idx\n",
    "            \n",
    "            "
   ]
  },
  {
   "cell_type": "code",
   "execution_count": 43,
   "metadata": {},
   "outputs": [],
   "source": [
    "class Universe:\n",
    "    def __init__(self, cells, xs):\n",
    "        self.cells = cells\n",
    "        self.xs = xs\n",
    "        \n",
    "    def get_xs_by_coordinates(self, particle):\n",
    "        \n",
    "        for i in range(0, len(cells)):\n",
    "            cell = cells[i]\n",
    "            if not cell.is_inside(particle):\n",
    "                return xs[i]\n",
    "            \n",
    "    def \n",
    "            "
   ]
  },
  {
   "cell_type": "code",
   "execution_count": 10,
   "metadata": {},
   "outputs": [
    {
     "data": {
      "text/plain": [
       "True"
      ]
     },
     "execution_count": 10,
     "metadata": {},
     "output_type": "execute_result"
    }
   ],
   "source": [
    "x_5 = Plane(0, 1, 0, 30)\n",
    "x_m5 = Plane(0, 1, 0, -30)\n",
    "\n",
    "y_5 = Plane(1, 0, 0, 30)\n",
    "y_m5 = Plane(1, 0, 0, -30)\n",
    "\n",
    "\n",
    "\n",
    "z_5 = Plane(0, 0, 1, 30)\n",
    "z_m5 = Plane(0, 0, 1, -30)\n",
    "\n",
    "surfaces = [x_5, x_m5, y_5, y_m5, z_5, z_m5]\n",
    "signs = [-1, +1, -1, +1, -1, +1]\n",
    "box = Cell(surfaces, signs)\n",
    "\n",
    "\n",
    "particle_inside = Particle()\n",
    "\n",
    "particle_inside.set_coordinates(1, 1, 1)\n",
    "particle_inside.set_direction(0.5, 0.6)\n",
    "box.is_inside(particle_inside)"
   ]
  },
  {
   "cell_type": "code",
   "execution_count": null,
   "metadata": {},
   "outputs": [],
   "source": []
  },
  {
   "cell_type": "code",
   "execution_count": 11,
   "metadata": {},
   "outputs": [],
   "source": [
    "import random\n",
    "\n",
    "def make_initial_sources(number_of_paricles, box_size, energy=10.0e6):\n",
    "    \n",
    "    step_x = 2 * box_size[0]/number_of_paricles\n",
    "    step_y = 2 * box_size[1]/number_of_paricles\n",
    "    step_z = 2 * box_size[2]/number_of_paricles\n",
    "    \n",
    "    x_coord = -box_size[0]\n",
    "    y_coord = -box_size[1]\n",
    "    z_coord = -box_size[2]\n",
    "    \n",
    "    sources = []\n",
    "    for i in range(0, number_of_paricles):\n",
    "        for j in range(0, number_of_paricles):\n",
    "            for k in range(0, number_of_paricles):\n",
    "                eps = random.uniform(0, math.pi * 2.)\n",
    "                tetta = random.uniform(0, math.pi * 2.)\n",
    "                current_particle = Particle()\n",
    "                current_particle.set_coordinates(x_coord + k * step_x, y_coord + j * step_y, z_coord+ i * step_z)\n",
    "             #   current_particle.print_coordinates()\n",
    "               # print(\" eps  \"+ str(eps))\n",
    "                #print(\" tetta  \"+ str(tetta))\n",
    "                current_particle.set_direction(eps, tetta)\n",
    "                current_particle.energy = energy\n",
    "                current_particle.set_energy_groups(energy_groups_2)\n",
    "                sources.append(current_particle)\n",
    "\n",
    "    return sources\n"
   ]
  },
  {
   "cell_type": "code",
   "execution_count": 12,
   "metadata": {},
   "outputs": [],
   "source": [
    "plane_1 = Plane(1, 0, 0, 5)\n",
    "plane_2 = Plane(1, 0, 0, -5)\n",
    "\n",
    "plane_3 = Plane(0, 1, 0, 5)\n",
    "plane_4 = Plane(0, 1, 0, -5)\n",
    "\n",
    "plane_5 = Plane(0, 0, 1, 5)\n",
    "plane_6 = Plane(0, 0, 1, -5)\n",
    "\n",
    "surfaces = [plane_1, plane_2, plane_3, plane_4, plane_5, plane_6]\n",
    "signs = [-1, +1, -1, +1, -1, +1]\n",
    "box = Cell(surfaces, signs)"
   ]
  },
  {
   "cell_type": "code",
   "execution_count": 13,
   "metadata": {},
   "outputs": [
    {
     "data": {
      "text/plain": [
       "True"
      ]
     },
     "execution_count": 13,
     "metadata": {},
     "output_type": "execute_result"
    }
   ],
   "source": [
    "particle_inside = Particle()\n",
    "\n",
    "particle_inside.set_coordinates(1, 1, 1)\n",
    "particle_inside.set_direction(0.5, 0.6)\n",
    "box.is_inside(particle_inside)"
   ]
  },
  {
   "cell_type": "code",
   "execution_count": 14,
   "metadata": {},
   "outputs": [],
   "source": [
    "test_cylinder = ZCylinder(1, 5, 5)\n",
    "\n",
    "plane_5 = Plane(0, 0, 1, 5)\n",
    "plane_6 = Plane(0, 0, 1, -5)\n",
    "\n",
    "surfaces = [test_cylinder, plane_5, plane_6]\n",
    "signs = [-1, -1, +1]\n",
    "\n",
    "cylinder = Cell(surfaces, signs)"
   ]
  },
  {
   "cell_type": "code",
   "execution_count": 15,
   "metadata": {},
   "outputs": [
    {
     "data": {
      "text/plain": [
       "True"
      ]
     },
     "execution_count": 15,
     "metadata": {},
     "output_type": "execute_result"
    }
   ],
   "source": [
    "particle_inside = Particle()\n",
    "\n",
    "particle_inside.set_coordinates(1, 1, 1)\n",
    "particle_inside.set_direction(0.5, 0.6)\n",
    "cylinder.is_inside(particle_inside)"
   ]
  },
  {
   "cell_type": "code",
   "execution_count": 16,
   "metadata": {},
   "outputs": [
    {
     "data": {
      "text/plain": [
       "False"
      ]
     },
     "execution_count": 16,
     "metadata": {},
     "output_type": "execute_result"
    }
   ],
   "source": [
    "particle_outside = Particle()\n",
    "\n",
    "particle_outside.set_coordinates(9, 9, 9)\n",
    "particle_outside.set_direction(0.5, 0.6)\n",
    "box.is_inside(particle_outside)"
   ]
  },
  {
   "cell_type": "code",
   "execution_count": 17,
   "metadata": {},
   "outputs": [],
   "source": [
    "def get_free_path(particle, c_s):\n",
    "    \n",
    "    energy_group_idx = particle.get_energy_group()   \n",
    "    sig_t = c_s.sig_t[energy_group_idx]#\n",
    "    free_path = -math.log(random.uniform(0, 1)) / sig_t\n",
    "    \n",
    "    return free_path  "
   ]
  },
  {
   "cell_type": "code",
   "execution_count": 18,
   "metadata": {},
   "outputs": [],
   "source": [
    "def move_particle(particle, t):\n",
    "    new_x = particle.direction.tetta_x * (t - 0.0001) + particle.coordinates.x\n",
    "    new_y = particle.direction.tetta_y * (t - 0.0001) + particle.coordinates.y\n",
    "    new_z = particle.direction.tetta_z * (t - 0.0001) + particle.coordinates.z\n",
    "    particle.set_coordinates(new_x, new_y, new_z)"
   ]
  },
  {
   "cell_type": "code",
   "execution_count": 19,
   "metadata": {},
   "outputs": [],
   "source": [
    "def get_temp_coordinates(particle, t):\n",
    "    temp_particle = Particle()\n",
    "    new_x = particle.direction.tetta_x * (t) + particle.coordinates.x\n",
    "    new_y = particle.direction.tetta_y * (t) + particle.coordinates.y\n",
    "    new_z = particle.direction.tetta_z * (t) + particle.coordinates.z\n",
    "    temp_particle.set_coordinates(new_x, new_y, new_z)\n",
    "    return temp_particle\n",
    "    "
   ]
  },
  {
   "cell_type": "code",
   "execution_count": 20,
   "metadata": {},
   "outputs": [],
   "source": [
    "def is_collision_virual(particle, c_s):\n",
    "    \n",
    "    energy_group_idx = particle.get_energy_group()\n",
    "    random_number = random.uniform(0, 1)\n",
    "    virtual_cs = c_s.virtual[energy_group_idx]\n",
    "    total_cs = c_s.sig_t[energy_group_idx]\n",
    "    if virtual_cs / total_cs >= random_number:\n",
    "        return True\n",
    "    else:\n",
    "        return False"
   ]
  },
  {
   "cell_type": "code",
   "execution_count": 21,
   "metadata": {},
   "outputs": [],
   "source": [
    "def process_virtual_collision(particle, free_path):\n",
    "    particle.add_path(free_path)\n",
    "    "
   ]
  },
  {
   "cell_type": "code",
   "execution_count": 22,
   "metadata": {},
   "outputs": [],
   "source": [
    "def set_random_direction_vector(particle):\n",
    "    eps = random.uniform(0, math.pi * 2)\n",
    "    tetta = random.uniform(0, math.pi)\n",
    "    particle.set_direction(eps, tetta)"
   ]
  },
  {
   "cell_type": "code",
   "execution_count": 23,
   "metadata": {},
   "outputs": [],
   "source": [
    "def process_real_collision(particle, free_path, universe, c_s):\n",
    "    \n",
    "    energy_group_idx = particle.get_energy_group()\n",
    "  \n",
    "    number_of_production_neutrons = c_s.number_of_production_neutrons[energy_group_idx]   \n",
    "    capture_probability = c_s.get_capture_probability(energy_group_idx)\n",
    "    scatter_probability = c_s.get_scatter_probability(energy_group_idx)  \n",
    "    fission_probability = c_s.get_fission_probability(energy_group_idx)  \n",
    "    particle.add_path(free_path)\n",
    "    \n",
    "    \n",
    "    type_collision = np.random.choice(['capture', 'scatter', 'fission'], p=[capture_probability, scatter_probability,\n",
    "                                                                            fission_probability])\n",
    "    if type_collision == 'capture':\n",
    "        particle.set_terminated()\n",
    "        particle.set_weight(0.)\n",
    "        \n",
    "    if type_collision == 'scatter':      \n",
    "        set_random_direction_vector(particle)\n",
    "        \n",
    "    if type_collision == 'fission':    \n",
    "        particle.set_particle_fission(number_of_production_neutrons)\n",
    "        particle.set_terminated()"
   ]
  },
  {
   "cell_type": "code",
   "execution_count": 24,
   "metadata": {},
   "outputs": [],
   "source": [
    "def reflect_particle(particle, universe):\n",
    "    distance, surface_idx = universe.get_minimum_distance(particle)\n",
    "   # print(\" distance \" + str(distance))\n",
    "    move_particle(particle, distance)\n",
    "    particle.direction = universe.surfaces[surface_idx].get_reflected_direction(particle.direction)\n",
    "    \n",
    "    \n",
    "    "
   ]
  },
  {
   "cell_type": "code",
   "execution_count": 25,
   "metadata": {},
   "outputs": [],
   "source": [
    "def process_one_particle_history(particle, universe, c_s):\n",
    "    \n",
    "    while not particle.is_terminated():\n",
    "        \n",
    "        free_path = get_free_path(particle, c_s)\n",
    "        particle_temp = get_temp_coordinates(particle, free_path)\n",
    "        if not universe.is_inside(particle_temp):\n",
    "            reflect_particle(particle, universe)\n",
    "        else:\n",
    "            move_particle(particle, free_path)            \n",
    "            \n",
    "        if is_collision_virual(particle, c_s):\n",
    "            process_virtual_collision(particle, free_path)\n",
    "        else:\n",
    "            process_real_collision(particle, free_path, universe, c_s)\n",
    "            \n",
    "    return particle"
   ]
  },
  {
   "cell_type": "code",
   "execution_count": 26,
   "metadata": {},
   "outputs": [],
   "source": [
    "def process_one_particle_history_black_boundary(particle, universe, c_s):\n",
    "    \n",
    "    while not particle.is_terminated():\n",
    "        \n",
    "        free_path = get_free_path(particle, c_s)\n",
    "\n",
    "        move_particle(particle, free_path)            \n",
    "            \n",
    "        if is_collision_virual(particle, c_s):\n",
    "            process_virtual_collision(particle, free_path)\n",
    "        else:\n",
    "            process_real_collision(particle, free_path, universe, c_s)\n",
    "            \n",
    "    return particle"
   ]
  },
  {
   "cell_type": "code",
   "execution_count": 27,
   "metadata": {},
   "outputs": [],
   "source": [
    "def delete_absorpbed_paricles(particles):\n",
    "    \n",
    "    existing_particles = []\n",
    "    for i in range(0, len(particles)):\n",
    "        particle = particles[i]\n",
    "        if particle.get_weight() > 0.0001:\n",
    "            existing_particles.append(particle)\n",
    "                     \n",
    "    return existing_particles"
   ]
  },
  {
   "cell_type": "code",
   "execution_count": 28,
   "metadata": {},
   "outputs": [],
   "source": [
    "def get_weights(particles):\n",
    "    \n",
    "    weights = []\n",
    "    for i in range(0, len(particles)):\n",
    "        weights.append(particles[i].weight)\n",
    "        \n",
    "    return weights"
   ]
  },
  {
   "cell_type": "code",
   "execution_count": 29,
   "metadata": {},
   "outputs": [],
   "source": [
    "def make_sources(particles):\n",
    "    for i in range(0, len(particles)):\n",
    "        particles[i].terminated = False\n",
    "        particles[i].set_path(0.)\n",
    "    "
   ]
  },
  {
   "cell_type": "code",
   "execution_count": 30,
   "metadata": {},
   "outputs": [],
   "source": [
    "def calculate_k_effective(weights, batch_size):\n",
    "    \n",
    "    k_effective = sum(weights) / batch_size\n",
    "    \n",
    "    return k_effective"
   ]
  },
  {
   "cell_type": "code",
   "execution_count": 31,
   "metadata": {},
   "outputs": [],
   "source": [
    "import copy\n",
    "\n",
    "def splitting(particles):\n",
    "    \n",
    "    splitting_particles = []\n",
    "    for i in range(0, len(particles)):\n",
    "        particle = particles[i]\n",
    "        n_value = math.floor(particle.get_weight())\n",
    "        if particle.get_weight() > 1.0 and n_value > 1:       \n",
    "            random_value = random.uniform(0, 1)\n",
    "            splitted_weight = particle.get_weight() / n_value\n",
    "            if particle.get_weight() - n_value >= random_value:\n",
    "                n_value +=1\n",
    "            particle.set_weight(splitted_weight)\n",
    "            for i in range(0, n_value - 1):\n",
    "                splitting_particles.append(copy.deepcopy(particle))\n",
    "        else:\n",
    "            splitting_particles.append(particle)\n",
    "    return splitting_particles"
   ]
  },
  {
   "cell_type": "code",
   "execution_count": 32,
   "metadata": {},
   "outputs": [],
   "source": [
    "def normalise_weights(particles, batch_size):\n",
    "\n",
    "    sum_weights = 0.\n",
    "    for i in range(0, len(particles)):\n",
    "        sum_weights += particles[i].get_weight()\n",
    "\n",
    "    for i in range(0, len(particles)):\n",
    "        particles[i].weight = (particles[i].weight * batch_size) / sum_weights\n",
    "                \n",
    "    return particles"
   ]
  },
  {
   "cell_type": "code",
   "execution_count": 33,
   "metadata": {},
   "outputs": [],
   "source": [
    "def make_particles_equal_weights(number_of_paricles, energy=10.0e6, box_size=[3., 3., 3.]):\n",
    "    \n",
    "    step_x = 2 * box_size[0]/number_of_paricles\n",
    "    step_y = 2 * box_size[1]/number_of_paricles\n",
    "    step_z = 2 * box_size[2]/number_of_paricles\n",
    "    \n",
    "    x_coord = -box_size[0]\n",
    "    y_coord = -box_size[1]\n",
    "    z_coord = -box_size[2]\n",
    "    \n",
    "    sources = []\n",
    "    for i in range(0, number_of_paricles):\n",
    "   \n",
    "        eps = random.uniform(0, math.pi * 2.)\n",
    "        tetta = random.uniform(0, math.pi * 2.)\n",
    "        current_particle = Particle()\n",
    "        current_particle.set_coordinates(x_coord + i * step_x, y_coord + i* step_y, z_coord + i * step_z)\n",
    "      #  current_particle.print_coordinates()\n",
    "       # print(\"eps  \" + str(eps))\n",
    "        #print(\"tetta  \" + str(tetta))\n",
    "        current_particle.set_direction(eps, tetta)\n",
    "        current_particle.energy = energy\n",
    "        current_particle.set_energy_groups(energy_groups_2)\n",
    "        sources.append(current_particle)\n",
    "\n",
    "    return sources"
   ]
  },
  {
   "cell_type": "code",
   "execution_count": 34,
   "metadata": {},
   "outputs": [],
   "source": [
    "particles_equal_weights = make_particles_equal_weights(10, energy=10.0e6, box_size=[3., 3., 3.])"
   ]
  },
  {
   "cell_type": "code",
   "execution_count": 35,
   "metadata": {},
   "outputs": [
    {
     "name": "stdout",
     "output_type": "stream",
     "text": [
      "[1, 1, 1, 1, 1, 1, 1, 1, 1, 1]\n"
     ]
    }
   ],
   "source": [
    "weights = get_weights(particles_equal_weights)\n",
    "print(weights)"
   ]
  },
  {
   "cell_type": "code",
   "execution_count": null,
   "metadata": {},
   "outputs": [],
   "source": []
  },
  {
   "cell_type": "code",
   "execution_count": 36,
   "metadata": {},
   "outputs": [],
   "source": [
    "def russian_roulette(weights_previous, particles_current):\n",
    "    \n",
    "    for i in range(0, len(particles_current)):\n",
    "        particle = particles_current[i]\n",
    "        if particle.weight > 0 and particle.weight < 0.5 and particle.weight < weights_previous[i]:\n",
    "            probability_terminate = 1. - particle.weight / weights_previous[i]\n",
    "            random_number = random.uniform(0, 1)\n",
    "            if probability_terminate > random_number:\n",
    "                particle.set_weight(0.)\n",
    "            else:\n",
    "                particle.set_weight(weights_previous[i])\n",
    "    return particles_current"
   ]
  },
  {
   "cell_type": "code",
   "execution_count": 37,
   "metadata": {},
   "outputs": [],
   "source": [
    "def flux_estimator(cell_volume, start_weight, particles_current_iteration, cross_section):\n",
    "\n",
    "    \n",
    "    sum_weighted_paths = 0.\n",
    "    for i in range(0, len(particles_current_iteration)):\n",
    "        particle = particles_current_iteration[i]\n",
    "        energy_group_idx = particle.get_energy_group() \n",
    "  \n",
    "        number_of_production_neutrons = cross_section.number_of_production_neutrons[energy_group_idx]   \n",
    "        sum_weighted_paths += particles_current_iteration[i].get_weight()* (\n",
    "            particles_current_iteration[i].get_path())\n",
    "        \n",
    "    total_flux = sum_weighted_paths/(cell_volume * start_weight)\n",
    "    \n",
    "    return total_flux\n",
    "    "
   ]
  },
  {
   "cell_type": "code",
   "execution_count": 38,
   "metadata": {},
   "outputs": [],
   "source": [
    "def terminate_outside_particles(batch_particles, universe):\n",
    "    \n",
    "    for j in range(0, len(batch_particles)):\n",
    "        particle = batch_particles[j]\n",
    "        if not universe.is_inside(particle):\n",
    "            particle.set_weight(0.)\n"
   ]
  },
  {
   "cell_type": "code",
   "execution_count": 39,
   "metadata": {},
   "outputs": [],
   "source": [
    "import statistics\n",
    "\n",
    "def simulation_reflective_boundaries(universe, number_interations,  number_inactive, number_of_particles, c_s):\n",
    "    \n",
    "    k_effective_sample = []\n",
    "    k_effective_std_sample = []\n",
    "    \n",
    "    initial_sources = make_initial_sources(number_of_particles, energy=10.0e6, box_size=[0.1, 0.1, 0.1])\n",
    "    initial_size = len(initial_sources)\n",
    "    current_k_effective = 0.\n",
    "    weights_previous = [1.] * len(initial_sources)\n",
    "    for i in range(0, number_interations):\n",
    "        \n",
    "        make_sources(initial_sources)\n",
    "        batch_size = len(initial_sources)\n",
    "        \n",
    "\n",
    "        batch_particles = []\n",
    "        for j in range(0, batch_size):\n",
    "            \n",
    "            particle = initial_sources[j]\n",
    "            terminate_particle = process_one_particle_history(particle, universe, c_s)\n",
    "            batch_particles.append(terminate_particle)\n",
    "   \n",
    "        terminate_outside_particles(batch_particles, universe)\n",
    "        batch_particles = russian_roulette(weights_previous, batch_particles)\n",
    "\n",
    "        batch_particles = delete_absorpbed_paricles(batch_particles)\n",
    "        \n",
    "        batch_particles = splitting(batch_particles)\n",
    "        weights_cycle = get_weights(batch_particles)\n",
    "        current_k_effective = calculate_k_effective(weights_cycle, initial_size)\n",
    "        \n",
    "        batch_particles = normalise_weights(batch_particles, initial_size)\n",
    "\n",
    "        initial_sources = batch_particles\n",
    "        current_weights = get_weights(batch_particles)\n",
    "        weights_previous = current_weights\n",
    "\n",
    "        if i > number_inactive:\n",
    "            \n",
    "            k_effective_sample.append(current_k_effective)\n",
    "            \n",
    "        if i > number_inactive + 1:\n",
    "            k_effective_std = statistics.stdev(k_effective_sample)\n",
    "            k_effective_std_sample.append(k_effective_std)\n",
    "            print(\" k effective  \" + str(current_k_effective) + \"+- \" + str(k_effective_std))\n",
    "        \n",
    "            \n",
    "    return k_effective_sample, k_effective_std_sample\n",
    "    "
   ]
  },
  {
   "cell_type": "code",
   "execution_count": 40,
   "metadata": {},
   "outputs": [],
   "source": [
    "x_5 = Plane(0, 1, 0, 5)\n",
    "x_m5 = Plane(0, 1, 0, -5)\n",
    "\n",
    "y_5 = Plane(1, 0, 0, 5)\n",
    "y_m5 = Plane(1, 0, 0, -5)\n",
    "\n",
    "\n",
    "\n",
    "z_5 = Plane(0, 0, 1, 5)\n",
    "z_m5 = Plane(0, 0, 1, -5)\n",
    "\n",
    "surfaces = [x_5, x_m5, y_5, y_m5, z_5, z_m5]\n",
    "signs = [-1, +1, -1, +1, -1, +1]\n",
    "box = Cell(surfaces, signs)"
   ]
  },
  {
   "cell_type": "code",
   "execution_count": 41,
   "metadata": {},
   "outputs": [],
   "source": [
    "import statistics\n",
    "\n",
    "def simulation_black_boundaries(universe, number_interations, number_inactive, number_of_particles, c_s):\n",
    "    \n",
    "    k_effective_sample = []\n",
    "    k_effective_std_sample = []\n",
    "    \n",
    "    initial_sources = make_initial_sources(number_of_particles, energy=10.0e6, box_size=[0.1, 0.1, 0.1])\n",
    "    initial_size = len(initial_sources)\n",
    "    current_k_effective = 0.\n",
    "    weights_previous = [1.] * len(initial_sources)\n",
    "    for i in range(0, number_interations):\n",
    "        \n",
    "        make_sources(initial_sources)\n",
    "        batch_size = len(initial_sources)\n",
    "        \n",
    "\n",
    "        batch_particles = []\n",
    "        for j in range(0, batch_size):\n",
    "            \n",
    "            particle = initial_sources[j]\n",
    "            terminate_particle = process_one_particle_history_black_boundary(particle, universe, c_s)\n",
    "            batch_particles.append(terminate_particle)\n",
    "   \n",
    "     #   terminate_outside_particles(batch_particles, universe)\n",
    "        batch_particles = russian_roulette(weights_previous, batch_particles)\n",
    "\n",
    "        batch_particles = delete_absorpbed_paricles(batch_particles)\n",
    "        \n",
    "        batch_particles = splitting(batch_particles)\n",
    "        weights_cycle = get_weights(batch_particles)\n",
    "        current_k_effective = calculate_k_effective(weights_cycle, initial_size)\n",
    "        \n",
    "        batch_particles = normalise_weights(batch_particles, initial_size)\n",
    "\n",
    "        initial_sources = batch_particles\n",
    "        current_weights = get_weights(batch_particles)\n",
    "        weights_previous = current_weights\n",
    "\n",
    "        if i > number_inactive:\n",
    "            \n",
    "            k_effective_sample.append(current_k_effective)\n",
    "            \n",
    "        if i > number_inactive + 1:\n",
    "            k_effective_std = statistics.stdev(k_effective_sample)\n",
    "            k_effective_std_sample.append(k_effective_std)\n",
    "            print(\" k effective  \" + str(current_k_effective) + \"+- \" + str(k_effective_std))\n",
    "        \n",
    "            \n",
    "    return k_effective_sample, k_effective_std_sample"
   ]
  },
  {
   "cell_type": "code",
   "execution_count": 149,
   "metadata": {},
   "outputs": [
    {
     "data": {
      "text/plain": [
       "True"
      ]
     },
     "execution_count": 149,
     "metadata": {},
     "output_type": "execute_result"
    }
   ],
   "source": [
    "particle_inside = Particle()\n",
    "\n",
    "particle_inside.set_coordinates(-0.5, -0.5, -0.5)\n",
    "particle_inside.set_direction(0., 3.14/2.)\n",
    "box.is_inside(particle_inside)"
   ]
  },
  {
   "cell_type": "code",
   "execution_count": 125,
   "metadata": {},
   "outputs": [
    {
     "data": {
      "text/plain": [
       "(5.5, 4)"
      ]
     },
     "execution_count": 125,
     "metadata": {},
     "output_type": "execute_result"
    }
   ],
   "source": [
    "box.get_minimum_distance(particle_inside)"
   ]
  },
  {
   "cell_type": "code",
   "execution_count": 126,
   "metadata": {},
   "outputs": [
    {
     "name": "stdout",
     "output_type": "stream",
     "text": [
      "0.0 0.0 1.0\n"
     ]
    }
   ],
   "source": [
    "particle_inside.print_direction()"
   ]
  },
  {
   "cell_type": "code",
   "execution_count": 127,
   "metadata": {},
   "outputs": [
    {
     "name": "stdout",
     "output_type": "stream",
     "text": [
      "-0.5  -0.5 -0.5\n"
     ]
    }
   ],
   "source": [
    "particle_inside.print_coordinates()"
   ]
  },
  {
   "cell_type": "code",
   "execution_count": 128,
   "metadata": {},
   "outputs": [],
   "source": [
    "reflect_particle(particle_inside, box)"
   ]
  },
  {
   "cell_type": "code",
   "execution_count": 129,
   "metadata": {},
   "outputs": [
    {
     "data": {
      "text/plain": [
       "True"
      ]
     },
     "execution_count": 129,
     "metadata": {},
     "output_type": "execute_result"
    }
   ],
   "source": [
    "particle_inside = Particle()\n",
    "\n",
    "particle_inside.set_coordinates(-0.5, -0.5, -0.5)\n",
    "particle_inside.set_direction(4.18524, 1.036991231)\n",
    "slab_2.is_inside(particle_inside)"
   ]
  },
  {
   "cell_type": "code",
   "execution_count": 130,
   "metadata": {},
   "outputs": [
    {
     "data": {
      "text/plain": [
       "(2.956300513716578, 5)"
      ]
     },
     "execution_count": 130,
     "metadata": {},
     "output_type": "execute_result"
    }
   ],
   "source": [
    "slab_2.get_minimum_distance(particle_inside)"
   ]
  },
  {
   "cell_type": "code",
   "execution_count": 131,
   "metadata": {},
   "outputs": [],
   "source": [
    "reflect_particle(particle_inside, slab_2)"
   ]
  },
  {
   "cell_type": "code",
   "execution_count": 132,
   "metadata": {},
   "outputs": [
    {
     "name": "stdout",
     "output_type": "stream",
     "text": [
      "-0.4397387863541912 -0.7440087070229503 1.3825489827982234\n"
     ]
    }
   ],
   "source": [
    "particle_inside.print_direction()"
   ]
  },
  {
   "cell_type": "code",
   "execution_count": 133,
   "metadata": {},
   "outputs": [
    {
     "name": "stdout",
     "output_type": "stream",
     "text": [
      "-1.7999560261213645  -2.6994389219108523 -1.9871799609437104\n"
     ]
    }
   ],
   "source": [
    "particle_inside.print_coordinates()"
   ]
  },
  {
   "cell_type": "code",
   "execution_count": 134,
   "metadata": {},
   "outputs": [
    {
     "data": {
      "text/plain": [
       "(0.00010000000000024793, 4)"
      ]
     },
     "execution_count": 134,
     "metadata": {},
     "output_type": "execute_result"
    }
   ],
   "source": [
    "slab_2.get_minimum_distance(particle_inside)"
   ]
  },
  {
   "cell_type": "code",
   "execution_count": 135,
   "metadata": {},
   "outputs": [],
   "source": [
    "reflect_particle(particle_inside, slab_2)"
   ]
  },
  {
   "cell_type": "code",
   "execution_count": 136,
   "metadata": {},
   "outputs": [
    {
     "name": "stdout",
     "output_type": "stream",
     "text": [
      "-1.7999560261213645  -2.6994389219108523 -1.98717996094371\n"
     ]
    }
   ],
   "source": [
    "particle_inside.print_coordinates()"
   ]
  },
  {
   "cell_type": "code",
   "execution_count": 137,
   "metadata": {},
   "outputs": [
    {
     "data": {
      "text/plain": [
       "(0.00010000000000024793, 5)"
      ]
     },
     "execution_count": 137,
     "metadata": {},
     "output_type": "execute_result"
    }
   ],
   "source": [
    "slab_2.get_minimum_distance(particle_inside)"
   ]
  },
  {
   "cell_type": "code",
   "execution_count": 117,
   "metadata": {},
   "outputs": [
    {
     "name": "stdout",
     "output_type": "stream",
     "text": [
      " k effective  1.7134615384615888+- 0.10471780124685057\n",
      " k effective  1.4999999999999714+- 0.10936975987863616\n",
      "outside\n",
      "5.000059362191159  4.999948646191761 -0.9747808458087811\n",
      " k effective  1.7684509090909823+- 0.1252007630939633\n"
     ]
    }
   ],
   "source": [
    "test_number_of_particles = 10\n",
    "test_number_interations = 10\n",
    "test_number_inactive = 5\n",
    "\n",
    "\n",
    "k_effective_sample, k_effective_std_sample = simulation_reflective_boundaries(box, test_number_interations,  test_number_inactive, \n",
    "                           test_number_of_particles, pu_23_cs)\n"
   ]
  },
  {
   "cell_type": "code",
   "execution_count": 150,
   "metadata": {},
   "outputs": [],
   "source": [
    "# one medium slab"
   ]
  },
  {
   "cell_type": "code",
   "execution_count": 151,
   "metadata": {},
   "outputs": [],
   "source": [
    "x_5 = Plane(0, 1, 0, 500)\n",
    "x_m5 = Plane(0, 1, 0, -500)\n",
    "\n",
    "y_5 = Plane(1, 0, 0, 1.8)\n",
    "y_m5 = Plane(1, 0, 0, -1.8)\n",
    "\n",
    "\n",
    "\n",
    "z_5 = Plane(0, 0, 1, 500)\n",
    "z_m5 = Plane(0, 0, 1, -500)\n",
    "\n",
    "surfaces = [x_5, x_m5, y_5, y_m5, z_5, z_m5]\n",
    "\n",
    "signs = [-1, +1, -1, +1, -1, +1]\n",
    "slab_2 = Cell(surfaces, signs)"
   ]
  },
  {
   "cell_type": "code",
   "execution_count": 152,
   "metadata": {},
   "outputs": [
    {
     "name": "stdout",
     "output_type": "stream",
     "text": [
      " k effective  1.0814066163064195+- 0.018487826995184507\n",
      " k effective  1.0816857440167826+- 0.0151764664928003\n",
      " k effective  1.123620779220654+- 0.028277802358220198\n",
      " k effective  1.0225689676693126+- 0.03730449115608671\n",
      " k effective  1.1212920237310071+- 0.03877446801092161\n",
      " k effective  1.0398171428572327+- 0.0386632775861653\n",
      " k effective  1.1210234766554619+- 0.0393064672003735\n",
      " k effective  1.0758831003810372+- 0.036804857795694305\n",
      " k effective  1.037846938775651+- 0.03720456571578161\n",
      " k effective  1.15210512344039+- 0.04209210233927676\n",
      " k effective  1.0344456886898592+- 0.04250620790140905\n",
      " k effective  1.0867342166797431+- 0.040754365990061055\n",
      " k effective  1.075398915569234+- 0.039170975946200254\n",
      " k effective  1.0872812135354197+- 0.03780342979019694\n",
      " k effective  1.0617797810687715+- 0.03679710808331929\n",
      " k effective  1.1286664920097205+- 0.03763838531682058\n",
      " k effective  1.029370769616565+- 0.03853225549770612\n",
      " k effective  1.1041451867436654+- 0.03789970339235062\n",
      " k effective  1.0816670954464764+- 0.03689070652118131\n",
      " k effective  1.076532237348798+- 0.03596504078115632\n",
      " k effective  1.0699806725939511+- 0.03516232760894744\n",
      " k effective  1.090815450643587+- 0.03443513468935651\n",
      " k effective  1.0520473860417288+- 0.034157153509365164\n",
      " k effective  1.1142630535360423+- 0.03418161066317772\n",
      " k effective  1.0588289557975767+- 0.033752858556564874\n",
      " k effective  1.0870569785675843+- 0.033130166286610974\n",
      " k effective  1.0794391067258582+- 0.032510889744169325\n",
      " k effective  1.0846297739669317+- 0.03193830329224526\n"
     ]
    }
   ],
   "source": [
    "test_number_of_particles = 20\n",
    "test_number_interations = 100\n",
    "test_number_inactive = 70\n",
    "\n",
    "\n",
    "k_effective_sample, k_effective_std_sample = simulation_black_boundaries(slab_2,  test_number_interations,  test_number_inactive, \n",
    "                           test_number_of_particles, pu_23_cs)\n"
   ]
  },
  {
   "cell_type": "code",
   "execution_count": 154,
   "metadata": {},
   "outputs": [],
   "source": [
    "test_cylinder = ZCylinder(1, 5, 5)\n",
    "\n",
    "plane_5 = Plane(0, 0, 1, 5)\n",
    "plane_6 = Plane(0, 0, 1, -5)\n",
    "\n",
    "surfaces = [test_cylinder, plane_5, plane_6]\n",
    "signs = [-1, -1, +1]\n",
    "\n",
    "cylinder = Cell(surfaces, signs)\n",
    "\n"
   ]
  },
  {
   "cell_type": "code",
   "execution_count": null,
   "metadata": {},
   "outputs": [],
   "source": [
    "test_number_of_particles = 20\n",
    "test_number_interations = 100\n",
    "test_number_inactive = 70\n",
    "\n",
    "\n",
    "k_effective_sample, k_effective_std_sample = simulation_black_boundaries(slab_2,  test_number_interations,  test_number_inactive, \n",
    "                           test_number_of_particles, pu_23_cs)\n"
   ]
  },
  {
   "cell_type": "code",
   "execution_count": 347,
   "metadata": {},
   "outputs": [
    {
     "name": "stdout",
     "output_type": "stream",
     "text": [
      "2\n",
      "outside\n",
      "-4.796990095430157  -1.029830583837203 4.999925058241048\n",
      "outside\n",
      "-3.305445927506881  -2.819743969498402 4.999900248070012\n",
      "+++++++++++++++++++++++++++++++++++++++++++++\n",
      "after splitting \n",
      "[]\n",
      "_____________________\n",
      " sum 0\n",
      " initial_size  2\n",
      "after normalisation \n",
      "[]\n",
      "_____________________\n",
      "+++++++++++++++++++++++++++++++++++++++++++++\n",
      "+++++++++++++++++++++++++++++++++++++++++++++\n",
      "after splitting \n",
      "[]\n",
      "_____________________\n",
      " sum 0\n",
      " initial_size  2\n",
      "after normalisation \n",
      "[]\n",
      "_____________________\n",
      "+++++++++++++++++++++++++++++++++++++++++++++\n",
      "+++++++++++++++++++++++++++++++++++++++++++++\n",
      "after splitting \n",
      "[]\n",
      "_____________________\n",
      " sum 0\n",
      " initial_size  2\n",
      "after normalisation \n",
      "[]\n",
      "_____________________\n",
      "+++++++++++++++++++++++++++++++++++++++++++++\n",
      "+++++++++++++++++++++++++++++++++++++++++++++\n",
      "after splitting \n",
      "[]\n",
      "_____________________\n",
      " sum 0\n",
      " initial_size  2\n",
      "after normalisation \n",
      "[]\n",
      "_____________________\n",
      "+++++++++++++++++++++++++++++++++++++++++++++\n",
      "+++++++++++++++++++++++++++++++++++++++++++++\n",
      "after splitting \n",
      "[]\n",
      "_____________________\n",
      " sum 0\n",
      " initial_size  2\n",
      "after normalisation \n",
      "[]\n",
      "_____________________\n",
      "+++++++++++++++++++++++++++++++++++++++++++++\n",
      "+++++++++++++++++++++++++++++++++++++++++++++\n",
      "after splitting \n",
      "[]\n",
      "_____________________\n",
      " sum 0\n",
      " initial_size  2\n",
      "after normalisation \n",
      "[]\n",
      "_____________________\n",
      "+++++++++++++++++++++++++++++++++++++++++++++\n",
      "+++++++++++++++++++++++++++++++++++++++++++++\n",
      "after splitting \n",
      "[]\n",
      "_____________________\n",
      " sum 0\n",
      " initial_size  2\n",
      "after normalisation \n",
      "[]\n",
      "_____________________\n",
      "+++++++++++++++++++++++++++++++++++++++++++++\n",
      "+++++++++++++++++++++++++++++++++++++++++++++\n",
      "after splitting \n",
      "[]\n",
      "_____________________\n",
      " sum 0\n",
      " initial_size  2\n",
      "after normalisation \n",
      "[]\n",
      "_____________________\n",
      "+++++++++++++++++++++++++++++++++++++++++++++\n",
      "+++++++++++++++++++++++++++++++++++++++++++++\n",
      "after splitting \n",
      "[]\n",
      "_____________________\n",
      " sum 0\n",
      " initial_size  2\n",
      "after normalisation \n",
      "[]\n",
      "_____________________\n",
      "+++++++++++++++++++++++++++++++++++++++++++++\n",
      "+++++++++++++++++++++++++++++++++++++++++++++\n",
      "after splitting \n",
      "[]\n",
      "_____________________\n",
      " sum 0\n",
      " initial_size  2\n",
      "after normalisation \n",
      "[]\n",
      "_____________________\n",
      "+++++++++++++++++++++++++++++++++++++++++++++\n"
     ]
    },
    {
     "ename": "NameError",
     "evalue": "name 'current_flux' is not defined",
     "output_type": "error",
     "traceback": [
      "\u001b[0;31m---------------------------------------------------------------------------\u001b[0m",
      "\u001b[0;31mNameError\u001b[0m                                 Traceback (most recent call last)",
      "\u001b[0;32m<ipython-input-347-386baea18318>\u001b[0m in \u001b[0;36m<module>\u001b[0;34m\u001b[0m\n\u001b[1;32m      8\u001b[0m \u001b[0;34m\u001b[0m\u001b[0m\n\u001b[1;32m      9\u001b[0m \u001b[0mcylinder\u001b[0m \u001b[0;34m=\u001b[0m \u001b[0mCell\u001b[0m\u001b[0;34m(\u001b[0m\u001b[0msurfaces\u001b[0m\u001b[0;34m,\u001b[0m \u001b[0msigns\u001b[0m\u001b[0;34m)\u001b[0m\u001b[0;34m\u001b[0m\u001b[0;34m\u001b[0m\u001b[0m\n\u001b[0;32m---> 10\u001b[0;31m \u001b[0mnew_particles\u001b[0m \u001b[0;34m=\u001b[0m \u001b[0msimulation\u001b[0m\u001b[0;34m(\u001b[0m\u001b[0mcylinder\u001b[0m\u001b[0;34m,\u001b[0m \u001b[0;36m36\u001b[0m\u001b[0;34m,\u001b[0m \u001b[0mtest_number_interations\u001b[0m\u001b[0;34m,\u001b[0m \u001b[0mtest_number_of_particles\u001b[0m\u001b[0;34m,\u001b[0m \u001b[0mtest_number_inactive\u001b[0m\u001b[0;34m,\u001b[0m \u001b[0mpu_23_cs\u001b[0m\u001b[0;34m)\u001b[0m\u001b[0;34m\u001b[0m\u001b[0;34m\u001b[0m\u001b[0m\n\u001b[0m",
      "\u001b[0;32m<ipython-input-339-517a158531de>\u001b[0m in \u001b[0;36msimulation\u001b[0;34m(universe, cell_volume, number_interations, number_of_particles, number_inactive, c_s)\u001b[0m\n\u001b[1;32m     54\u001b[0m \u001b[0;34m\u001b[0m\u001b[0m\n\u001b[1;32m     55\u001b[0m \u001b[0;34m\u001b[0m\u001b[0m\n\u001b[0;32m---> 56\u001b[0;31m     \u001b[0mprint\u001b[0m\u001b[0;34m(\u001b[0m\u001b[0;34m\"current_flux \"\u001b[0m \u001b[0;34m+\u001b[0m \u001b[0mstr\u001b[0m\u001b[0;34m(\u001b[0m\u001b[0mcurrent_flux\u001b[0m\u001b[0;34m)\u001b[0m\u001b[0;34m)\u001b[0m\u001b[0;34m\u001b[0m\u001b[0;34m\u001b[0m\u001b[0m\n\u001b[0m\u001b[1;32m     57\u001b[0m     \u001b[0mprint\u001b[0m\u001b[0;34m(\u001b[0m\u001b[0;34m\"current_k_effective \"\u001b[0m \u001b[0;34m+\u001b[0m \u001b[0mstr\u001b[0m\u001b[0;34m(\u001b[0m\u001b[0mcurrent_k_effective\u001b[0m\u001b[0;34m)\u001b[0m\u001b[0;34m)\u001b[0m\u001b[0;34m\u001b[0m\u001b[0;34m\u001b[0m\u001b[0m\n\u001b[1;32m     58\u001b[0m \u001b[0;34m\u001b[0m\u001b[0m\n",
      "\u001b[0;31mNameError\u001b[0m: name 'current_flux' is not defined"
     ]
    }
   ],
   "source": [
    "test_cylinder = ZCylinder(1, 5, 5)\n",
    "\n",
    "plane_5 = Plane(0, 0, 1, 5)\n",
    "plane_6 = Plane(0, 0, 1, -5)\n",
    "\n",
    "surfaces = [test_cylinder, plane_5, plane_6]\n",
    "signs = [-1, -1, +1]\n",
    "\n",
    "cylinder = Cell(surfaces, signs)\n",
    "new_particles = simulation(cylinder, 36, test_number_interations, test_number_of_particles, test_number_inactive, pu_23_cs)\n"
   ]
  },
  {
   "cell_type": "code",
   "execution_count": 613,
   "metadata": {},
   "outputs": [
    {
     "name": "stdout",
     "output_type": "stream",
     "text": [
      "8\n",
      "%%%%%%%%%%%%%%%%%%%%%\n",
      "direction\n",
      "0.13988039460510387 -0.8555610095727597 -0.4984464204946812\n",
      "coordinates\n",
      "-3.0  -3.0 -3.0\n",
      "%%%%%%%%%%%%%%%%%%%%%\n",
      "++++++++++++++++++++++\n",
      "direction\n",
      "0.13988039460510387 -0.8555610095727597 -0.4984464204946812\n",
      "coordinates\n",
      "-3.0  -3.0 -3.0\n",
      "--------------------------\n",
      "direction\n",
      "0.13988039460510387 -0.8555610095727597 0.21868563128447344\n",
      "coordinates\n",
      "-2.438874360757489  -6.432055076501522 -4.999501553579505\n",
      "%%%%%%%%%%%%%%%%%%%%%\n",
      "direction\n",
      "0.9774246565077324 0.031226923780914875 -0.20896392052677984\n",
      "coordinates\n",
      "-2.438874360757489  -6.432055076501522 -4.999501553579505\n",
      "%%%%%%%%%%%%%%%%%%%%%\n",
      "++++++++++++++++++++++\n",
      "direction\n",
      "0.9774246565077324 0.031226923780914875 -0.20896392052677984\n",
      "coordinates\n",
      "-2.438874360757489  -6.432055076501522 -4.999501553579505\n",
      "--------------------------\n",
      "direction\n",
      "0.9774246565077324 0.031226923780914875 -1.745885392488685\n",
      "coordinates\n",
      "-2.4375203120184397  -6.43201181712957 -4.999791036079473\n",
      "%%%%%%%%%%%%%%%%%%%%%\n",
      "direction\n",
      "0.46897867607701077 0.09797198325116832 0.8777587891231207\n",
      "coordinates\n",
      "-2.4375203120184397  -6.43201181712957 -4.999791036079473\n",
      "%%%%%%%%%%%%%%%%%%%%%\n",
      "++++++++++++++++++++++\n",
      "direction\n",
      "0.46897867607701077 0.09797198325116832 0.8777587891231207\n",
      "coordinates\n",
      "-2.4375203120184397  -6.43201181712957 -4.999791036079473\n",
      "--------------------------\n",
      "direction\n",
      "0.46897867607701077 0.09797198325116832 -1.815716141277142\n",
      "coordinates\n",
      "2.904809686952065  -5.315972449285465 4.999122241210876\n",
      "\n",
      "\n",
      "%%%%%%%%%%%%%%%%%%%%%\n",
      "direction\n",
      "-0.12940980468953114 -0.35940971550808193 -0.924163274994531\n",
      "coordinates\n",
      "0.0  -3.0 -3.0\n",
      "%%%%%%%%%%%%%%%%%%%%%\n",
      "++++++++++++++++++++++\n",
      "direction\n",
      "-0.12940980468953114 -0.35940971550808193 -0.924163274994531\n",
      "coordinates\n",
      "0.0  -3.0 -3.0\n",
      "--------------------------\n",
      "direction\n",
      "-0.12940980468953114 -0.35940971550808193 1.1829828843735932\n",
      "coordinates\n",
      "-0.2799289049780462  -3.777446255652895 -4.999075836725005\n",
      "%%%%%%%%%%%%%%%%%%%%%\n",
      "direction\n",
      "0.4469058755974746 -0.7547622985425566 -0.480217670494549\n",
      "coordinates\n",
      "-0.2799289049780462  -3.777446255652895 -4.999075836725005\n",
      "%%%%%%%%%%%%%%%%%%%%%\n",
      "++++++++++++++++++++++\n",
      "direction\n",
      "0.4469058755974746 -0.7547622985425566 -0.480217670494549\n",
      "coordinates\n",
      "-0.2799289049780462  -3.777446255652895 -4.999075836725005\n",
      "--------------------------\n",
      "direction\n",
      "0.4469058755974746 -0.7547622985425566 -0.41359408070040016\n",
      "coordinates\n",
      "-0.2795157550435748  -3.7781440088291482 -4.9995197823295054\n",
      "%%%%%%%%%%%%%%%%%%%%%\n",
      "direction\n",
      "-0.5309126744311097 -0.7974208899353437 0.2867954958208568\n",
      "coordinates\n",
      "-0.2795157550435748  -3.7781440088291482 -4.9995197823295054\n",
      "%%%%%%%%%%%%%%%%%%%%%\n",
      "++++++++++++++++++++++\n",
      "direction\n",
      "-0.5309126744311097 -0.7974208899353437 0.2867954958208568\n",
      "coordinates\n",
      "-0.2795157550435748  -3.7781440088291482 -4.9995197823295054\n",
      "--------------------------\n",
      "direction\n",
      "-0.5309126744311097 -0.7974208899353437 0.7750298530413626\n",
      "coordinates\n",
      "-18.789986123851843  -31.5805236947792 4.999713204504179\n",
      "\n",
      "\n",
      "%%%%%%%%%%%%%%%%%%%%%\n",
      "direction\n",
      "0.09645015284909884 -0.30711833225754925 0.9467711962278569\n",
      "coordinates\n",
      "-3.0  0.0 -3.0\n",
      "%%%%%%%%%%%%%%%%%%%%%\n",
      "++++++++++++++++++++++\n",
      "direction\n",
      "0.09645015284909884 -0.30711833225754925 0.9467711962278569\n",
      "coordinates\n",
      "-3.0  0.0 -3.0\n",
      "--------------------------\n",
      "direction\n",
      "0.09645015284909884 -0.30711833225754925 -1.1396715019260546\n",
      "coordinates\n",
      "-2.185114725035927  -2.5947725248269404 4.999053228803772\n",
      "\n",
      "\n",
      "%%%%%%%%%%%%%%%%%%%%%\n",
      "direction\n",
      "-0.6470747924158985 -0.5766720092680633 0.49874202424365316\n",
      "coordinates\n",
      "0.0  0.0 -3.0\n",
      "%%%%%%%%%%%%%%%%%%%%%\n",
      "++++++++++++++++++++++\n",
      "direction\n",
      "-0.6470747924158985 -0.5766720092680633 0.49874202424365316\n",
      "coordinates\n",
      "0.0  0.0 -3.0\n",
      "--------------------------\n",
      "direction\n",
      "-0.6470747924158985 -0.5766720092680633 0.7954075605881439\n",
      "coordinates\n",
      "-10.378663445867131  -9.249448090072358 4.999501257975757\n",
      "\n",
      "\n",
      "%%%%%%%%%%%%%%%%%%%%%\n",
      "direction\n",
      "-0.20861644512096672 0.9616466381354085 -0.1780868388959647\n",
      "coordinates\n",
      "-3.0  -3.0 0.0\n",
      "%%%%%%%%%%%%%%%%%%%%%\n",
      "++++++++++++++++++++++\n",
      "direction\n",
      "-0.20861644512096672 0.9616466381354085 -0.1780868388959647\n",
      "coordinates\n",
      "-3.0  -3.0 0.0\n",
      "--------------------------\n",
      "direction\n",
      "-0.20861644512096672 0.9616466381354085 0.5953197291378982\n",
      "coordinates\n",
      "-8.85694642135183  23.99841248165402 -4.999821913161104\n",
      "%%%%%%%%%%%%%%%%%%%%%\n",
      "direction\n",
      "0.08522293111488043 0.2570199094987366 -0.9626410640178662\n",
      "coordinates\n",
      "-8.85694642135183  23.99841248165402 -4.999821913161104\n",
      "%%%%%%%%%%%%%%%%%%%%%\n",
      "++++++++++++++++++++++\n",
      "direction\n",
      "0.08522293111488043 0.2570199094987366 -0.9626410640178662\n",
      "coordinates\n",
      "-8.85694642135183  23.99841248165402 -4.999821913161104\n",
      "--------------------------\n",
      "direction\n",
      "0.08522293111488043 0.2570199094987366 0.7921952017881053\n",
      "coordinates\n",
      "-8.857015878196322  23.998203009958416 -4.999037358935982\n",
      "%%%%%%%%%%%%%%%%%%%%%\n",
      "direction\n",
      "-0.8691518659150472 -0.13469183567327575 -0.47584991686387307\n",
      "coordinates\n",
      "-8.857015878196322  23.998203009958416 -4.999037358935982\n",
      "%%%%%%%%%%%%%%%%%%%%%\n",
      "++++++++++++++++++++++\n",
      "direction\n",
      "-0.8691518659150472 -0.13469183567327575 -0.47584991686387307\n",
      "coordinates\n",
      "-8.857015878196322  23.998203009958416 -4.999037358935982\n",
      "--------------------------\n",
      "direction\n",
      "-0.8691518659150472 -0.13469183567327575 2.2141536486939675\n",
      "coordinates\n",
      "-8.857905014495111  23.99806522114964 -4.999524150083136\n",
      "%%%%%%%%%%%%%%%%%%%%%\n",
      "direction\n",
      "0.5670600918340034 0.010285209272518374 -0.8236122065143474\n",
      "coordinates\n",
      "-8.857905014495111  23.99806522114964 -4.999524150083136\n",
      "%%%%%%%%%%%%%%%%%%%%%\n",
      "++++++++++++++++++++++\n",
      "direction\n",
      "0.5670600918340034 0.010285209272518374 -0.8236122065143474\n",
      "coordinates\n",
      "-8.857905014495111  23.99806522114964 -4.999524150083136\n",
      "--------------------------\n",
      "direction\n",
      "0.5670600918340034 0.010285209272518374 -0.3105079771536594\n",
      "coordinates\n",
      "-8.858144450135265  23.998060878319485 -4.999176387793486\n",
      "\n",
      "\n",
      "%%%%%%%%%%%%%%%%%%%%%\n",
      "direction\n",
      "0.3619752017801306 0.8537158056942091 -0.37435715086548166\n",
      "coordinates\n",
      "0.0  -3.0 0.0\n",
      "%%%%%%%%%%%%%%%%%%%%%\n",
      "++++++++++++++++++++++\n",
      "direction\n",
      "0.3619752017801306 0.8537158056942091 -0.37435715086548166\n",
      "coordinates\n",
      "0.0  -3.0 0.0\n",
      "--------------------------\n",
      "direction\n",
      "0.3619752017801306 0.8537158056942091 -0.34959325269477953\n",
      "coordinates\n",
      "1.274850870100407  0.006726240790438709 -1.3184592125707482\n"
     ]
    },
    {
     "ename": "AssertionError",
     "evalue": "",
     "output_type": "error",
     "traceback": [
      "\u001b[0;31m---------------------------------------------------------------------------\u001b[0m",
      "\u001b[0;31mAssertionError\u001b[0m                            Traceback (most recent call last)",
      "\u001b[0;32m<ipython-input-613-725635d2a6f7>\u001b[0m in \u001b[0;36m<module>\u001b[0;34m\u001b[0m\n\u001b[1;32m      8\u001b[0m \u001b[0;34m\u001b[0m\u001b[0m\n\u001b[1;32m      9\u001b[0m \u001b[0mcylinder\u001b[0m \u001b[0;34m=\u001b[0m \u001b[0mCell\u001b[0m\u001b[0;34m(\u001b[0m\u001b[0msurfaces\u001b[0m\u001b[0;34m,\u001b[0m \u001b[0msigns\u001b[0m\u001b[0;34m)\u001b[0m\u001b[0;34m\u001b[0m\u001b[0;34m\u001b[0m\u001b[0m\n\u001b[0;32m---> 10\u001b[0;31m \u001b[0mnew_particles\u001b[0m \u001b[0;34m=\u001b[0m \u001b[0msimulation\u001b[0m\u001b[0;34m(\u001b[0m\u001b[0mcylinder\u001b[0m\u001b[0;34m,\u001b[0m \u001b[0;36m12\u001b[0m\u001b[0;34m,\u001b[0m \u001b[0mtest_number_interations\u001b[0m\u001b[0;34m,\u001b[0m \u001b[0mtest_number_of_particles\u001b[0m\u001b[0;34m,\u001b[0m \u001b[0mtest_number_inactive\u001b[0m\u001b[0;34m,\u001b[0m \u001b[0mpu_23_cs\u001b[0m\u001b[0;34m)\u001b[0m\u001b[0;34m\u001b[0m\u001b[0;34m\u001b[0m\u001b[0m\n\u001b[0m",
      "\u001b[0;32m<ipython-input-602-7ef09040d212>\u001b[0m in \u001b[0;36msimulation\u001b[0;34m(universe, cell_volume, number_interations, number_of_particles, number_inactive, c_s)\u001b[0m\n\u001b[1;32m     23\u001b[0m             \u001b[0mbatch_particles\u001b[0m\u001b[0;34m.\u001b[0m\u001b[0mappend\u001b[0m\u001b[0;34m(\u001b[0m\u001b[0mterminate_particle\u001b[0m\u001b[0;34m)\u001b[0m\u001b[0;34m\u001b[0m\u001b[0;34m\u001b[0m\u001b[0m\n\u001b[1;32m     24\u001b[0m             \u001b[0;32mif\u001b[0m \u001b[0;34m(\u001b[0m\u001b[0mj\u001b[0m \u001b[0;34m==\u001b[0m \u001b[0;36m5\u001b[0m\u001b[0;34m)\u001b[0m\u001b[0;34m:\u001b[0m\u001b[0;34m\u001b[0m\u001b[0;34m\u001b[0m\u001b[0m\n\u001b[0;32m---> 25\u001b[0;31m                 \u001b[0;32massert\u001b[0m\u001b[0;34m(\u001b[0m\u001b[0;32mFalse\u001b[0m\u001b[0;34m)\u001b[0m\u001b[0;34m\u001b[0m\u001b[0;34m\u001b[0m\u001b[0m\n\u001b[0m\u001b[1;32m     26\u001b[0m \u001b[0;34m\u001b[0m\u001b[0m\n\u001b[1;32m     27\u001b[0m             \u001b[0mprint\u001b[0m\u001b[0;34m(\u001b[0m\u001b[0;34m)\u001b[0m\u001b[0;34m\u001b[0m\u001b[0;34m\u001b[0m\u001b[0m\n",
      "\u001b[0;31mAssertionError\u001b[0m: "
     ]
    }
   ],
   "source": [
    "test_cylinder = ZCylinder(1, 5, 5)\n",
    "\n",
    "plane_5 = Plane(0, 0, 1, 5)\n",
    "plane_6 = Plane(0, 0, 1, -5)\n",
    "\n",
    "surfaces = [test_cylinder, plane_5, plane_6]\n",
    "signs = [-1, -1, +1]\n",
    "\n",
    "cylinder = Cell(surfaces, signs)\n",
    "new_particles = simulation(cylinder, 12, test_number_interations, test_number_of_particles, test_number_inactive, pu_23_cs)\n"
   ]
  },
  {
   "cell_type": "code",
   "execution_count": 168,
   "metadata": {},
   "outputs": [
    {
     "name": "stdout",
     "output_type": "stream",
     "text": [
      "8000\n",
      "3335\n",
      "10912\n"
     ]
    }
   ],
   "source": [
    "x_5 = Plane(0, 1, 0, 3)\n",
    "x_m5 = Plane(0, 1, 0, -3)\n",
    "\n",
    "y_5 = Plane(1, 0, 0, 3)\n",
    "y_m5 = Plane(1, 0, 0, -3)\n",
    "\n",
    "\n",
    "\n",
    "surfaces = [x_5, x_m5, y_5, y_m5]\n",
    "signs = [-1, +1, -1, +1]\n",
    "club = Cell(surfaces, signs)\n",
    "new_particles = simulation(cylinder, 10, test_number_interations, test_number_of_particles, test_number_inactive, pu_23_cs)\n"
   ]
  },
  {
   "cell_type": "code",
   "execution_count": 42,
   "metadata": {},
   "outputs": [
    {
     "data": {
      "text/plain": [
       "4.542175"
      ]
     },
     "execution_count": 42,
     "metadata": {},
     "output_type": "execute_result"
    }
   ],
   "source": [
    "3.063725 + 1.478450"
   ]
  },
  {
   "cell_type": "code",
   "execution_count": null,
   "metadata": {},
   "outputs": [],
   "source": []
  }
 ],
 "metadata": {
  "kernelspec": {
   "display_name": "Python 3",
   "language": "python",
   "name": "python3"
  },
  "language_info": {
   "codemirror_mode": {
    "name": "ipython",
    "version": 3
   },
   "file_extension": ".py",
   "mimetype": "text/x-python",
   "name": "python",
   "nbconvert_exporter": "python",
   "pygments_lexer": "ipython3",
   "version": "3.8.5"
  }
 },
 "nbformat": 4,
 "nbformat_minor": 4
}
