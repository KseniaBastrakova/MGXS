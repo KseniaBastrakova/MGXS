{
 "cells": [
  {
   "cell_type": "code",
   "execution_count": 1,
   "metadata": {},
   "outputs": [],
   "source": [
    "cs_fission_pu_239 = [0.08544, 0.0936]\n",
    "\n",
    "cs_capture_pu_239 = [0.0144, 0.00480]\n",
    "\n",
    "cs_scattering_pu_239 = [[0.23616, 0.0], [0.0432, 0.0792]]\n",
    "\n",
    "cs_total_pu_239 = [0.3360, 0.2208]\n",
    "\n",
    "cs_production_neutrons_pu_239 = [2.93, 3.10]\n",
    "\n",
    "cs_xi_table_pu_239 = [ 0.425, 0.575]\n",
    "\n",
    "\n",
    "#pu_239 = Sig(2, cs_fission_pu_239, cs_capture_pu_239, cs_scattering_pu_239, \n",
    " #                      cs_production_neutrons_pu_239,  cs_xi_table_pu_239, cs_total_pu_239)\n",
    "\n",
    "\n",
    "energy_groups_2 = [0, 2 * 1E10]"
   ]
  },
  {
   "cell_type": "code",
   "execution_count": 2,
   "metadata": {},
   "outputs": [],
   "source": [
    "cs_fission_pu_239 = [0.9, 0.06, 0.006]\n",
    "\n",
    "cs_capture_pu_239 = [0.2, 0.04, 0.006]\n",
    "\n",
    "cs_scattering_pu_239 = [[2.0, 0.0, 0.0], [0.275, 0.6, 0.0], [0.033, 0.171, 0.024]]\n",
    "\n",
    "cs_total_pu_239 = [3.10, 0.975, 0.24]\n",
    "\n",
    "cs_production_neutrons_pu_239 = [2., 2.5, 3.]\n",
    "\n",
    "cs_xi_table_pu_239 = [0.0, 0.04, 0.96]\n",
    "\n",
    "\n",
    "#pu_239 = Sig(3, cs_fission_pu_239, cs_capture_pu_239, cs_scattering_pu_239, \n",
    " #                      cs_production_neutrons_pu_239,  cs_xi_table_pu_239, cs_total_pu_239)\n",
    "\n",
    "\n",
    "energy_groups_2 = [0, 2 * 1E10]"
   ]
  },
  {
   "cell_type": "code",
   "execution_count": null,
   "metadata": {},
   "outputs": [],
   "source": [
    "cs_fission_pu_239 = [0.006, 0.060, 0.90, 0.90, 0.060, 0.006]\n",
    "\n",
    "cs_capture_pu_239 = [0.006, 0.040, 0.20, 0.20, 0.040, 0.006]\n",
    "\n",
    "cs_scattering_pu_239 = [[0., 0., 0., 0.033, 0.171, 0.024], \n",
    "                        [0., 0., 0., 0.275, 0.6, 0.], \n",
    "                        [0., 0., 0., 2., 0., 0.],\n",
    "                        [0, 0., 2., 0., 0., 0.],\n",
    "                        [0.0, 0.6, 0.275, 0., 0., 0],\n",
    "                        [0.024, 0.171, 0.033, 0., 0., 0.]]\n",
    "\n",
    "cs_total_pu_239 = [0.240, 0.975, 3.10, 3.10, 0.975, 0.240]\n",
    "\n",
    "cs_production_neutrons_pu_239 = [3., 2.5 , 2., 2., 2.5, 3.]\n",
    "\n",
    "cs_xi_table_pu_239 = [0.48, 0.02, 0., 0., 0.02, 0.48]\n",
    "\n",
    "\n",
    "pu_239 = Sig(6, cs_fission_pu_239, cs_capture_pu_239, cs_scattering_pu_239, \n",
    "                       cs_production_neutrons_pu_239,  cs_xi_table_pu_239, cs_total_pu_239)\n",
    "\n",
    "\n",
    "energy_groups_2 = [0, 2 * 1E10]"
   ]
  }
 ],
 "metadata": {
  "kernelspec": {
   "display_name": "Python 3",
   "language": "python",
   "name": "python3"
  },
  "language_info": {
   "codemirror_mode": {
    "name": "ipython",
    "version": 3
   },
   "file_extension": ".py",
   "mimetype": "text/x-python",
   "name": "python",
   "nbconvert_exporter": "python",
   "pygments_lexer": "ipython3",
   "version": "3.8.5"
  }
 },
 "nbformat": 4,
 "nbformat_minor": 4
}
